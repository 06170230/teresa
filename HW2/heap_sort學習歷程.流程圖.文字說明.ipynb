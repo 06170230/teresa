{
 "cells": [
  {
   "cell_type": "code",
   "execution_count": null,
   "metadata": {},
   "outputs": [],
   "source": [
    "參考網址：https://youtu.be/j-DqQcNPGbE"
   ]
  },
  {
   "cell_type": "code",
   "execution_count": null,
   "metadata": {},
   "outputs": [],
   "source": [
    "heap_sort 流程圖"
   ]
  },
  {
   "cell_type": "code",
   "execution_count": 1,
   "metadata": {},
   "outputs": [
    {
     "data": {
      "text/html": [
       "<img src=\"https://github.com/Teresakao0421/teresa/blob/master/heap%20sort/圖片/heap_sort流程圖.jpg?raw=true\"/>"
      ],
      "text/plain": [
       "<IPython.core.display.Image object>"
      ]
     },
     "execution_count": 1,
     "metadata": {},
     "output_type": "execute_result"
    }
   ],
   "source": [
    "from IPython.display import Image\n",
    "from IPython.core.display import HTML\n",
    "Image(url= \"https://github.com/Teresakao0421/teresa/blob/master/heap%20sort/圖片/heap_sort流程圖.jpg?raw=true\")"
   ]
  },
  {
   "cell_type": "code",
   "execution_count": 4,
   "metadata": {},
   "outputs": [],
   "source": [
    "首先 先將這個序列做個堆排序\n",
    "先把整個邏輯試著寫寫看"
   ]
  },
  {
   "cell_type": "code",
   "execution_count": null,
   "metadata": {},
   "outputs": [],
   "source": [
    "if tree[第一個孩子]>tree[父節點]:\n",
    "    max=第一個孩子\n",
    "if tree[第二個孩子]>tree[max]:\n",
    "    max=第二個孩子\n",
    "    \n",
    "但如果max不是我假設的父節點，就要進行交換\n",
    "\n",
    "swap的用法：\n",
    "tree[a],tree[b] = tree[b],tree[a]    "
   ]
  },
  {
   "cell_type": "code",
   "execution_count": null,
   "metadata": {},
   "outputs": [],
   "source": [
    "概念大概是這樣，開始寫程式碼："
   ]
  },
  {
   "cell_type": "code",
   "execution_count": null,
   "metadata": {},
   "outputs": [],
   "source": [
    "def heapify(tree,n,i):#n代表節點#i代表對這個index做操作\n",
    "    if i >= n:#i一定要小於n，這是一個出口必須定義。\n",
    "        return tree\n",
    "    c1 = 2*i + 1\n",
    "    c2 = 2*i + 2\n",
    "    max = i\n",
    "    \n",
    "    if tree[c1] > tree[max]:\n",
    "        max = c1\n",
    "    if tree[c2] > tree [max]:\n",
    "        max = c2\n",
    "        #這段就可以找到最大值\n",
    "    if max != i:#如果max不等於i的話要進行交換順序\n",
    "        tree[max], tree[i] = tree[i], tree[max] #交換順序#由n改成max才對\n",
    "        heapify(tree,n,max)"
   ]
  },
  {
   "cell_type": "code",
   "execution_count": null,
   "metadata": {},
   "outputs": [],
   "source": [
    "但這裡應該要求說 c1跟c2都不會出界 所以我補上，在接下來加個測值："
   ]
  },
  {
   "cell_type": "code",
   "execution_count": 5,
   "metadata": {},
   "outputs": [
    {
     "name": "stdout",
     "output_type": "stream",
     "text": [
      "10\n",
      "5\n",
      "3\n",
      "4\n",
      "1\n",
      "2\n"
     ]
    }
   ],
   "source": [
    "def heapify(tree,n,i):#n代表節點#i代表對這個index做操作\n",
    "    if i >= n:#i一定要小於n，這是一個出口必須定義。\n",
    "        return tree\n",
    "    c1 = 2*i + 1\n",
    "    c2 = 2*i + 2\n",
    "    max = i\n",
    "    \n",
    "    if c1 < n and tree[c1] > tree[max]:#c1<n是為了保證c1不會出界\n",
    "        max = c1\n",
    "    if c2 < n and tree[c2] > tree [max]:#c2<n是為了保證c2不會出界\n",
    "        max = c2\n",
    "        #這段就可以找到最大值\n",
    "    if max != i:#如果max不等於i的話要進行交換順序\n",
    "        tree[max], tree[i] = tree[i], tree[max] #交換順序#由n改成max才對\n",
    "        heapify(tree,n,max)#這邊應該改成n節點，max代表操作的index。剛剛寫反很離譜！\n",
    "        #進行測試\n",
    "tree=[4,10,3,5,1,2]\n",
    "n==6\n",
    "heapify(tree,n,0)\n",
    "for i in range(n):\n",
    "    print(\"%d\" %tree[i])"
   ]
  },
  {
   "cell_type": "code",
   "execution_count": 6,
   "metadata": {},
   "outputs": [],
   "source": [
    "再來建造我的build_heap"
   ]
  },
  {
   "cell_type": "code",
   "execution_count": 13,
   "metadata": {},
   "outputs": [],
   "source": [
    "def build_heap(tree,n):\n",
    "    n = len(tree)\n",
    "    last_node = n - 1\n",
    "    parent = (n - 1 - 1) //2#這棵樹最後一個節點，然後求他的parent #向下取整數法\n",
    "    for parent in range(parent,-1,-1):#parent從這個節點出發！開始往回跑！\n",
    "        heapify(tree,n,parent) #這邊就不用改成parent了"
   ]
  },
  {
   "cell_type": "code",
   "execution_count": null,
   "metadata": {},
   "outputs": [],
   "source": [
    "隨便給個數來做測試："
   ]
  },
  {
   "cell_type": "code",
   "execution_count": null,
   "metadata": {},
   "outputs": [],
   "source": [
    "def build_heap(tree,n):\n",
    "    n = len(tree)\n",
    "    last_node = n - 1\n",
    "    parent = (n - 1 - 1) //2#這棵樹最後一個節點，然後求他的parent #向下取整數法\n",
    "    for parent in range(parent,-1,-1):#parent從這個節點出發！開始往回跑！\n",
    "        heapify(tree,n,parent) #這邊就不用改成parent了\n",
    "tree=[2,5,3,1,10,4]\n",
    "n==6\n",
    "build_heap(tree,n)\n",
    "for parent in range(n):\n",
    "    print(\"%d\" %tree[parent])        "
   ]
  },
  {
   "cell_type": "code",
   "execution_count": 14,
   "metadata": {},
   "outputs": [],
   "source": [
    "這一步要把他們做個結合，因為是一個一直重複的動作，我先思考一下，建立一個heapify但是他卻只能保證一個節點符合這個堆的性質\n",
    "所以我剛剛又建立了build_heap 才能完整。那這樣我先建個heap_sort讓他跑跑看好了。"
   ]
  },
  {
   "cell_type": "code",
   "execution_count": 15,
   "metadata": {},
   "outputs": [],
   "source": [
    "def heap_sort(tree):#把n去掉\n",
    "    build_heap(tree,n)#建立一個堆\n",
    "    i = n - 1  #補上i=n-1&i>=0\n",
    "    for i in range(i,0,-1):#i從最後一個節點出發所以是n-1，一直到第0個節點\n",
    "        tree[0], tree[i] = tree[i], tree[0]#一樣做一個根結點跟後節點交換的動作，交換完畢砍斷再做一次heapify\n",
    "        heapify(tree,i,0)#由於原本的節點是由n來決定，但到後面其實節點數是不斷在減少的，所以其實是由i(剩下的節點數量)去主導。\n",
    "        #這邊有個補充：其實可以透過設定將節點在減少，所以砍斷的步驟其實是不需要寫出來的 "
   ]
  },
  {
   "cell_type": "code",
   "execution_count": null,
   "metadata": {},
   "outputs": [],
   "source": [
    "建完heap_sort 馬上給個測值："
   ]
  },
  {
   "cell_type": "code",
   "execution_count": 16,
   "metadata": {},
   "outputs": [
    {
     "name": "stdout",
     "output_type": "stream",
     "text": [
      "1\n",
      "2\n",
      "3\n",
      "4\n",
      "5\n",
      "10\n"
     ]
    }
   ],
   "source": [
    "def heap_sort(tree):#把n去掉\n",
    "    build_heap(tree,n)#建立一個堆\n",
    "    i = n - 1  #補上i=n-1&i>=0\n",
    "    for i in range(i,0,-1):#i從最後一個節點出發所以是n-1，一直到第0個節點\n",
    "        tree[0], tree[i] = tree[i], tree[0]#一樣做一個根結點跟後節點交換的動作，交換完畢砍斷再做一次heapify\n",
    "        heapify(tree,i,0)#由於原本的節點是由n來決定，但到後面其實節點數是不斷在減少的，所以其實是由i(剩下的節點數量)去主導。\n",
    "        #這邊有個補充：其實可以透過設定將節點在減少，所以砍斷的步驟其實是不需要寫出來的 \n",
    "tree=[2,5,3,1,10,4]\n",
    "heap_sort(tree)\n",
    "for i in range(n):\n",
    "    print(\"%d\" %tree[i])  "
   ]
  },
  {
   "cell_type": "code",
   "execution_count": null,
   "metadata": {},
   "outputs": [],
   "source": [
    "再把整個程式碼跑過試試看"
   ]
  },
  {
   "cell_type": "code",
   "execution_count": 8,
   "metadata": {},
   "outputs": [
    {
     "name": "stdout",
     "output_type": "stream",
     "text": [
      "Sorted array is\n",
      "7\n",
      "6\n",
      "5\n",
      "11\n",
      "13\n",
      "12\n"
     ]
    }
   ],
   "source": [
    "def heapify(tree,n,i):\n",
    "    if i >= n:\n",
    "        return tree\n",
    "    c1 = 2*i + 1\n",
    "    c2 = 2*i + 2\n",
    "    max = i\n",
    "    \n",
    "    if c1 < n and tree[c1] > tree[max]:#c1<n是為了保證c1不會出界\n",
    "        max = c1\n",
    "    if c2 < n and tree[c2] > tree [max]:#c2<n是為了保證c2不會出界\n",
    "        max = c2\n",
    "        #這段就可以找到最大值\n",
    "    if max != i:#如果max不等於i的話要進行交換順序\n",
    "        tree[i], tree[max] = tree[max], tree[i] #交換順序#由n改成max才對\n",
    "        heapify(tree,max,i)\n",
    "def build_heap(tree,n):\n",
    "    last_node = n - 1\n",
    "    parent = (last_node - 1) //2#向下取整數法\n",
    "    for i in range(parent,0,-1):\n",
    "        heapify(tree,n,i)    \n",
    "def heap_sort(tree):#把n去掉\n",
    "    n = len(tree)\n",
    "    build_heap(tree,n)\n",
    "    for i in range(n-1,0,-1):\n",
    "        tree[i], tree[0] = tree[0], tree[i]\n",
    "        heapify(tree,n,0)  \n",
    "tree = [ 12, 11, 13, 5, 6, 7] \n",
    "heap_sort(tree) \n",
    "n = len(tree) \n",
    "print (\"Sorted array is\") \n",
    "for i in range(n):\n",
    "    print (\"%d\" %tree[i])        "
   ]
  },
  {
   "cell_type": "code",
   "execution_count": null,
   "metadata": {},
   "outputs": [],
   "source": [
    "結果卻完全沒跑對.....\n",
    "開始往上找找出最後一行應該是 由於原本的節點是由n來決定，但到後面其實節點數是不斷在減少的，所以其實是由i去主導，而改成i \n",
    "試試看"
   ]
  },
  {
   "cell_type": "code",
   "execution_count": 9,
   "metadata": {},
   "outputs": [
    {
     "name": "stdout",
     "output_type": "stream",
     "text": [
      "5\n",
      "6\n",
      "7\n",
      "11\n",
      "13\n",
      "12\n"
     ]
    }
   ],
   "source": [
    "def heapify(tree,n,i):#n代表節點#i代表對這個index做操作\n",
    "    if i >= n:#i一定要小於n，這是一個出口必須定義。\n",
    "        return tree\n",
    "    c1 = 2*i + 1\n",
    "    c2 = 2*i + 2\n",
    "    max = i\n",
    "    \n",
    "    if c1 < n and tree[c1] > tree[max]:#c1<n是為了保證c1不會出界\n",
    "        max = c1\n",
    "    if c2 < n and tree[c2] > tree [max]:#c2<n是為了保證c2不會出界\n",
    "        max = c2\n",
    "        #這段就可以找到最大值\n",
    "    if max != i:#如果max不等於i的話要進行交換順序\n",
    "        tree[max], tree[i] = tree[i], tree[max] #交換順序#由n改成max才對\n",
    "        heapify(tree,n,max)#這邊應該改成n節點，max代表操作的index。剛剛寫反很離譜！\n",
    "def build_heap(tree,n):\n",
    "    last_node = n - 1\n",
    "    parent = (last_node - 1) //2#這棵樹最後一個節點，然後求他的parent #向下取整數法\n",
    "    for i in range(parent,-1,-1):#parent-1從這個節點出發！開始往回跑！\n",
    "        heapify(tree,n,parent) #把i改成parent   \n",
    "def heap_sort(tree):#把n去掉\n",
    "    n = len(tree)\n",
    "    build_heap(tree,n)\n",
    "    for i in range(n-1,0,-1):\n",
    "        tree[i], tree[0] = tree[0], tree[i]\n",
    "        heapify(tree,i,0)#由於原本的節點是由n來決定，但到後面其實節點數是不斷在減少的，所以其實是由i去主導，而改成i    \n",
    "tree = [ 12, 11, 13, 5, 6, 7] \n",
    "heap_sort(tree) \n",
    "n = len(tree)  \n",
    "for i in range(n):\n",
    "    print (\"%d\" %tree[i])        "
   ]
  },
  {
   "cell_type": "code",
   "execution_count": null,
   "metadata": {},
   "outputs": [],
   "source": [
    "i從最後一個節點出發所以是n-1，一直到第0個節點 "
   ]
  },
  {
   "cell_type": "code",
   "execution_count": 12,
   "metadata": {},
   "outputs": [
    {
     "name": "stdout",
     "output_type": "stream",
     "text": [
      "1\n",
      "2\n",
      "3\n",
      "4\n",
      "5\n",
      "10\n"
     ]
    }
   ],
   "source": [
    "def heapify(tree,n,i):#n代表節點#i代表對這個index做操作\n",
    "    if i >= n:#i一定要小於n，這是一個出口必須定義。\n",
    "        return tree\n",
    "    c1 = 2*i + 1\n",
    "    c2 = 2*i + 2\n",
    "    max = i\n",
    "    \n",
    "    if c1 < n and tree[c1] > tree[max]:#c1<n是為了保證c1不會出界\n",
    "        max = c1\n",
    "    if c2 < n and tree[c2] > tree [max]:#c2<n是為了保證c2不會出界\n",
    "        max = c2\n",
    "        #這段就可以找到最大值\n",
    "    if max != i:#如果max不等於i的話要進行交換順序\n",
    "        tree[max], tree[i] = tree[i], tree[max] #交換順序#由n改成max才對\n",
    "        heapify(tree,n,max)#這邊應該改成n節點，max代表操作的index。剛剛寫反很離譜！\n",
    "def build_heap(tree,n):\n",
    "    n = len(tree)\n",
    "    last_node = n - 1\n",
    "    parent = (n - 1 - 1) //2#這棵樹最後一個節點，然後求他的parent #向下取整數法\n",
    "    for parent in range(parent,-1,-1):#parent從這個節點出發！開始往回跑！\n",
    "        heapify(tree,n,parent) #這邊就不用改成parent了  \n",
    "def heap_sort(tree):#把n去掉\n",
    "    build_heap(tree,n)#建立一個堆\n",
    "    i = n - 1   #補上i=n-1&i>=0\n",
    "    for i in range(i,0,-1):#i從最後一個節點出發所以是n-1，一直到第0個節點\n",
    "        tree[0], tree[i] = tree[i], tree[0]#一樣做一個根結點跟後節點交換的動作，交換完畢砍斷再做一次heapify\n",
    "        heapify(tree,i,0)#由於原本的節點是由n來決定，但到後面其實節點數是不斷在減少的，所以其實是由i(剩下的節點數量)去主導。\n",
    "        #這邊有個補充：其實可以透過設定將節點在減少，所以砍斷的步驟其實是不需要寫出來的\n",
    "tree=[2,5,3,1,10,4]\n",
    "heap_sort(tree)\n",
    "for i in range(n):\n",
    "    print(\"%d\" %tree[i])        "
   ]
  },
  {
   "cell_type": "code",
   "execution_count": null,
   "metadata": {},
   "outputs": [],
   "source": [
    "以上就成功了！再來只需把格式改成助教要求的即可\n",
    "嘗試了很多遍，由於我的n有些指定在區域內，所以在跑的時候其實出很多錯誤，不管是再次定義，或是沒定義到，這些錯誤都跑出來過\n",
    "於是詢問同學後決定使用另一個程式，pycharm，找尋錯誤。得到以下結果。"
   ]
  },
  {
   "cell_type": "code",
   "execution_count": 17,
   "metadata": {},
   "outputs": [
    {
     "name": "stdout",
     "output_type": "stream",
     "text": [
      "[-4, 4, 5, 6, 12, 80]\n"
     ]
    }
   ],
   "source": [
    "class Solution(object):\n",
    "    def heap_sort(self, nums):\n",
    "        self.build_heap(nums)  # 建立一個堆\n",
    "        i = len(nums) - 1  # 補上i=n-1&i>=0\n",
    "        for i in range(i, 0, -1):  # i從最後一個節點出發所以是n-1，一直到第0個節點\n",
    "            nums[0], nums[i] = nums[i], nums[0]  # 一樣做一個根結點跟後節點交換的動作，交換完畢砍斷再做一次heapify\n",
    "            self.heapify(nums, i, 0)  # 由於原本的節點是由n來決定，但到後面其實節點數是不斷在減少的，所以其實是由i(剩下的節點數量)去主導。\n",
    "\n",
    "        return nums\n",
    "\n",
    "    def build_heap(self, nums):\n",
    "        n = len(nums)\n",
    "        last_node = n - 1\n",
    "        parent = (n - 1 - 1) // 2  # 這棵樹最後一個節點，然後求他的parent #向下取整數法\n",
    "        for parent in range(parent, -1, -1):  # parent從這個節點出發！開始往回跑！\n",
    "            self.heapify(nums, n, parent)  # 這邊就不用改成parent了\n",
    "\n",
    "    def heapify(self, nums, n, i):\n",
    "        if i >= n:  # i一定要小於n，這是一個出口必須定義。\n",
    "            return nums\n",
    "\n",
    "        c1 = 2 * i + 1\n",
    "        c2 = 2 * i + 2\n",
    "        max = i\n",
    "\n",
    "        if c1 < n and nums[c1] > nums[max]:  # c1<n是為了保證c1不會出界\n",
    "            max = c1\n",
    "        if c2 < n and nums[c2] > nums[max]:  # c2<n是為了保證c2不會出界\n",
    "            max = c2\n",
    "            # 這段就可以找到最大值\n",
    "        if max != i:  # 如果max不等於i的話要進行交換順序\n",
    "            nums[max], nums[i] = nums[i], nums[max]  # 交換順序#由n改成max才對\n",
    "            self.heapify(nums, n, max)  # 這邊應該改成n節點，max代表操作的index。剛剛寫反很離譜！\n",
    "\n",
    "\n",
    "a = [4, 5, 6, -4, 80, 12]\n",
    "x = Solution().heap_sort(a)\n",
    "print(x)"
   ]
  },
  {
   "cell_type": "code",
   "execution_count": null,
   "metadata": {},
   "outputs": [],
   "source": []
  }
 ],
 "metadata": {
  "kernelspec": {
   "display_name": "Python 3",
   "language": "python",
   "name": "python3"
  },
  "language_info": {
   "codemirror_mode": {
    "name": "ipython",
    "version": 3
   },
   "file_extension": ".py",
   "mimetype": "text/x-python",
   "name": "python",
   "nbconvert_exporter": "python",
   "pygments_lexer": "ipython3",
   "version": "3.6.4"
  }
 },
 "nbformat": 4,
 "nbformat_minor": 2
}
