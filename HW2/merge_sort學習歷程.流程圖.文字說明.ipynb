{
 "cells": [
  {
   "cell_type": "code",
   "execution_count": null,
   "metadata": {},
   "outputs": [],
   "source": [
    "參考資料：https://youtu.be/KT4d81e0QV4"
   ]
  },
  {
   "cell_type": "code",
   "execution_count": null,
   "metadata": {},
   "outputs": [],
   "source": [
    "merge_sort 流程圖："
   ]
  },
  {
   "cell_type": "code",
   "execution_count": 2,
   "metadata": {},
   "outputs": [
    {
     "data": {
      "text/html": [
       "<img src=\"https://github.com/Teresakao0421/teresa/blob/master/merge%20sort/圖片%20merge%20sort/mergesort流程圖.jpg?raw=true\"/>"
      ],
      "text/plain": [
       "<IPython.core.display.Image object>"
      ]
     },
     "execution_count": 2,
     "metadata": {},
     "output_type": "execute_result"
    }
   ],
   "source": [
    "from IPython.display import Image\n",
    "from IPython.core.display import HTML\n",
    "Image(url= \"https://github.com/Teresakao0421/teresa/blob/master/merge%20sort/圖片%20merge%20sort/mergesort流程圖.jpg?raw=true\")"
   ]
  },
  {
   "cell_type": "code",
   "execution_count": null,
   "metadata": {},
   "outputs": [],
   "source": [
    "我的想法是 先定義一個merge_sort 他有的條件為：sequence裡面有begin跟end的變數"
   ]
  },
  {
   "cell_type": "code",
   "execution_count": null,
   "metadata": {},
   "outputs": [],
   "source": [
    "def merge_sort(sequence,beg,end):\n",
    "    middle = (beg+end)//2\n",
    "    merge_sort(sequence,beg,middle)\n",
    "    merge_sort(sequence,middle,end)\n",
    "    merge_sequence(sequence,beg,middle,end)"
   ]
  },
  {
   "cell_type": "code",
   "execution_count": null,
   "metadata": {},
   "outputs": [],
   "source": [
    "但是要分割的話，我必須找一個中間值，來當作中點才能去做比較。\n",
    "所以我在原本的merge_sort()去自訂一個中點，我稱為middle\n",
    "第一部分是從最前面到中間#merge_sort(sequence, begin, middle) \n",
    "第二部分是從中間到最後面#merge_sort(sequence, middle, end)\n",
    "但是！這裡的觀念是：要讓這兩個部分一直分下去！他會分到剩一個一個，然後再慢慢拼湊起來。\n",
    "\n",
    "再來的結合版，是把原本的假設再多加一個middle進去\n",
    "但我還沒定義，只是先告知"
   ]
  },
  {
   "cell_type": "code",
   "execution_count": 8,
   "metadata": {},
   "outputs": [
    {
     "ename": "SyntaxError",
     "evalue": "invalid syntax (<ipython-input-8-678b4b896664>, line 8)",
     "output_type": "error",
     "traceback": [
      "\u001b[0;36m  File \u001b[0;32m\"<ipython-input-8-678b4b896664>\"\u001b[0;36m, line \u001b[0;32m8\u001b[0m\n\u001b[0;31m    while (begin + l < middle)#seq的首位置再往後推一個位置\u001b[0m\n\u001b[0m                                              ^\u001b[0m\n\u001b[0;31mSyntaxError\u001b[0m\u001b[0;31m:\u001b[0m invalid syntax\n"
     ]
    }
   ],
   "source": [
    "def merge_sequence(sequence,begin,middle,end):\n",
    "    left = sequence[begin:middle]\n",
    "    right = sequence[middle:end]\n",
    "    b = begin #b相當於我這個sequence數列的首位置\n",
    "    l = 0   #l相當於我這個第一部分的首位置\n",
    "    r = 0   #r相當於我這個第二部分的首位置\n",
    "#以下開始進行分割的假設。    \n",
    "    while (begin + l < middle)#seq的首位置再往後推一個位置\n",
    "        if (left[l] <= middle):\n",
    "            sequence[b] = left[l]\n",
    "            l = l + 1\n",
    "        else:\n",
    "            sequence[b] = right[r]\n",
    "            r = r + 1\n",
    "        b = b + 1"
   ]
  },
  {
   "cell_type": "code",
   "execution_count": null,
   "metadata": {},
   "outputs": [],
   "source": [
    "剛剛上面的結合版我還沒定義：\n",
    "所以我應該要先定義\n",
    "再來清楚的描述：left是指從開始到中間 我就直接給他很明確的名稱叫做left左邊\n",
    "             right是指從中間到結尾 我也直接給很明確的名稱叫做right右邊\n",
    "    但是上面發現while (begin + l < middle) 出現語法錯誤\n",
    "    以下參考網路上的概念做一個更正："
   ]
  },
  {
   "cell_type": "code",
   "execution_count": null,
   "metadata": {},
   "outputs": [],
   "source": [
    "while (begin + l < middle < end):#seq的首位置再往後推一個位置 "
   ]
  },
  {
   "cell_type": "code",
   "execution_count": 3,
   "metadata": {},
   "outputs": [],
   "source": [
    "def merge_sequence(sequence,begin,middle,end):\n",
    "    left = sequence[begin:middle]\n",
    "    right = sequence[middle:end]\n",
    "    b = begin #b相當於我這個sequence數列的首位置\n",
    "    l = 0   #l相當於我這個第一部分的首位置\n",
    "    r = 0   #r相當於我這個第二部分的首位置\n",
    "    \n",
    "    while (begin + l < middle < end):#更正\n",
    "        if (left[l] <= middle):\n",
    "            sequence[b] = left[l]\n",
    "            l = l + 1\n",
    "        else:\n",
    "            sequence[b] = right[r]\n",
    "            r = r + 1\n",
    "        b = b + 1"
   ]
  },
  {
   "cell_type": "code",
   "execution_count": null,
   "metadata": {},
   "outputs": [],
   "source": [
    "ok 沒出現錯誤那就繼續"
   ]
  },
  {
   "cell_type": "code",
   "execution_count": null,
   "metadata": {},
   "outputs": [],
   "source": [
    "#這段顯示語法錯誤，我就開始思考說，我上面有想到說要加middle去做一個比較的概念去做分割，但我這裡是不是沒有寫到第二部分的比較！"
   ]
  },
  {
   "cell_type": "code",
   "execution_count": null,
   "metadata": {},
   "outputs": [],
   "source": [
    "#那改成 \n",
    "#while (begin + 1< middle and middle < end-r):\n",
    "    #在下面那行試試看："
   ]
  },
  {
   "cell_type": "code",
   "execution_count": 4,
   "metadata": {},
   "outputs": [],
   "source": [
    "def merge_sequence(sequence,begin,middle,end):\n",
    "    left = sequence[begin:middle]\n",
    "    right = sequence[middle:end]\n",
    "    b = begin #b相當於我這個sequence數列的首位置\n",
    "    l = 0   #l相當於我這個第一部分的首位置\n",
    "    r = 0   #r相當於我這個第二部分的首位置\n",
    "    \n",
    "    while (begin + 1< middle and middle < end): #seq的首位置再往後推一個位置.\n",
    "        if (left[l] <= middle + 1): #我這裡把它改成+1這樣才符合邏輯，但也不知道能不能執行的出來\n",
    "            sequence[b] = left[l]\n",
    "            l = l + 1"
   ]
  },
  {
   "cell_type": "code",
   "execution_count": 5,
   "metadata": {},
   "outputs": [],
   "source": [
    "def merge_sequence(sequence,begin,middle,end):\n",
    "    left = sequence[begin:middle]\n",
    "    right = sequence[middle:end]\n",
    "    b = begin #b相當於我這個sequence數列的首位置\n",
    "    l = 0   #l相當於我這個第一部分的首位置\n",
    "    r = 0   #r相當於我這個第二部分的首位置\n",
    "    while (begin + l < middle and middle < end):\n",
    "        if (left[l] <= right[r]):\n",
    "            sequence[b] = left[l]\n",
    "            l = l + 1\n",
    "            b = b + 1\n",
    "#既然寫了if那一定會有else,那我就延續剛剛的概念來寫,如果右邊的首數跟整列的首數一樣就是else.\n",
    "        else:\n",
    "            sequence[b] = right[r]\n",
    "            r = r + 1\n",
    "        b = b + 1"
   ]
  },
  {
   "cell_type": "code",
   "execution_count": null,
   "metadata": {},
   "outputs": [],
   "source": [
    "以上都很順利的沒出錯！"
   ]
  },
  {
   "cell_type": "code",
   "execution_count": null,
   "metadata": {},
   "outputs": [],
   "source": [
    "    if begin + l < middle:\n",
    "        while b < end:\n",
    "            sequence[b] = left[l]\n",
    "            l = l + 1\n",
    "            b = b + 1\n",
    "    else:\n",
    "        while b < end:\n",
    "            sequence[b] = right[r]\n",
    "            r = r + 1\n",
    "            b = b + 1"
   ]
  },
  {
   "cell_type": "code",
   "execution_count": 8,
   "metadata": {},
   "outputs": [],
   "source": [
    "#這邊觀念有點怪，如果待會有錯再回來改"
   ]
  },
  {
   "cell_type": "code",
   "execution_count": null,
   "metadata": {},
   "outputs": [],
   "source": [
    "sequence = input (\" enter includes spaces: \" ) .split()\n",
    "sequence = [int(y) for y in sequence]\n",
    "merge_sort(sequence, 0, len(sequence))\n",
    "print(\"sort_list:\", end=\"\")\n",
    "print(sequence)"
   ]
  },
  {
   "cell_type": "code",
   "execution_count": null,
   "metadata": {},
   "outputs": [],
   "source": [
    "#進行測試"
   ]
  },
  {
   "cell_type": "code",
   "execution_count": 9,
   "metadata": {},
   "outputs": [
    {
     "name": "stdout",
     "output_type": "stream",
     "text": [
      " enter includes spaces: 1 4 2 7 3\n"
     ]
    },
    {
     "ename": "RecursionError",
     "evalue": "maximum recursion depth exceeded",
     "output_type": "error",
     "traceback": [
      "\u001b[0;31m---------------------------------------------------------------------------\u001b[0m",
      "\u001b[0;31mRecursionError\u001b[0m                            Traceback (most recent call last)",
      "\u001b[0;32m<ipython-input-9-269adc10e775>\u001b[0m in \u001b[0;36m<module>\u001b[0;34m()\u001b[0m\n\u001b[1;32m     35\u001b[0m \u001b[0msequence\u001b[0m \u001b[0;34m=\u001b[0m \u001b[0minput\u001b[0m \u001b[0;34m(\u001b[0m\u001b[0;34m\" enter includes spaces: \"\u001b[0m \u001b[0;34m)\u001b[0m \u001b[0;34m.\u001b[0m\u001b[0msplit\u001b[0m\u001b[0;34m(\u001b[0m\u001b[0;34m)\u001b[0m\u001b[0;34m\u001b[0m\u001b[0m\n\u001b[1;32m     36\u001b[0m \u001b[0msequence\u001b[0m \u001b[0;34m=\u001b[0m \u001b[0;34m[\u001b[0m\u001b[0mint\u001b[0m\u001b[0;34m(\u001b[0m\u001b[0my\u001b[0m\u001b[0;34m)\u001b[0m \u001b[0;32mfor\u001b[0m \u001b[0my\u001b[0m \u001b[0;32min\u001b[0m \u001b[0msequence\u001b[0m\u001b[0;34m]\u001b[0m\u001b[0;34m\u001b[0m\u001b[0m\n\u001b[0;32m---> 37\u001b[0;31m \u001b[0mmerge_sort\u001b[0m\u001b[0;34m(\u001b[0m\u001b[0msequence\u001b[0m\u001b[0;34m,\u001b[0m \u001b[0;36m0\u001b[0m\u001b[0;34m,\u001b[0m \u001b[0mlen\u001b[0m\u001b[0;34m(\u001b[0m\u001b[0msequence\u001b[0m\u001b[0;34m)\u001b[0m\u001b[0;34m)\u001b[0m\u001b[0;34m\u001b[0m\u001b[0m\n\u001b[0m\u001b[1;32m     38\u001b[0m \u001b[0mprint\u001b[0m\u001b[0;34m(\u001b[0m\u001b[0;34m\"sort_list:\"\u001b[0m\u001b[0;34m,\u001b[0m \u001b[0mend\u001b[0m\u001b[0;34m=\u001b[0m\u001b[0;34m\"\"\u001b[0m\u001b[0;34m)\u001b[0m\u001b[0;34m\u001b[0m\u001b[0m\n\u001b[1;32m     39\u001b[0m \u001b[0mprint\u001b[0m\u001b[0;34m(\u001b[0m\u001b[0msequence\u001b[0m\u001b[0;34m)\u001b[0m\u001b[0;34m\u001b[0m\u001b[0m\n",
      "\u001b[0;32m<ipython-input-9-269adc10e775>\u001b[0m in \u001b[0;36mmerge_sort\u001b[0;34m(sequence, begin, end)\u001b[0m\n\u001b[1;32m      3\u001b[0m     \u001b[0;31m#if end - begin > 1:\u001b[0m\u001b[0;34m\u001b[0m\u001b[0;34m\u001b[0m\u001b[0m\n\u001b[1;32m      4\u001b[0m         \u001b[0mmiddle\u001b[0m \u001b[0;34m=\u001b[0m \u001b[0;34m(\u001b[0m\u001b[0mbegin\u001b[0m \u001b[0;34m+\u001b[0m \u001b[0mend\u001b[0m\u001b[0;34m)\u001b[0m\u001b[0;34m//\u001b[0m\u001b[0;36m2\u001b[0m\u001b[0;34m\u001b[0m\u001b[0m\n\u001b[0;32m----> 5\u001b[0;31m         \u001b[0mmerge_sort\u001b[0m\u001b[0;34m(\u001b[0m\u001b[0msequence\u001b[0m\u001b[0;34m,\u001b[0m \u001b[0mbegin\u001b[0m\u001b[0;34m,\u001b[0m \u001b[0mmiddle\u001b[0m\u001b[0;34m)\u001b[0m \u001b[0;31m#一個一個分開假設，對我來說會比較清楚\u001b[0m\u001b[0;34m\u001b[0m\u001b[0m\n\u001b[0m\u001b[1;32m      6\u001b[0m         \u001b[0mmerge_sort\u001b[0m\u001b[0;34m(\u001b[0m\u001b[0msequence\u001b[0m\u001b[0;34m,\u001b[0m \u001b[0mmiddle\u001b[0m\u001b[0;34m,\u001b[0m \u001b[0mend\u001b[0m\u001b[0;34m)\u001b[0m\u001b[0;34m\u001b[0m\u001b[0m\n\u001b[1;32m      7\u001b[0m         \u001b[0mmerge_sequence\u001b[0m\u001b[0;34m(\u001b[0m\u001b[0msequence\u001b[0m\u001b[0;34m,\u001b[0m \u001b[0mbegin\u001b[0m\u001b[0;34m,\u001b[0m \u001b[0mmiddle\u001b[0m\u001b[0;34m,\u001b[0m \u001b[0mend\u001b[0m\u001b[0;34m)\u001b[0m \u001b[0;31m#這是結合版\u001b[0m\u001b[0;34m\u001b[0m\u001b[0m\n",
      "... last 1 frames repeated, from the frame below ...\n",
      "\u001b[0;32m<ipython-input-9-269adc10e775>\u001b[0m in \u001b[0;36mmerge_sort\u001b[0;34m(sequence, begin, end)\u001b[0m\n\u001b[1;32m      3\u001b[0m     \u001b[0;31m#if end - begin > 1:\u001b[0m\u001b[0;34m\u001b[0m\u001b[0;34m\u001b[0m\u001b[0m\n\u001b[1;32m      4\u001b[0m         \u001b[0mmiddle\u001b[0m \u001b[0;34m=\u001b[0m \u001b[0;34m(\u001b[0m\u001b[0mbegin\u001b[0m \u001b[0;34m+\u001b[0m \u001b[0mend\u001b[0m\u001b[0;34m)\u001b[0m\u001b[0;34m//\u001b[0m\u001b[0;36m2\u001b[0m\u001b[0;34m\u001b[0m\u001b[0m\n\u001b[0;32m----> 5\u001b[0;31m         \u001b[0mmerge_sort\u001b[0m\u001b[0;34m(\u001b[0m\u001b[0msequence\u001b[0m\u001b[0;34m,\u001b[0m \u001b[0mbegin\u001b[0m\u001b[0;34m,\u001b[0m \u001b[0mmiddle\u001b[0m\u001b[0;34m)\u001b[0m \u001b[0;31m#一個一個分開假設，對我來說會比較清楚\u001b[0m\u001b[0;34m\u001b[0m\u001b[0m\n\u001b[0m\u001b[1;32m      6\u001b[0m         \u001b[0mmerge_sort\u001b[0m\u001b[0;34m(\u001b[0m\u001b[0msequence\u001b[0m\u001b[0;34m,\u001b[0m \u001b[0mmiddle\u001b[0m\u001b[0;34m,\u001b[0m \u001b[0mend\u001b[0m\u001b[0;34m)\u001b[0m\u001b[0;34m\u001b[0m\u001b[0m\n\u001b[1;32m      7\u001b[0m         \u001b[0mmerge_sequence\u001b[0m\u001b[0;34m(\u001b[0m\u001b[0msequence\u001b[0m\u001b[0;34m,\u001b[0m \u001b[0mbegin\u001b[0m\u001b[0;34m,\u001b[0m \u001b[0mmiddle\u001b[0m\u001b[0;34m,\u001b[0m \u001b[0mend\u001b[0m\u001b[0;34m)\u001b[0m \u001b[0;31m#這是結合版\u001b[0m\u001b[0;34m\u001b[0m\u001b[0m\n",
      "\u001b[0;31mRecursionError\u001b[0m: maximum recursion depth exceeded"
     ]
    }
   ],
   "source": [
    "def merge_sort(sequence, begin, end):\n",
    "   #從開始到結尾進行排序\n",
    "        middle = (begin + end)//2\n",
    "        merge_sort(sequence, begin, middle) #一個一個分開假設，對我來說會比較清楚\n",
    "        merge_sort(sequence, middle, end)\n",
    "        merge_sequence(sequence, begin, middle, end) #這是結合版\n",
    "\n",
    "def merge_sequence(sequence,begin,middle,end):\n",
    "    left = sequence[begin:middle]\n",
    "    right = sequence[middle:end]\n",
    "    b = begin \n",
    "    l = 0\n",
    "    r = 0\n",
    "    while (begin + l < middle < end - r):\n",
    "        if (left[l] < right[r]):\n",
    "            sequence[b] = left[l]\n",
    "            l = l + 1\n",
    "        else:\n",
    "            sequence[b] = right[r]\n",
    "            r = r + 1\n",
    "        b = b + 1\n",
    "   \n",
    "\n",
    "    if begin + 1 > middle:\n",
    "        while b < end:\n",
    "            sequence[b] = right[r]\n",
    "            r = r + 1\n",
    "            b = b + 1\n",
    "    else:\n",
    "        while b < end:\n",
    "            sequence[b] = left[l]\n",
    "            b = b + 1\n",
    "            l = l + 1\n",
    "sequence = input (\" enter includes spaces: \" ) .split()\n",
    "sequence = [int(y) for y in sequence]\n",
    "merge_sort(sequence, 0, len(sequence))\n",
    "print(\"sort_list:\", end=\"\")\n",
    "print(sequence)"
   ]
  },
  {
   "cell_type": "code",
   "execution_count": 10,
   "metadata": {},
   "outputs": [],
   "source": [
    "#超過最大遞歸深度"
   ]
  },
  {
   "cell_type": "code",
   "execution_count": 11,
   "metadata": {},
   "outputs": [],
   "source": [
    "while (begin + l < middle < end - r):\n",
    "        if (left[l] < right[r]):\n",
    "            sequence[b] = left[l]\n",
    "            l = l + 1\n",
    "        else:\n",
    "            sequence[b] = right[r]\n",
    "            r = r + 1\n",
    "        b = b + 1\n",
    "   \n",
    "\n",
    "    if begin + 1 > middle:\n",
    "        while b < end:\n",
    "            sequence[b] = right[r]\n",
    "            r = r + 1\n",
    "            b = b + 1\n",
    "    else:\n",
    "        while b < end:\n",
    "            sequence[b] = left[l]\n",
    "            b = b + 1\n",
    "            l = l + 1"
   ]
  },
  {
   "cell_type": "code",
   "execution_count": null,
   "metadata": {},
   "outputs": [],
   "source": [
    "這裡有個很大的問題就是：下面兩個邏輯是有衝突的，那我參考網路上的語法，我換個角度去思考試試看好了"
   ]
  },
  {
   "cell_type": "code",
   "execution_count": 1,
   "metadata": {},
   "outputs": [
    {
     "ename": "IndentationError",
     "evalue": "unindent does not match any outer indentation level (<tokenize>, line 11)",
     "output_type": "error",
     "traceback": [
      "\u001b[0;36m  File \u001b[0;32m\"<tokenize>\"\u001b[0;36m, line \u001b[0;32m11\u001b[0m\n\u001b[0;31m    if begin + 1 < middle:\u001b[0m\n\u001b[0m    ^\u001b[0m\n\u001b[0;31mIndentationError\u001b[0m\u001b[0;31m:\u001b[0m unindent does not match any outer indentation level\n"
     ]
    }
   ],
   "source": [
    "while (begin + l < middle < end - r):\n",
    "        if (left[l] < right[r]):\n",
    "            sequence[b] = left[l]\n",
    "            l = l + 1\n",
    "        else:\n",
    "            sequence[b] = right[r]\n",
    "            r = r + 1\n",
    "        b = b + 1\n",
    "   \n",
    "\n",
    "    if begin + 1 < middle:\n",
    "        while b < end:\n",
    "            sequence[b] = left[l]\n",
    "            l = l + 1\n",
    "            b = b + 1\n",
    "    else:\n",
    "        while b < end:\n",
    "            sequence[b] = right[r]\n",
    "            b = b + 1\n",
    "            r = r + 1"
   ]
  },
  {
   "cell_type": "code",
   "execution_count": 2,
   "metadata": {},
   "outputs": [
    {
     "name": "stdout",
     "output_type": "stream",
     "text": [
      " enter includes spaces: 1 4 2 1 7\n"
     ]
    },
    {
     "ename": "RecursionError",
     "evalue": "maximum recursion depth exceeded",
     "output_type": "error",
     "traceback": [
      "\u001b[0;31m---------------------------------------------------------------------------\u001b[0m",
      "\u001b[0;31mRecursionError\u001b[0m                            Traceback (most recent call last)",
      "\u001b[0;32m<ipython-input-2-c6acb68ef6f7>\u001b[0m in \u001b[0;36m<module>\u001b[0;34m()\u001b[0m\n\u001b[1;32m     34\u001b[0m \u001b[0msequence\u001b[0m \u001b[0;34m=\u001b[0m \u001b[0minput\u001b[0m \u001b[0;34m(\u001b[0m\u001b[0;34m\" enter includes spaces: \"\u001b[0m \u001b[0;34m)\u001b[0m \u001b[0;34m.\u001b[0m\u001b[0msplit\u001b[0m\u001b[0;34m(\u001b[0m\u001b[0;34m)\u001b[0m\u001b[0;34m\u001b[0m\u001b[0m\n\u001b[1;32m     35\u001b[0m \u001b[0msequence\u001b[0m \u001b[0;34m=\u001b[0m \u001b[0;34m[\u001b[0m\u001b[0mint\u001b[0m\u001b[0;34m(\u001b[0m\u001b[0my\u001b[0m\u001b[0;34m)\u001b[0m \u001b[0;32mfor\u001b[0m \u001b[0my\u001b[0m \u001b[0;32min\u001b[0m \u001b[0msequence\u001b[0m\u001b[0;34m]\u001b[0m\u001b[0;34m\u001b[0m\u001b[0m\n\u001b[0;32m---> 36\u001b[0;31m \u001b[0mmerge_sort\u001b[0m\u001b[0;34m(\u001b[0m\u001b[0msequence\u001b[0m\u001b[0;34m,\u001b[0m \u001b[0;36m0\u001b[0m\u001b[0;34m,\u001b[0m \u001b[0mlen\u001b[0m\u001b[0;34m(\u001b[0m\u001b[0msequence\u001b[0m\u001b[0;34m)\u001b[0m\u001b[0;34m)\u001b[0m\u001b[0;34m\u001b[0m\u001b[0m\n\u001b[0m\u001b[1;32m     37\u001b[0m \u001b[0mprint\u001b[0m\u001b[0;34m(\u001b[0m\u001b[0;34m\"sort_list:\"\u001b[0m\u001b[0;34m,\u001b[0m \u001b[0mend\u001b[0m\u001b[0;34m=\u001b[0m\u001b[0;34m\"\"\u001b[0m\u001b[0;34m)\u001b[0m\u001b[0;34m\u001b[0m\u001b[0m\n\u001b[1;32m     38\u001b[0m \u001b[0mprint\u001b[0m\u001b[0;34m(\u001b[0m\u001b[0msequence\u001b[0m\u001b[0;34m)\u001b[0m\u001b[0;34m\u001b[0m\u001b[0m\n",
      "\u001b[0;32m<ipython-input-2-c6acb68ef6f7>\u001b[0m in \u001b[0;36mmerge_sort\u001b[0;34m(sequence, begin, end)\u001b[0m\n\u001b[1;32m      3\u001b[0m     \u001b[0;31m#if end - begin > 1:\u001b[0m\u001b[0;34m\u001b[0m\u001b[0;34m\u001b[0m\u001b[0m\n\u001b[1;32m      4\u001b[0m         \u001b[0mmiddle\u001b[0m \u001b[0;34m=\u001b[0m \u001b[0;34m(\u001b[0m\u001b[0mbegin\u001b[0m \u001b[0;34m+\u001b[0m \u001b[0mend\u001b[0m\u001b[0;34m)\u001b[0m\u001b[0;34m//\u001b[0m\u001b[0;36m2\u001b[0m\u001b[0;34m\u001b[0m\u001b[0m\n\u001b[0;32m----> 5\u001b[0;31m         \u001b[0mmerge_sort\u001b[0m\u001b[0;34m(\u001b[0m\u001b[0msequence\u001b[0m\u001b[0;34m,\u001b[0m \u001b[0mbegin\u001b[0m\u001b[0;34m,\u001b[0m \u001b[0mmiddle\u001b[0m\u001b[0;34m)\u001b[0m \u001b[0;31m#一個一個分開假設，對我來說會比較清楚\u001b[0m\u001b[0;34m\u001b[0m\u001b[0m\n\u001b[0m\u001b[1;32m      6\u001b[0m         \u001b[0mmerge_sort\u001b[0m\u001b[0;34m(\u001b[0m\u001b[0msequence\u001b[0m\u001b[0;34m,\u001b[0m \u001b[0mmiddle\u001b[0m\u001b[0;34m,\u001b[0m \u001b[0mend\u001b[0m\u001b[0;34m)\u001b[0m\u001b[0;34m\u001b[0m\u001b[0m\n\u001b[1;32m      7\u001b[0m         \u001b[0mmerge_sequence\u001b[0m\u001b[0;34m(\u001b[0m\u001b[0msequence\u001b[0m\u001b[0;34m,\u001b[0m \u001b[0mbegin\u001b[0m\u001b[0;34m,\u001b[0m \u001b[0mmiddle\u001b[0m\u001b[0;34m,\u001b[0m \u001b[0mend\u001b[0m\u001b[0;34m)\u001b[0m \u001b[0;31m#這是結合版\u001b[0m\u001b[0;34m\u001b[0m\u001b[0m\n",
      "... last 1 frames repeated, from the frame below ...\n",
      "\u001b[0;32m<ipython-input-2-c6acb68ef6f7>\u001b[0m in \u001b[0;36mmerge_sort\u001b[0;34m(sequence, begin, end)\u001b[0m\n\u001b[1;32m      3\u001b[0m     \u001b[0;31m#if end - begin > 1:\u001b[0m\u001b[0;34m\u001b[0m\u001b[0;34m\u001b[0m\u001b[0m\n\u001b[1;32m      4\u001b[0m         \u001b[0mmiddle\u001b[0m \u001b[0;34m=\u001b[0m \u001b[0;34m(\u001b[0m\u001b[0mbegin\u001b[0m \u001b[0;34m+\u001b[0m \u001b[0mend\u001b[0m\u001b[0;34m)\u001b[0m\u001b[0;34m//\u001b[0m\u001b[0;36m2\u001b[0m\u001b[0;34m\u001b[0m\u001b[0m\n\u001b[0;32m----> 5\u001b[0;31m         \u001b[0mmerge_sort\u001b[0m\u001b[0;34m(\u001b[0m\u001b[0msequence\u001b[0m\u001b[0;34m,\u001b[0m \u001b[0mbegin\u001b[0m\u001b[0;34m,\u001b[0m \u001b[0mmiddle\u001b[0m\u001b[0;34m)\u001b[0m \u001b[0;31m#一個一個分開假設，對我來說會比較清楚\u001b[0m\u001b[0;34m\u001b[0m\u001b[0m\n\u001b[0m\u001b[1;32m      6\u001b[0m         \u001b[0mmerge_sort\u001b[0m\u001b[0;34m(\u001b[0m\u001b[0msequence\u001b[0m\u001b[0;34m,\u001b[0m \u001b[0mmiddle\u001b[0m\u001b[0;34m,\u001b[0m \u001b[0mend\u001b[0m\u001b[0;34m)\u001b[0m\u001b[0;34m\u001b[0m\u001b[0m\n\u001b[1;32m      7\u001b[0m         \u001b[0mmerge_sequence\u001b[0m\u001b[0;34m(\u001b[0m\u001b[0msequence\u001b[0m\u001b[0;34m,\u001b[0m \u001b[0mbegin\u001b[0m\u001b[0;34m,\u001b[0m \u001b[0mmiddle\u001b[0m\u001b[0;34m,\u001b[0m \u001b[0mend\u001b[0m\u001b[0;34m)\u001b[0m \u001b[0;31m#這是結合版\u001b[0m\u001b[0;34m\u001b[0m\u001b[0m\n",
      "\u001b[0;31mRecursionError\u001b[0m: maximum recursion depth exceeded"
     ]
    }
   ],
   "source": [
    "def merge_sort(sequence, begin, end):\n",
    "   #從開始到結尾進行排序\n",
    "        middle = (begin + end)//2\n",
    "        merge_sort(sequence, begin, middle) #一個一個分開假設，對我來說會比較清楚\n",
    "        merge_sort(sequence, middle, end)\n",
    "        merge_sequence(sequence, begin, middle, end) #這是結合版\n",
    "\n",
    "def merge_sequence(sequence,begin,middle,end):\n",
    "    left = sequence[begin:middle]\n",
    "    right = sequence[middle:end]\n",
    "    b = begin \n",
    "    l = 0\n",
    "    r = 0\n",
    "    while (begin + l < middle < end - r):\n",
    "        if (left[l] < right[r]):\n",
    "            sequence[b] = left[l]\n",
    "            l = l + 1\n",
    "        else:\n",
    "            sequence[b] = right[r]\n",
    "            r = r + 1\n",
    "        b = b + 1\n",
    "     \n",
    "    if begin + l < middle:\n",
    "        while b < end:\n",
    "            sequence[b] = left[l]\n",
    "            l = l + 1\n",
    "            b = b + 1\n",
    "    else:\n",
    "        while b < end:\n",
    "            sequence[b] = right[r]\n",
    "            r = r + 1\n",
    "            b = b + 1\n",
    "sequence = input (\" enter includes spaces: \" ) .split()\n",
    "sequence = [int(y) for y in sequence]\n",
    "merge_sort(sequence, 0, len(sequence))\n",
    "print(\"sort_list:\", end=\"\")\n",
    "print(sequence)"
   ]
  },
  {
   "cell_type": "code",
   "execution_count": null,
   "metadata": {},
   "outputs": [],
   "source": [
    "#maximum recursion depth exceeded 超過遞迴最大值。"
   ]
  },
  {
   "cell_type": "code",
   "execution_count": null,
   "metadata": {},
   "outputs": [],
   "source": [
    "#於是參考網路上的解法 發現了一個漏洞：\n",
    "def merge_sort(sequence,beg,end):\n",
    "    #if  end - begin > 1:\n",
    "    middle = (beg+end)//2\n",
    "    merge_sort(sequence,beg,middle)\n",
    "    merge_sort(sequence,middle,end)\n",
    "    merge_sequence(sequence,beg,middle,end)\n",
    "    \n",
    "    #在最先前的定義如果沒有完整定義說 if  end - begin > 1:(這個意思是 這個數列是向右增加的而不是向左)"
   ]
  },
  {
   "cell_type": "code",
   "execution_count": 1,
   "metadata": {},
   "outputs": [
    {
     "name": "stdout",
     "output_type": "stream",
     "text": [
      "merge_sort:1,3,-1,3,1\n",
      "sort_list:[-1, 1, 1, 3, 3]\n"
     ]
    }
   ],
   "source": [
    "def merge_sort(sequence, begin, end):\n",
    "   #從開始到結尾進行排序\n",
    "    if end - begin > 1:#！！一開始沒想到這這點： 一個數列 應該要符合 end-begin 代表這個數列是向右增加的 而不是向左A[0]A[-1]A[-2]這樣\n",
    "        middle = (begin + end)//2\n",
    "        merge_sort(sequence, begin, middle) #一個一個分開假設，對我來說會比較清楚，因為接下來的觀念就是這樣分開來看\n",
    "        merge_sort(sequence, middle, end)\n",
    "        merge_sequence(sequence, begin, middle, end) #這是最終版\n",
    "\n",
    "def merge_sequence(sequence,begin,middle,end):\n",
    "    left = sequence[begin:middle]\n",
    "    right = sequence[middle:end]\n",
    "    b = begin #整個sequence的首位\n",
    "    l = 0 #左邊的首位\n",
    "    r = 0 #右邊的首位\n",
    "    while (begin + l < middle and middle + r < end):#以下可參考我的流程圖，有圖示說明\n",
    "        if (left[l] < right[r]):\n",
    "            sequence[b] = left[l]\n",
    "            l = l + 1\n",
    "        else:\n",
    "            sequence[b] = right[r]\n",
    "            r = r + 1\n",
    "        b = b + 1\n",
    "   \n",
    "\n",
    "    if begin + l < middle:\n",
    "        while b < end:\n",
    "            sequence[b] = left[l]\n",
    "            l = l + 1\n",
    "            b = b + 1\n",
    "    else:\n",
    "        while b < end:\n",
    "            sequence[b] = right[r]\n",
    "            r = r + 1\n",
    "            b = b + 1 \n",
    "\n",
    "sequence = input(\"merge_sort:\").split(\",\")#拆分字符串\n",
    "sequence = [int(y) for y in sequence]\n",
    "merge_sort(sequence, 0, len(sequence))\n",
    "print(\"sort_list:\", end=\"\")\n",
    "print(sequence)"
   ]
  },
  {
   "cell_type": "code",
   "execution_count": null,
   "metadata": {},
   "outputs": [],
   "source": [
    "開始把助教規定的格式套入我的code:"
   ]
  },
  {
   "cell_type": "code",
   "execution_count": 1,
   "metadata": {},
   "outputs": [
    {
     "name": "stdout",
     "output_type": "stream",
     "text": [
      "[4, -2, 6, 8, -5, 10, 6, 5, 4, 3]\n",
      "[4, -2, 6, 8, -5, 10, 6, 5, 4, 3]\n",
      "[-2, 4, 6, 8, -5, 10, 6, 5, 4, 3]\n",
      "[-2, 4, 6, 8, -5, 10, 6, 5, 4, 3]\n",
      "[-2, 4, 6, 8, -5, 10, 6, 5, 4, 3]\n",
      "[-2, 4, 6, 8, -5, 10, 6, 5, 4, 3]\n",
      "[-2, 4, 6, -5, 8, 10, 6, 5, 4, 3]\n",
      "[-2, 4, -5, 6, 8, 10, 6, 5, 4, 3]\n",
      "[-5, -2, 4, 6, 8, 10, 6, 5, 4, 3]\n",
      "[-5, -2, 4, 6, 8, 10, 6, 5, 4, 3]\n",
      "[-5, -2, 4, 6, 8, 10, 6, 5, 4, 3]\n",
      "[-5, -2, 4, 6, 8, 6, 10, 5, 4, 3]\n",
      "[-5, -2, 4, 6, 8, 6, 10, 5, 4, 3]\n",
      "[-5, -2, 4, 6, 8, 6, 10, 5, 4, 3]\n",
      "[-5, -2, 4, 6, 8, 6, 10, 5, 4, 3]\n",
      "[-5, -2, 4, 6, 8, 6, 10, 5, 3, 4]\n",
      "[-5, -2, 4, 6, 8, 6, 10, 3, 4, 5]\n",
      "[-5, -2, 4, 6, 8, 3, 4, 5, 6, 10]\n",
      "[-5, -2, 3, 4, 4, 5, 6, 6, 8, 10]\n"
     ]
    }
   ],
   "source": [
    "class Solution(object):\n",
    "    sequence = []\n",
    "    \n",
    "    def merge_sequence(self,begin,middle,end):\n",
    "        left = self.sequence[begin:middle]\n",
    "        right = self.sequence[middle:end]\n",
    "        b = begin #整個sequence的首位\n",
    "        l = 0 #左邊的首位\n",
    "        r = 0 #右邊的首位\n",
    "        while (begin + l < middle and middle + r < end):#以下可參考我的流程圖，有圖示說明\n",
    "            if (left[l] < right[r]):\n",
    "                self.sequence[b] = left[l]\n",
    "                l = l + 1\n",
    "            else:\n",
    "                self.sequence[b] = right[r]\n",
    "                r = r + 1\n",
    "            b = b + 1\n",
    "       \n",
    "    \n",
    "        if begin + l < middle:\n",
    "            while b < end:\n",
    "                self.sequence[b] = left[l]\n",
    "                l = l + 1\n",
    "                b = b + 1\n",
    "        else:\n",
    "            while b < end:\n",
    "                self.sequence[b] = right[r]\n",
    "                r = r + 1\n",
    "                b = b + 1 \n",
    "                \n",
    "    def merge_sort_sub(self, begin, end):\n",
    "         #從開始到結尾進行排序\n",
    "        if end - begin > 1:#！！一開始沒想到這這點： 一個數列 應該要符合 end-begin 代表這個數列是向右增加的 而不是向左A[0]A[-1]A[-2]這樣\n",
    "            middle = (begin + end)//2\n",
    "            self.merge_sort_sub(begin, middle) #一個一個分開假設，對我來說會比較清楚，因為接下來的觀念就是這樣分開來看\n",
    "            self.merge_sort_sub(middle, end)\n",
    "            self.merge_sequence(begin, middle, end) #這是最終版\n",
    "        print(self.sequence)\n",
    "                \n",
    "    def merge_sort(self,nums):\n",
    "        self.sequence = nums\n",
    "        self.merge_sort_sub(0, len(self.sequence))\n",
    "        return self.sequence\n",
    "\n",
    "\n",
    "alist = [4,-2,6,8 ,-5,10,6,5,4,3]\n",
    "output = Solution().merge_sort(alist)"
   ]
  },
  {
   "cell_type": "code",
   "execution_count": null,
   "metadata": {},
   "outputs": [],
   "source": []
  }
 ],
 "metadata": {
  "kernelspec": {
   "display_name": "Python 3",
   "language": "python",
   "name": "python3"
  },
  "language_info": {
   "codemirror_mode": {
    "name": "ipython",
    "version": 3
   },
   "file_extension": ".py",
   "mimetype": "text/x-python",
   "name": "python",
   "nbconvert_exporter": "python",
   "pygments_lexer": "ipython3",
   "version": "3.6.4"
  }
 },
 "nbformat": 4,
 "nbformat_minor": 2
}
