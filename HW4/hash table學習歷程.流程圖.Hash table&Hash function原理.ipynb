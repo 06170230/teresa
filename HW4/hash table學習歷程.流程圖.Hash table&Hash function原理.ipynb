{
 "cells": [
  {
   "cell_type": "code",
   "execution_count": null,
   "metadata": {},
   "outputs": [],
   "source": [
    "流程圖參考資料:https://zh.wikipedia.org/zh-tw/哈希表\n",
    "\n",
    "Hash Table 與 Hash Function 原理 參考資料:   \n",
    "https://blog.techbridge.cc/2017/01/21/simple-hash-table-intro/ \n",
    "https://hackmd.io/@EW34LLeXTra2Oikg0WEQ5Q/HJln3jU_e?type=view              \n",
    "http://alrightchiu.github.io/SecondRound/hash-tableintrojian-jie.html\n",
    "\n",
    "code參考資料：\n",
    "https://youtu.be/swpf12tfyZI \n",
    "https://www.youtube.com/watch?v=9HFbhPscPU0    "
   ]
  },
  {
   "cell_type": "code",
   "execution_count": null,
   "metadata": {},
   "outputs": [],
   "source": [
    "Hash Table 流程圖:"
   ]
  },
  {
   "cell_type": "code",
   "execution_count": 30,
   "metadata": {},
   "outputs": [
    {
     "data": {
      "text/html": [
       "<img src=\"https://github.com/Teresakao0421/teresa/blob/master/binary%20tree/hashtable/hash%20流程圖1.jpg?raw=true\"/>"
      ],
      "text/plain": [
       "<IPython.core.display.Image object>"
      ]
     },
     "execution_count": 30,
     "metadata": {},
     "output_type": "execute_result"
    }
   ],
   "source": [
    "from IPython.display import Image\n",
    "from IPython.core.display import HTML\n",
    "Image(url= \"https://github.com/Teresakao0421/teresa/blob/master/binary%20tree/hashtable/hash%20流程圖1.jpg?raw=true\")"
   ]
  },
  {
   "cell_type": "code",
   "execution_count": 31,
   "metadata": {},
   "outputs": [
    {
     "data": {
      "text/html": [
       "<img src=\"https://github.com/Teresakao0421/teresa/blob/master/binary%20tree/hashtable/hash%20流程圖2.jpg?raw=true\"/>"
      ],
      "text/plain": [
       "<IPython.core.display.Image object>"
      ]
     },
     "execution_count": 31,
     "metadata": {},
     "output_type": "execute_result"
    }
   ],
   "source": [
    "from IPython.display import Image\n",
    "from IPython.core.display import HTML\n",
    "Image(url= \"https://github.com/Teresakao0421/teresa/blob/master/binary%20tree/hashtable/hash%20流程圖2.jpg?raw=true\")"
   ]
  },
  {
   "cell_type": "code",
   "execution_count": null,
   "metadata": {},
   "outputs": [],
   "source": [
    "Hash Table 與 Hash Function 原理:\n",
    "\n",
    "Hash Table:\n",
    "是儲存 (key, value) 這種 mapping 關係的一種資料結構，從圖中可以很清楚地看到.\n",
    "那為什麼他的時間複雜度這麼低呢? 舉例來說，如果我們有 n 個數字要儲存，一般大家常會用 array 來存。\n",
    "如果我們拿到另一個數字 A，要判斷這個數字 A 有沒有在 array 裡面，那我們勢必得跟 array 裡的元素一個個比較，\n",
    "時間複雜度是 O(n)。(先做過 sorting 的話，就可以用二分搜尋法比較快地找到，但還是需要 O(logn) 的時間複雜度)\n",
    "\n",
    "但因為 hash function 的關係，如果先把 n 個數字儲存在 Hash Table 裡面，那如果要判斷這個數字 A 是不是已經被存在 Hash Table 裡面，\n",
    "只要先把這個數字丟進 hash function，就可以直接知道 A 對應到 Hash Table 中哪一格。\n",
    "所以其實是 hash function 幫我們省去了一個個比較的力氣。\n",
    "\n",
    "Hash Function：\n",
    "一種從任何一種資料中建立小的數字「指紋」的方法。\n",
    "雜湊函式 把訊息或資料 (key) 壓縮成摘要，使得資料量變小，將資料的格式固定下來。\n",
    "該函式將資料打亂混合，重新建立一個叫做 雜湊值（hash values，hash codes，hash sums，或hashes） 的指紋。\n",
    "這個雜湊值就當作是陣列的索引，資料就儲存在這個索引的位置中。雜湊值通常用一個短的隨機字"
   ]
  },
  {
   "cell_type": "code",
   "execution_count": 28,
   "metadata": {},
   "outputs": [
    {
     "data": {
      "text/html": [
       "<img src=\"https://github.com/Teresakao0421/teresa/blob/master/binary%20tree/hashtable/hashtable-1.png?raw=true\"/>"
      ],
      "text/plain": [
       "<IPython.core.display.Image object>"
      ]
     },
     "execution_count": 28,
     "metadata": {},
     "output_type": "execute_result"
    }
   ],
   "source": [
    "from IPython.display import Image\n",
    "from IPython.core.display import HTML\n",
    "Image(url= \"https://github.com/Teresakao0421/teresa/blob/master/binary%20tree/hashtable/hashtable-1.png?raw=true\")"
   ]
  },
  {
   "cell_type": "code",
   "execution_count": null,
   "metadata": {},
   "outputs": [],
   "source": [
    "缺點：\n",
    "想要處理一些有時間順序的 data，希望可以丟掉最先進來的資料優先，queue 顯然就是一個更好的選擇。\n",
    "還有一個情況是，如果希望儲存的 data 可以被排序，那 Hash Table 就會不太好用。\n",
    "\n",
    "Collision(碰撞):\n",
    "Collision就是兩筆資料存進同一個Table之slot的情形，這將會使得查詢資料失敗\n",
    "(例如：使用item1的Key，卻回傳item2的資料)。若以Division Method實作Hash Function，定義h(Key)=Keymodm，Table大小為m=6，\n",
    "目前要處理的資料之Key有67,26,50,33,16,71，那麼各個Key將被對應到的index.\n",
    "\n",
    "collision解決方法:\n",
    "1.Chaining：使用Linked list把「Hashing到同一個slot」的資料串起來。\n",
    "2.Open Addressing：使用Probing Method來尋找Table中「空的slot」存放資料。"
   ]
  },
  {
   "cell_type": "code",
   "execution_count": 29,
   "metadata": {
    "scrolled": false
   },
   "outputs": [
    {
     "data": {
      "text/html": [
       "<img src=\"https://github.com/Teresakao0421/teresa/blob/master/binary%20tree/hashtable/collision.png?raw=true\"/>"
      ],
      "text/plain": [
       "<IPython.core.display.Image object>"
      ]
     },
     "execution_count": 29,
     "metadata": {},
     "output_type": "execute_result"
    }
   ],
   "source": [
    "from IPython.display import Image\n",
    "from IPython.core.display import HTML\n",
    "Image(url= \"https://github.com/Teresakao0421/teresa/blob/master/binary%20tree/hashtable/collision.png?raw=true\")"
   ]
  },
  {
   "cell_type": "code",
   "execution_count": null,
   "metadata": {},
   "outputs": [],
   "source": [
    "應用：\n",
    "Hash Table 的一個簡單應用就是搜尋引擎，在搜尋的時候輸入關鍵字，我們可以把這個關鍵字傳進 hash function，\n",
    "然後 hash function 就可以指出這個關鍵字對應到的桶子，這時候再到這個桶子裡搜尋網頁就可以了。\n",
    "\n",
    "Add:\n",
    "1.hash table 的增量大小\n",
    "2.使用hash function 計算鍵的索引\n",
    "3.如果索引處的存儲桶為空。請創建一個新節點\n",
    "4.否則，發生衝突：此索引處已經存在至少一個節點的鏈接列表。重複列表並在其中添加新節點\n",
    "\n",
    "Contains:\n",
    "1.使用hash function 計算提供的鍵的索引\n",
    "2.轉到該索引的存儲桶\n",
    "3.重複該鏈接列表中的節點，直到找到密鑰或到達列表末尾為止\n",
    "4.返回找到的節點的值，如果找不到則返回None\n",
    "\n",
    "Remove:\n",
    "1.計算hash 以確定index的key\n",
    "2.重複喜歡的節點列表。繼續直到列表末尾或找到密鑰為止。\n",
    "3.如果找不到密鑰，請return None\n",
    "4.否則，從鍊錶中刪除節點並返回節點值\n",
    "\n",
    "Hash Function：\n",
    "一種從任何一種資料中建立小的數字「指紋」的方法。\n",
    "雜湊函式 把訊息或資料 (key) 壓縮成摘要，使得資料量變小，將資料的格式固定下來。\n",
    "該函式將資料打亂混合，重新建立一個叫做 雜湊值（hash values，hash codes，hash sums，或hashes） 的指紋。\n",
    "這個雜湊值就當作是陣列的索引，資料就儲存在這個索引的位置中。雜湊值通常用一個短的隨機字母和數字組成的字串來代表。\n",
    "\n",
    "特性:\n",
    "1.運算速度快\n",
    "2.不可逆性：無法從雜湊值推回原本的資料是什麼\n",
    "3.如果兩個雜湊值是 不相同 的（根據同一函式），那麼這兩個雜湊值的原始輸入也是 不相同 的\n",
    "4.如果兩個雜湊值是 相同 的（根據同一函式），那麼這兩個雜湊值的原始輸入 不一定 是相同的\n",
    "\n",
    "加密:\n",
    "密碼雜湊函式（Cryptographic hash function），它被認為是一種單向函式，也就是說極其難以由雜湊函式輸出的結果，回推輸入的資料是什麼。\n",
    "這種雜湊函式的輸入資料，通常被稱為訊息，而它的輸出結果，經常被稱為訊息摘要或摘要。\n",
    "許多重要的應用，都使用了密碼雜湊函式來實作，例如數位簽章，訊息鑑別碼。\n",
    "\n",
    "Hash table & Hash Functionn 關聯:\n",
    "Hash Table 好不好用的關鍵跟這個神奇的 hash function 有很大的關係。\n",
    "讓我們想像一種情況，如果我們使用一個壞掉的 hash function，不管餵給這個 hash function 什麼內容他都會吐出同一個 index，\n",
    "那這樣的話就跟存一個 array 沒什麼兩樣。 搜尋的時間複雜度就會變成 O(n)。\n",
    "以實用的角度出發，在簡單認識 Hash Table 的時候並不需要理解 hash function 要怎麼實作，\n",
    "但是我們要知道，hash function沒有完美的，有可能會把兩個不同的 key 指到同一個桶子，這就是所謂的 collision。\n",
    "當 collision 發生的時候，除了最直觀地增加 Hash Table 的桶子數，\n",
    "在每個桶子中用一個 linked list 來儲存 value、或是 linear probe 都是常用的方法。"
   ]
  },
  {
   "cell_type": "code",
   "execution_count": null,
   "metadata": {},
   "outputs": [],
   "source": [
    "\n",
    "\n",
    "\n",
    "\n",
    "\n",
    "\n"
   ]
  },
  {
   "cell_type": "code",
   "execution_count": null,
   "metadata": {},
   "outputs": [],
   "source": [
    "Hash table 學習歷程:"
   ]
  },
  {
   "cell_type": "code",
   "execution_count": 20,
   "metadata": {
    "scrolled": true
   },
   "outputs": [
    {
     "name": "stdout",
     "output_type": "stream",
     "text": [
      "06d80eb0c50b49a509b49f2424e8c805\n",
      "9097202055026264535080901219663267845\n"
     ]
    }
   ],
   "source": [
    "from Crypto.Hash import MD5\n",
    "h = MD5.new()\n",
    "h.update(\"dog\".encode(\"utf-8\"))\n",
    "print(h.hexdigest())\n",
    "print(int(h.hexdigest(),16))"
   ]
  },
  {
   "cell_type": "code",
   "execution_count": 21,
   "metadata": {},
   "outputs": [],
   "source": [
    "class MyHashSet:\n",
    "    def __init__(self, capacity=5):\n",
    "        self.capacity = capacity\n",
    "        self.data = [None] * capacity"
   ]
  },
  {
   "cell_type": "code",
   "execution_count": 22,
   "metadata": {},
   "outputs": [
    {
     "ename": "NameError",
     "evalue": "name 'a' is not defined",
     "output_type": "error",
     "traceback": [
      "\u001b[0;31m---------------------------------------------------------------------------\u001b[0m",
      "\u001b[0;31mNameError\u001b[0m                                 Traceback (most recent call last)",
      "\u001b[0;32m<ipython-input-22-5a8666a6671c>\u001b[0m in \u001b[0;36m<module>\u001b[0;34m\u001b[0m\n\u001b[1;32m      5\u001b[0m         \u001b[0ma\u001b[0m\u001b[0;34m=\u001b[0m\u001b[0;34m(\u001b[0m\u001b[0mint\u001b[0m\u001b[0;34m(\u001b[0m\u001b[0mh\u001b[0m\u001b[0;34m.\u001b[0m\u001b[0mhexdigest\u001b[0m\u001b[0;34m(\u001b[0m\u001b[0;34m)\u001b[0m\u001b[0;34m,\u001b[0m\u001b[0;36m16\u001b[0m\u001b[0;34m)\u001b[0m\u001b[0;34m)\u001b[0m\u001b[0;34m\u001b[0m\u001b[0;34m\u001b[0m\u001b[0m\n\u001b[1;32m      6\u001b[0m         \u001b[0;32mreturn\u001b[0m \u001b[0mh\u001b[0m \u001b[0;34m%\u001b[0m \u001b[0;36m5\u001b[0m\u001b[0;34m\u001b[0m\u001b[0;34m\u001b[0m\u001b[0m\n\u001b[0;32m----> 7\u001b[0;31m \u001b[0mprint\u001b[0m\u001b[0;34m(\u001b[0m\u001b[0ma\u001b[0m\u001b[0;34m)\u001b[0m\u001b[0;34m\u001b[0m\u001b[0;34m\u001b[0m\u001b[0m\n\u001b[0m",
      "\u001b[0;31mNameError\u001b[0m: name 'a' is not defined"
     ]
    }
   ],
   "source": [
    "def gethash(self, key):\n",
    "        h = MD5.new()\n",
    "        h.update(key.encode(\"utf-8\"))\n",
    "        #print(int(h.hexdigest(),16))\n",
    "        a=(int(h.hexdigest(),16))\n",
    "        return h % 5\n",
    "print(a)"
   ]
  },
  {
   "cell_type": "code",
   "execution_count": 23,
   "metadata": {},
   "outputs": [
    {
     "ename": "NameError",
     "evalue": "name 'a' is not defined",
     "output_type": "error",
     "traceback": [
      "\u001b[0;31m---------------------------------------------------------------------------\u001b[0m",
      "\u001b[0;31mNameError\u001b[0m                                 Traceback (most recent call last)",
      "\u001b[0;32m<ipython-input-23-e18ad029915b>\u001b[0m in \u001b[0;36m<module>\u001b[0;34m\u001b[0m\n\u001b[1;32m      5\u001b[0m         \u001b[0;31m#a = a % 5\u001b[0m\u001b[0;34m\u001b[0m\u001b[0;34m\u001b[0m\u001b[0;34m\u001b[0m\u001b[0m\n\u001b[1;32m      6\u001b[0m         \u001b[0;31m#return h % 5\u001b[0m\u001b[0;34m\u001b[0m\u001b[0;34m\u001b[0m\u001b[0;34m\u001b[0m\u001b[0m\n\u001b[0;32m----> 7\u001b[0;31m \u001b[0mprint\u001b[0m\u001b[0;34m(\u001b[0m\u001b[0ma\u001b[0m\u001b[0;34m)\u001b[0m\u001b[0;34m\u001b[0m\u001b[0;34m\u001b[0m\u001b[0m\n\u001b[0m",
      "\u001b[0;31mNameError\u001b[0m: name 'a' is not defined"
     ]
    }
   ],
   "source": [
    "def gethash(self, key, a):\n",
    "        h = MD5.new()\n",
    "        h.update(\"key\".encode(\"utf-8\"))\n",
    "        a=(int(h.hexdigest(),16))\n",
    "        #a = a % 5\n",
    "        #return h % 5\n",
    "print(a)"
   ]
  },
  {
   "cell_type": "code",
   "execution_count": 24,
   "metadata": {},
   "outputs": [],
   "source": [
    "    def add_(self, key,value):\n",
    "        key_hash = self.gethash(key)\n",
    "        key_value = [key,value]"
   ]
  },
  {
   "cell_type": "code",
   "execution_count": 25,
   "metadata": {},
   "outputs": [
    {
     "ename": "SyntaxError",
     "evalue": "'return' outside function (<ipython-input-25-adef92053ed0>, line 3)",
     "output_type": "error",
     "traceback": [
      "\u001b[0;36m  File \u001b[0;32m\"<ipython-input-25-adef92053ed0>\"\u001b[0;36m, line \u001b[0;32m3\u001b[0m\n\u001b[0;31m    return True\u001b[0m\n\u001b[0m    ^\u001b[0m\n\u001b[0;31mSyntaxError\u001b[0m\u001b[0;31m:\u001b[0m 'return' outside function\n"
     ]
    }
   ],
   "source": [
    "if self.data[key_hash] is None:\n",
    "            self.data[key_hash] = list([ket_value])\n",
    "            return True"
   ]
  },
  {
   "cell_type": "code",
   "execution_count": null,
   "metadata": {},
   "outputs": [],
   "source": [
    "如果我的這個位置是空的，那我要新增是可以的。\n",
    "這個 key 就會對應一個index\n",
    "那就是回傳正確"
   ]
  },
  {
   "cell_type": "code",
   "execution_count": 32,
   "metadata": {},
   "outputs": [
    {
     "ename": "SyntaxError",
     "evalue": "invalid syntax (<ipython-input-32-15710d896b5f>, line 1)",
     "output_type": "error",
     "traceback": [
      "\u001b[0;36m  File \u001b[0;32m\"<ipython-input-32-15710d896b5f>\"\u001b[0;36m, line \u001b[0;32m1\u001b[0m\n\u001b[0;31m    else:\u001b[0m\n\u001b[0m       ^\u001b[0m\n\u001b[0;31mSyntaxError\u001b[0m\u001b[0;31m:\u001b[0m invalid syntax\n"
     ]
    }
   ],
   "source": [
    "else:\n",
    "    for pair in self.data[key_hash]:\n",
    "        if pair[0] == key:\n",
    "            pair[1] = value\n",
    "            return True\n",
    "        self.data[key_hash].append(key_value)\n",
    "        return True"
   ]
  },
  {
   "cell_type": "code",
   "execution_count": null,
   "metadata": {},
   "outputs": [],
   "source": [
    "那情況二 如果我有兩個key要放進一個index裡面，\n",
    "那我就要將 index 後面連接兩個列車(pair[0]pair[1])->\n",
    "self.data[key_hash].append(key_value)這裡是在末端要添加新的對象。"
   ]
  },
  {
   "cell_type": "code",
   "execution_count": 33,
   "metadata": {},
   "outputs": [],
   "source": [
    "def add(self, key,value):\n",
    "        key_hash = self.gethash(key)\n",
    "        #key_value = [key,value]\n",
    "\n",
    "        if self.data[key_hash] is None:\n",
    "            self.data[key_hash] = list([ket_value])\n",
    "            return True\n",
    "        else:\n",
    "            for pair in self.data[key_hash]:\n",
    "                if pair[0] == key:\n",
    "                    pair[1] = value\n",
    "                    return True\n",
    "            self.data[key_hash].append(key_value)\n",
    "            return True"
   ]
  },
  {
   "cell_type": "code",
   "execution_count": null,
   "metadata": {},
   "outputs": [],
   "source": [
    "再來 寫remove:"
   ]
  },
  {
   "cell_type": "code",
   "execution_count": null,
   "metadata": {},
   "outputs": [],
   "source": [
    "def remove(self, key):\n",
    "        key_hash = self.gethash(key)"
   ]
  },
  {
   "cell_type": "code",
   "execution_count": null,
   "metadata": {},
   "outputs": [],
   "source": [
    "if self.data[key_hash] is None:\n",
    "            return False"
   ]
  },
  {
   "cell_type": "code",
   "execution_count": null,
   "metadata": {},
   "outputs": [],
   "source": [
    "如果hash table裡面的位子是空的，那我就也沒東西刪除，那就回傳失敗。"
   ]
  },
  {
   "cell_type": "code",
   "execution_count": null,
   "metadata": {},
   "outputs": [],
   "source": [
    "for i in range (0, len(self.data[key_hash])):\n",
    "            if self.data[key_hash][i][0] == key:              "
   ]
  },
  {
   "cell_type": "code",
   "execution_count": null,
   "metadata": {},
   "outputs": [],
   "source": [
    "i在這個迴圈(len(self.data[key_hash])裡跑，然後我設定鍵值的位子"
   ]
  },
  {
   "cell_type": "code",
   "execution_count": null,
   "metadata": {},
   "outputs": [],
   "source": [
    "self.data[key_hash].pop(i)\n",
    "            return True"
   ]
  },
  {
   "cell_type": "code",
   "execution_count": null,
   "metadata": {},
   "outputs": [],
   "source": [
    "找到這個位子去pop(刪除)它，刪除成功就是回傳正確。"
   ]
  },
  {
   "cell_type": "code",
   "execution_count": 34,
   "metadata": {},
   "outputs": [],
   "source": [
    "def remove(self, key):\n",
    "        key_hash = self.gethash(key)\n",
    "\n",
    "        if self.data[key_hash] is None:\n",
    "            return False\n",
    "        for i in range (0, len(self.data[key_hash])):\n",
    "            if self.data[key_hash][i][0] == key:\n",
    "                self.data[key_hash].pop(i)\n",
    "                return True"
   ]
  },
  {
   "cell_type": "code",
   "execution_count": null,
   "metadata": {},
   "outputs": [],
   "source": [
    "再來寫contains"
   ]
  },
  {
   "cell_type": "code",
   "execution_count": null,
   "metadata": {},
   "outputs": [],
   "source": [
    "def contains(self, key):\n",
    "    key_hash = self.gethash(key)"
   ]
  },
  {
   "cell_type": "code",
   "execution_count": null,
   "metadata": {},
   "outputs": [],
   "source": [
    "if self.data[key_hash] is not None:"
   ]
  },
  {
   "cell_type": "code",
   "execution_count": null,
   "metadata": {},
   "outputs": [],
   "source": [
    "如果 key指向的index不是空的"
   ]
  },
  {
   "cell_type": "code",
   "execution_count": null,
   "metadata": {},
   "outputs": [],
   "source": [
    "for pair in self.data[key_hash]:\n",
    "            if pair[0] == key:\n",
    "                return pair[1]"
   ]
  },
  {
   "cell_type": "code",
   "execution_count": null,
   "metadata": {},
   "outputs": [],
   "source": [
    "自訂pair在這個self.data[key_hash] 迴圈跑，\n",
    "如果說 第0個位置是鍵值，那就對應index。"
   ]
  },
  {
   "cell_type": "code",
   "execution_count": null,
   "metadata": {},
   "outputs": [],
   "source": [
    "def contains(self, key):\n",
    "    key_hash = self.gethash(key)\n",
    "    if self.data[key_hash] is not None:\n",
    "        for pair in self.data[key_hash]:\n",
    "            if pair[0] == key:\n",
    "                return pair[1]\n",
    "    return None"
   ]
  },
  {
   "cell_type": "code",
   "execution_count": 10,
   "metadata": {},
   "outputs": [],
   "source": [
    "class ListNode:\n",
    "    def __init__(self, val):\n",
    "        self.val = val\n",
    "        \n",
    "class MyHashSet:\n",
    "    def __init__(self, capacity=5):\n",
    "        self.capacity = capacity\n",
    "        self.data = [None] * capacity\n",
    "        \n",
    "    def gethash(self, key, hash):\n",
    "        h = MD5.new()\n",
    "        h.update(key.encode(\"utf-8\"))\n",
    "        hash=(int(h.hexdigest(),16))\n",
    "        hash = hash % 5\n",
    "        return hash\n",
    "\n",
    "    def add(self, key):\n",
    "        key_hash = self.gethash(key)\n",
    "        key_value = [key,value]\n",
    "\n",
    "        if self.data[key_hash] is None:\n",
    "            self.data[key_hash] = list([ket_value])\n",
    "            return True\n",
    "        else:\n",
    "            for pair in self.data[key_hash]:\n",
    "                if pair[0] == key:\n",
    "                    pair[1] = value\n",
    "                    return True\n",
    "            self.data[key_hash].append(key_value)\n",
    "            return True\n",
    "        \n",
    "    def remove(self, key):\n",
    "        key_hash = self.gethash(key)\n",
    "\n",
    "        if self.data[key_hash] is None:\n",
    "            return #False\n",
    "        \n",
    "        for i in range (0, len(self.data[key_hash])):\n",
    "            if self.data[key_hash][i][0] == key:\n",
    "                self.data[key_hash].pop(i)\n",
    "        else:\n",
    "            return #False\n",
    "\n",
    "    def contains(self, key):\n",
    "        key_hash = self.gethash(key)\n",
    "        if self.data[key_hash] is not None:\n",
    "            for pair in self.data[key_hash]:\n",
    "                if pair[0] == key:\n",
    "                    return pair[1]\n",
    "        return None"
   ]
  },
  {
   "cell_type": "code",
   "execution_count": 11,
   "metadata": {},
   "outputs": [
    {
     "ename": "TypeError",
     "evalue": "gethash() missing 1 required positional argument: 'hash'",
     "output_type": "error",
     "traceback": [
      "\u001b[0;31m---------------------------------------------------------------------------\u001b[0m",
      "\u001b[0;31mTypeError\u001b[0m                                 Traceback (most recent call last)",
      "\u001b[0;32m<ipython-input-11-528e7414cc3b>\u001b[0m in \u001b[0;36m<module>\u001b[0;34m\u001b[0m\n\u001b[1;32m      1\u001b[0m \u001b[0mhashSet\u001b[0m \u001b[0;34m=\u001b[0m \u001b[0mMyHashSet\u001b[0m\u001b[0;34m(\u001b[0m\u001b[0;34m)\u001b[0m\u001b[0;34m\u001b[0m\u001b[0;34m\u001b[0m\u001b[0m\n\u001b[0;32m----> 2\u001b[0;31m \u001b[0mhashSet\u001b[0m\u001b[0;34m.\u001b[0m\u001b[0madd\u001b[0m\u001b[0;34m(\u001b[0m\u001b[0;34m\"dog\"\u001b[0m\u001b[0;34m)\u001b[0m\u001b[0;34m\u001b[0m\u001b[0;34m\u001b[0m\u001b[0m\n\u001b[0m\u001b[1;32m      3\u001b[0m \u001b[0mhashSet\u001b[0m\u001b[0;34m.\u001b[0m\u001b[0madd\u001b[0m\u001b[0;34m(\u001b[0m\u001b[0;34m\"pig\"\u001b[0m\u001b[0;34m)\u001b[0m\u001b[0;34m\u001b[0m\u001b[0;34m\u001b[0m\u001b[0m\n\u001b[1;32m      4\u001b[0m \u001b[0mrel\u001b[0m \u001b[0;34m=\u001b[0m \u001b[0mhashSet\u001b[0m\u001b[0;34m.\u001b[0m\u001b[0mcontains\u001b[0m\u001b[0;34m(\u001b[0m\u001b[0;34m\"pig\"\u001b[0m\u001b[0;34m)\u001b[0m\u001b[0;34m\u001b[0m\u001b[0;34m\u001b[0m\u001b[0m\n\u001b[1;32m      5\u001b[0m \u001b[0mprint\u001b[0m\u001b[0;34m(\u001b[0m\u001b[0mrel\u001b[0m\u001b[0;34m)\u001b[0m\u001b[0;34m\u001b[0m\u001b[0;34m\u001b[0m\u001b[0m\n",
      "\u001b[0;32m<ipython-input-10-79b4922c7759>\u001b[0m in \u001b[0;36madd\u001b[0;34m(self, key)\u001b[0m\n\u001b[1;32m     24\u001b[0m \u001b[0;34m\u001b[0m\u001b[0m\n\u001b[1;32m     25\u001b[0m     \u001b[0;32mdef\u001b[0m \u001b[0madd\u001b[0m\u001b[0;34m(\u001b[0m\u001b[0mself\u001b[0m\u001b[0;34m,\u001b[0m \u001b[0mkey\u001b[0m\u001b[0;34m)\u001b[0m\u001b[0;34m:\u001b[0m\u001b[0;34m\u001b[0m\u001b[0;34m\u001b[0m\u001b[0m\n\u001b[0;32m---> 26\u001b[0;31m         \u001b[0mkey_hash\u001b[0m \u001b[0;34m=\u001b[0m \u001b[0mself\u001b[0m\u001b[0;34m.\u001b[0m\u001b[0mgethash\u001b[0m\u001b[0;34m(\u001b[0m\u001b[0mkey\u001b[0m\u001b[0;34m)\u001b[0m\u001b[0;34m\u001b[0m\u001b[0;34m\u001b[0m\u001b[0m\n\u001b[0m\u001b[1;32m     27\u001b[0m         \u001b[0mkey_value\u001b[0m \u001b[0;34m=\u001b[0m \u001b[0;34m[\u001b[0m\u001b[0mkey\u001b[0m\u001b[0;34m,\u001b[0m\u001b[0mvalue\u001b[0m\u001b[0;34m]\u001b[0m\u001b[0;34m\u001b[0m\u001b[0;34m\u001b[0m\u001b[0m\n\u001b[1;32m     28\u001b[0m \u001b[0;34m\u001b[0m\u001b[0m\n",
      "\u001b[0;31mTypeError\u001b[0m: gethash() missing 1 required positional argument: 'hash'"
     ]
    }
   ],
   "source": [
    "hashSet = MyHashSet()\n",
    "hashSet.add(\"dog\")\n",
    "hashSet.add(\"pig\")\n",
    "rel = hashSet.contains(\"pig\")\n",
    "print(rel)\n",
    "rel = hashSet.contains(\"dog\")\n",
    "print(rel)\n",
    "rel = hashSet.contains(\"cat\")\n",
    "print(rel)\n",
    "hashSet.add(\"bird\")\n",
    "rel = hashSet.contains(\"bird\")\n",
    "print(rel)\n",
    "hashSet.remove(\"pig\")\n",
    "rel = hashSet.contains(\"pig\")\n",
    "print(rel)"
   ]
  },
  {
   "cell_type": "code",
   "execution_count": 27,
   "metadata": {},
   "outputs": [],
   "source": [
    "def remove(self, key):\n",
    "        key_hash = self.gethash(key)\n",
    "        node = self.data[key_hash]\n",
    "        \n",
    "        while node is not None and node.key != key:\n",
    "            next = node\n",
    "            node = self.data[key_hash]\n",
    "        if node is None:\n",
    "            return\n",
    "        \n",
    "        else:\n",
    "            result = node.value\n",
    "            if next is None:\n",
    "                node = None\n",
    "            else:\n",
    "                next.next = next.next.next\n",
    "                return"
   ]
  },
  {
   "cell_type": "code",
   "execution_count": 16,
   "metadata": {},
   "outputs": [
    {
     "name": "stdout",
     "output_type": "stream",
     "text": [
      "06d80eb0c50b49a509b49f2424e8c805\n",
      "9097202055026264535080901219663267845\n"
     ]
    }
   ],
   "source": [
    "from Crypto.Hash import MD5\n",
    "h = MD5.new()\n",
    "#h.update(\"dog\".encode(\"utf-8\"))\n",
    "#print(h.hexdigest())\n",
    "#print(int(h.hexdigest(),16))\n",
    "\n",
    "class ListNode:\n",
    "    def __init__(self, val):\n",
    "        self.val = val\n",
    "        self.next = None\n",
    "        \n",
    "        \n",
    "class MyHashSet:\n",
    "    def __init__(self, capacity=5):\n",
    "        self.capacity = capacity\n",
    "        self.data = [None] * capacity\n",
    "        \n",
    "        \n",
    "    def gethash(self, key):\n",
    "        h = MD5.new()\n",
    "        h.update(key.encode(\"utf-8\"))\n",
    "        hash = int(h.hexdigest(), 16)\n",
    "        index = hash % 5\n",
    "        return hash, index\n",
    "    \n",
    "    \n",
    "    def add(self, key):\n",
    "        value, key_hash = self.gethash(key)\n",
    "        key_value = [key, value]\n",
    "    \n",
    "        if self.data[key_hash] == None:\n",
    "            self.data[key_hash] = list([key_value])\n",
    "            \n",
    "            return #True\n",
    "        \n",
    "        else:\n",
    "            for pair in self.data[key_hash]:\n",
    "                if pair[0] == key:\n",
    "                    pair[1] = value\n",
    "                    return \n",
    "            self.data[key_hash].append(key_value)\n",
    "            return #True\n",
    "    \n",
    "\n",
    "    def remove(self, key):\n",
    "        key_hash = self.gethash(key)\n",
    "\n",
    "        if self.data[key_hash] is None:\n",
    "            return #False\n",
    "        \n",
    "        for i in range (0, len(self.data[key_hash])):\n",
    "            if self.data[key_hash][i][0] == key:\n",
    "                self.data[key_hash].pop(i)\n",
    "        else:\n",
    "            cur = self.data[key_hash]\n",
    "            while cur.next:\n",
    "                if cur.next.val == key:\n",
    "                    cur.next = cur.next.next\n",
    "                cur = cur.next\n",
    "            return \n",
    "\n",
    "            \n",
    "            \n",
    "    def contains(self, key):\n",
    "        value, key_hash = self.gethash(key)\n",
    "        if self.data[key_hash] is not None:\n",
    "            for pair in self.data[key_hash]:\n",
    "                if pair[0] == key:\n",
    "                    return True#pair[1]\n",
    "        else:\n",
    "            return False"
   ]
  },
  {
   "cell_type": "code",
   "execution_count": 20,
   "metadata": {
    "scrolled": true
   },
   "outputs": [
    {
     "name": "stdout",
     "output_type": "stream",
     "text": [
      "True\n",
      "True\n",
      "None\n",
      "True\n"
     ]
    },
    {
     "ename": "TypeError",
     "evalue": "list indices must be integers or slices, not tuple",
     "output_type": "error",
     "traceback": [
      "\u001b[0;31m---------------------------------------------------------------------------\u001b[0m",
      "\u001b[0;31mTypeError\u001b[0m                                 Traceback (most recent call last)",
      "\u001b[0;32m<ipython-input-20-528e7414cc3b>\u001b[0m in \u001b[0;36m<module>\u001b[0;34m\u001b[0m\n\u001b[1;32m     11\u001b[0m \u001b[0mrel\u001b[0m \u001b[0;34m=\u001b[0m \u001b[0mhashSet\u001b[0m\u001b[0;34m.\u001b[0m\u001b[0mcontains\u001b[0m\u001b[0;34m(\u001b[0m\u001b[0;34m\"bird\"\u001b[0m\u001b[0;34m)\u001b[0m\u001b[0;34m\u001b[0m\u001b[0;34m\u001b[0m\u001b[0m\n\u001b[1;32m     12\u001b[0m \u001b[0mprint\u001b[0m\u001b[0;34m(\u001b[0m\u001b[0mrel\u001b[0m\u001b[0;34m)\u001b[0m\u001b[0;34m\u001b[0m\u001b[0;34m\u001b[0m\u001b[0m\n\u001b[0;32m---> 13\u001b[0;31m \u001b[0mhashSet\u001b[0m\u001b[0;34m.\u001b[0m\u001b[0mremove\u001b[0m\u001b[0;34m(\u001b[0m\u001b[0;34m\"pig\"\u001b[0m\u001b[0;34m)\u001b[0m\u001b[0;34m\u001b[0m\u001b[0;34m\u001b[0m\u001b[0m\n\u001b[0m\u001b[1;32m     14\u001b[0m \u001b[0mrel\u001b[0m \u001b[0;34m=\u001b[0m \u001b[0mhashSet\u001b[0m\u001b[0;34m.\u001b[0m\u001b[0mcontains\u001b[0m\u001b[0;34m(\u001b[0m\u001b[0;34m\"pig\"\u001b[0m\u001b[0;34m)\u001b[0m\u001b[0;34m\u001b[0m\u001b[0;34m\u001b[0m\u001b[0m\n\u001b[1;32m     15\u001b[0m \u001b[0mprint\u001b[0m\u001b[0;34m(\u001b[0m\u001b[0mrel\u001b[0m\u001b[0;34m)\u001b[0m\u001b[0;34m\u001b[0m\u001b[0;34m\u001b[0m\u001b[0m\n",
      "\u001b[0;32m<ipython-input-16-2ab77eee3d2b>\u001b[0m in \u001b[0;36mremove\u001b[0;34m(self, key)\u001b[0m\n\u001b[1;32m     46\u001b[0m         \u001b[0mkey_hash\u001b[0m \u001b[0;34m=\u001b[0m \u001b[0mself\u001b[0m\u001b[0;34m.\u001b[0m\u001b[0mgethash\u001b[0m\u001b[0;34m(\u001b[0m\u001b[0mkey\u001b[0m\u001b[0;34m)\u001b[0m\u001b[0;34m\u001b[0m\u001b[0;34m\u001b[0m\u001b[0m\n\u001b[1;32m     47\u001b[0m \u001b[0;34m\u001b[0m\u001b[0m\n\u001b[0;32m---> 48\u001b[0;31m         \u001b[0;32mif\u001b[0m \u001b[0mself\u001b[0m\u001b[0;34m.\u001b[0m\u001b[0mdata\u001b[0m\u001b[0;34m[\u001b[0m\u001b[0mkey_hash\u001b[0m\u001b[0;34m]\u001b[0m \u001b[0;32mis\u001b[0m \u001b[0;32mNone\u001b[0m\u001b[0;34m:\u001b[0m\u001b[0;34m\u001b[0m\u001b[0;34m\u001b[0m\u001b[0m\n\u001b[0m\u001b[1;32m     49\u001b[0m             \u001b[0;32mreturn\u001b[0m \u001b[0;31m#False\u001b[0m\u001b[0;34m\u001b[0m\u001b[0;34m\u001b[0m\u001b[0m\n\u001b[1;32m     50\u001b[0m \u001b[0;34m\u001b[0m\u001b[0m\n",
      "\u001b[0;31mTypeError\u001b[0m: list indices must be integers or slices, not tuple"
     ]
    }
   ],
   "source": [
    "hashSet = MyHashSet()\n",
    "hashSet.add(\"dog\")\n",
    "hashSet.add(\"pig\")\n",
    "rel = hashSet.contains(\"pig\")\n",
    "print(rel)\n",
    "rel = hashSet.contains(\"dog\")\n",
    "print(rel)\n",
    "rel = hashSet.contains(\"cat\")\n",
    "print(rel)\n",
    "hashSet.add(\"bird\")\n",
    "rel = hashSet.contains(\"bird\")\n",
    "print(rel)\n",
    "hashSet.remove(\"pig\")\n",
    "rel = hashSet.contains(\"pig\")\n",
    "print(rel)"
   ]
  },
  {
   "cell_type": "code",
   "execution_count": null,
   "metadata": {},
   "outputs": [],
   "source": [
    "remove出錯太嚴重但也找不到解決辦法，決定用別的寫法。"
   ]
  },
  {
   "cell_type": "code",
   "execution_count": null,
   "metadata": {},
   "outputs": [],
   "source": [
    "from Crypto.Hash import MD5\n",
    "class ListNode:\n",
    "    \n",
    "    def __init__(self, val):\n",
    "        \n",
    "        self.val = val\n",
    "        self.next = None\n",
    "class MyHashSet:\n",
    "    \n",
    "    def __init__(self, capacity = 5):\n",
    "        self.capacity = capacity\n",
    "        self.data = [None] * capacity\n",
    "        "
   ]
  },
  {
   "cell_type": "code",
   "execution_count": null,
   "metadata": {},
   "outputs": [],
   "source": [
    "def add(self, key):\n",
    "    \n",
    "        new_node = ListNode(key)\n",
    "        new_node.next = None\n",
    "\n",
    "        h = MD5.new()\n",
    "        h.update(key.encode('utf-8'))\n",
    "\n",
    "        index = int(h.hexdigest(), 16) % self.capacity\n",
    "        \n",
    "        data = self.data\n",
    "        \n",
    "        if data[index] == None:\n",
    "            data[index] = new_node\n",
    "\n",
    "\n",
    "\n",
    "        elif data[index] != None:\n",
    "            ptr = data[index]\n",
    "            try:#如果try以下動作沒有出錯就執行else\n",
    "                while (ptr.val != key):\n",
    "                    ptr = ptr.next\n",
    "            except:\n",
    "                pass\n",
    "\n",
    "            if ptr == None:\n",
    "                new_node.next = data[index]\n",
    "                data[index] = new_node\n",
    "                print('join link '+ str(index) + ' success!')\n",
    "\n",
    "            else:\n",
    "                print('Node is existed !')\n",
    "                "
   ]
  },
  {
   "cell_type": "code",
   "execution_count": null,
   "metadata": {},
   "outputs": [],
   "source": [
    "如果是空的，就可以直接新增。\n",
    "那如果不是空的話我就要新增在後面，等於說接一列火車。\n",
    "是如果while迴圈ptr的值為None的話\n",
    "ptr.val就會出現error\n",
    "那出現error我要把它略過\n",
    "就寫成 pass"
   ]
  },
  {
   "cell_type": "code",
   "execution_count": null,
   "metadata": {},
   "outputs": [],
   "source": [
    "def contains(self, key):\n",
    "\n",
    "        h = MD5.new()\n",
    "        h.update(key.encode('utf-8'))\n",
    "\n",
    "        index = int(h.hexdigest(), 16) % self.capacity\n",
    "\n",
    "        ptr = self.data[index]\n",
    "        try:\n",
    "            while (ptr.val != key):\n",
    "                ptr = ptr.next\n",
    "        except:\n",
    "            pass\n",
    "\n",
    "        if ptr == None:\n",
    "            return False\n",
    "\n",
    "        elif ptr.val == key:\n",
    "            return True"
   ]
  },
  {
   "cell_type": "code",
   "execution_count": null,
   "metadata": {},
   "outputs": [],
   "source": [
    "while (ptr.val != key):\n",
    "                ptr = ptr.next\n",
    "這裡做一個定義的動作\n",
    "下面就是寫 如果是空值那就找不到\n",
    "如果可以等於我上面說的位置 那就可以找得到"
   ]
  },
  {
   "cell_type": "code",
   "execution_count": null,
   "metadata": {},
   "outputs": [],
   "source": [
    "def remove(self, key):\n",
    "\n",
    "        h = MD5.new()\n",
    "        h.update(key.encode('utf-8'))\n",
    "\n",
    "        index = int(h.hexdigest(), 16) % self.capacity\n",
    "\n",
    "        ptr = self.data[index]\n",
    "\n",
    "        def delete(ptr):\n",
    "\n",
    "            if ptr.val != key:\n",
    "                return delete(ptr.next)"
   ]
  },
  {
   "cell_type": "code",
   "execution_count": null,
   "metadata": {},
   "outputs": [],
   "source": [
    "如果 要刪除的值不等於 ptr的值 \n",
    "我就要讓他跑後面的其他節點直到ptr的值等於key"
   ]
  },
  {
   "cell_type": "code",
   "execution_count": null,
   "metadata": {},
   "outputs": [],
   "source": [
    " elif ptr.val == key:\n",
    "\n",
    "                if ptr.next == None:\n",
    "                    ptr = None\n",
    "\n",
    "                elif ptr.next != None:\n",
    "                    ptr = ptr.next\n",
    "\n",
    "            return ptr\n",
    "\n",
    "        self.data[index] = delete(ptr)"
   ]
  },
  {
   "cell_type": "code",
   "execution_count": null,
   "metadata": {},
   "outputs": [],
   "source": [
    "如果我第一個節點ptr的值等與key時\n",
    "如果ptr節點後面沒有其他節點那就把ptr這個節點的值移除掉以後整串就空了所以回傳none\n",
    "\n",
    "elif ptr.next != None:\n",
    "如果移除的ptr節點後面還有其他節點的話\n",
    "那就把後面的節點遞補上來所以現在的第一個節點ptr =ptr.next"
   ]
  },
  {
   "cell_type": "code",
   "execution_count": 1,
   "metadata": {},
   "outputs": [],
   "source": [
    "from Crypto.Hash import MD5\n",
    "class ListNode:\n",
    "    \n",
    "    def __init__(self, val):\n",
    "        \n",
    "        self.val = val\n",
    "        self.next = None\n",
    "class MyHashSet:\n",
    "    \n",
    "    def __init__(self, capacity = 5):\n",
    "        self.capacity = capacity\n",
    "        self.data = [None] * capacity\n",
    "        \n",
    "    def add(self, key):\n",
    "    #新增一個新的資料節點\n",
    "        new_node = ListNode(key)\n",
    "        new_node.next = None\n",
    "\n",
    "        h = MD5.new()\n",
    "        h.update(key.encode('utf-8'))\n",
    "\n",
    "        index = int(h.hexdigest(), 16) % self.capacity\n",
    "        \n",
    "        data = self.data\n",
    "        #如果第一個位置沒有節點就可以直接新增節點\n",
    "        if data[index] == None:\n",
    "            data[index] = new_node\n",
    "\n",
    "\n",
    "        #如果有資料的話就以迴圈形式直到沒有重複\n",
    "        elif data[index] != None:\n",
    "            ptr = data[index]\n",
    "            try:\n",
    "                while (ptr.val != key):\n",
    "                    ptr = ptr.next\n",
    "            except:\n",
    "                pass\n",
    "\n",
    "            if ptr == None:\n",
    "                new_node.next = data[index]\n",
    "                data[index] = new_node\n",
    "                print('join link '+ str(index) + ' success!')\n",
    "\n",
    "            else:\n",
    "                print('Node is existed !')\n",
    "                \n",
    "    def contains(self, key):\n",
    "\n",
    "        h = MD5.new()\n",
    "        h.update(key.encode('utf-8'))\n",
    "\n",
    "        index = int(h.hexdigest(), 16) % self.capacity\n",
    "\n",
    "        ptr = self.data[index]\n",
    "        try:\n",
    "            while (ptr.val != key):\n",
    "                ptr = ptr.next\n",
    "        except:\n",
    "            pass\n",
    "\n",
    "        if ptr == None:\n",
    "            return False\n",
    "\n",
    "        elif ptr.val == key:\n",
    "            return True\n",
    "        \n",
    "        \n",
    "    def remove(self, key):\n",
    "\n",
    "        h = MD5.new()\n",
    "        h.update(key.encode('utf-8'))\n",
    "\n",
    "        index = int(h.hexdigest(), 16) % self.capacity\n",
    "\n",
    "        ptr = self.data[index]\n",
    "\n",
    "        def delete(ptr):\n",
    "             #設定一遞迴函數，若 節點值 不等於 輸入值 則由遞迴執行下一個節點\n",
    "            if ptr.val != key:\n",
    "                return delete(ptr.next)\n",
    "            #節點若等於輸入值\n",
    "            elif ptr.val == key:\n",
    "                   #則若此節點無任何連結之其他節點，則直接刪除  \n",
    "                if ptr.next == None:\n",
    "                    ptr = None\n",
    "                 #若此節點含有其他連結之節點，則由下個節點之資料補上\n",
    "                elif ptr.next != None:\n",
    "                    ptr = ptr.next\n",
    "\n",
    "            return ptr\n",
    "\n",
    "        self.data[index] = delete(ptr)        "
   ]
  },
  {
   "cell_type": "code",
   "execution_count": 2,
   "metadata": {},
   "outputs": [
    {
     "ename": "NameError",
     "evalue": "name '測試' is not defined",
     "output_type": "error",
     "traceback": [
      "\u001b[0;31m---------------------------------------------------------------------------\u001b[0m",
      "\u001b[0;31mNameError\u001b[0m                                 Traceback (most recent call last)",
      "\u001b[0;32m<ipython-input-2-5e781746058f>\u001b[0m in \u001b[0;36m<module>\u001b[0;34m\u001b[0m\n\u001b[0;32m----> 1\u001b[0;31m \u001b[0m測試\u001b[0m\u001b[0;34m\u001b[0m\u001b[0;34m\u001b[0m\u001b[0m\n\u001b[0m",
      "\u001b[0;31mNameError\u001b[0m: name '測試' is not defined"
     ]
    }
   ],
   "source": [
    "測試"
   ]
  },
  {
   "cell_type": "code",
   "execution_count": 3,
   "metadata": {},
   "outputs": [
    {
     "name": "stdout",
     "output_type": "stream",
     "text": [
      "True\n",
      "True\n",
      "False\n",
      "True\n",
      "False\n"
     ]
    }
   ],
   "source": [
    "hashSet = MyHashSet()\n",
    "hashSet.add(\"dog\")\n",
    "hashSet.add(\"pig\")\n",
    "rel = hashSet.contains(\"pig\")\n",
    "print(rel)\n",
    "rel = hashSet.contains(\"dog\")\n",
    "print(rel)\n",
    "rel = hashSet.contains(\"cat\")\n",
    "print(rel)\n",
    "hashSet.add(\"bird\")\n",
    "rel = hashSet.contains(\"bird\")\n",
    "print(rel)\n",
    "hashSet.remove(\"pig\")\n",
    "rel = hashSet.contains(\"pig\")\n",
    "print(rel)"
   ]
  },
  {
   "cell_type": "code",
   "execution_count": null,
   "metadata": {},
   "outputs": [],
   "source": [
    "但是繳交第一次作業是錯的\n",
    "於是回來檢查發現\n",
    "我原本的code是用str存進去value也就是助教說的明碼\n",
    "現在改成16進位法後的整數了"
   ]
  },
  {
   "cell_type": "code",
   "execution_count": 2,
   "metadata": {},
   "outputs": [],
   "source": [
    "from Crypto.Hash import MD5\n",
    "\n",
    "class ListNode:\n",
    "    def __init__(self, val):\n",
    "        self.val = val\n",
    "        self.next = None\n",
    "\n",
    "\n",
    "class MyHashSet:\n",
    "    def __init__(self, capacity = 5):\n",
    "        self.capacity = capacity\n",
    "        self.data = [None] * capacity\n",
    "\n",
    "    def add(self, key):\n",
    "\n",
    "        h = MD5.new()\n",
    "        h.update(key.encode('utf-8'))\n",
    "        key = int(h.hexdigest(), 16)\n",
    "        index = key % self.capacity\n",
    "\n",
    "        new_node = ListNode(key)\n",
    "        new_node.next = None\n",
    "\n",
    "        data = self.data\n",
    "\n",
    "        if data[index] == None:\n",
    "            data[index] = new_node\n",
    "\n",
    "        elif data[index] != None:\n",
    "            ptr = data[index]\n",
    "            try:\n",
    "                while (ptr.val != key):\n",
    "                    ptr = ptr.next\n",
    "            except:\n",
    "                pass\n",
    "\n",
    "            if ptr == None:\n",
    "                new_node.next = data[index]\n",
    "                data[index] = new_node\n",
    "\n",
    "            else:\n",
    "                return\n",
    "\n",
    "    def remove(self, key):\n",
    "\n",
    "        h = MD5.new()\n",
    "        h.update(key.encode('utf-8'))\n",
    "        key = int(h.hexdigest(), 16)\n",
    "        index = key % self.capacity\n",
    "\n",
    "        ptr = self.data[index]\n",
    "\n",
    "        def delete(ptr):\n",
    "\n",
    "            if ptr.val != key:\n",
    "                return delete(ptr.next)\n",
    "\n",
    "            elif ptr.val == key:\n",
    "\n",
    "                if ptr.next == None:\n",
    "                    ptr = None\n",
    "\n",
    "            elif ptr.next != None:\n",
    "                ptr = ptr.next\n",
    "\n",
    "            return ptr\n",
    "\n",
    "        self.data[index] = delete(ptr)\n",
    "\n",
    "\n",
    "    def contains(self, key):\n",
    "\n",
    "        h = MD5.new()\n",
    "        h.update(key.encode('utf-8'))\n",
    "        key = int(h.hexdigest(), 16)\n",
    "        index = key % self.capacity\n",
    "\n",
    "        ptr = self.data[index]\n",
    "        try:\n",
    "            while (ptr.val != key):\n",
    "                ptr = ptr.next\n",
    "        except:\n",
    "            pass\n",
    "\n",
    "        if ptr == None:\n",
    "            return False\n",
    "\n",
    "        elif ptr.val == key:\n",
    "            return True"
   ]
  },
  {
   "cell_type": "code",
   "execution_count": null,
   "metadata": {},
   "outputs": [],
   "source": [
    "這樣應該就對了。"
   ]
  },
  {
   "cell_type": "code",
   "execution_count": 3,
   "metadata": {},
   "outputs": [],
   "source": [
    "from Crypto.Hash import MD5\n",
    "\n",
    "class ListNode:\n",
    "    def __init__(self, val):\n",
    "        self.val = val\n",
    "        self.next = None\n",
    "\n",
    "\n",
    "class MyHashSet:\n",
    "    def __init__(self, capacity = 5):\n",
    "        self.capacity = capacity\n",
    "        self.data = [None] * capacity\n",
    "\n",
    "    def add(self, key):\n",
    "\n",
    "        h = MD5.new()\n",
    "        h.update(key.encode('utf-8'))\n",
    "        key = int(h.hexdigest(), 16)\n",
    "        index = key % self.capacity\n",
    "\n",
    "        new_node = ListNode(key)\n",
    "        new_node.next = None\n",
    "\n",
    "        data = self.data\n",
    "\n",
    "        if data[index] == None:\n",
    "            data[index] = new_node\n",
    "\n",
    "        elif data[index] != None:\n",
    "            ptr = data[index]\n",
    "            try:\n",
    "                while (ptr.val != key):\n",
    "                    ptr = ptr.next\n",
    "            except:\n",
    "                pass\n",
    "\n",
    "            if ptr == None:\n",
    "                new_node.next = data[index]\n",
    "                data[index] = new_node\n",
    "\n",
    "            else:\n",
    "                return\n",
    "\n",
    "    def remove(self, key):\n",
    "        def delete(ptr):\n",
    "\n",
    "            if ptr.val != key:\n",
    "                return delete(ptr.next)\n",
    "\n",
    "            elif ptr.val == key:\n",
    "\n",
    "                if ptr.next == None:\n",
    "                    ptr = None\n",
    "\n",
    "            elif ptr.next != None:\n",
    "                ptr = ptr.next\n",
    "\n",
    "            return ptr\n",
    "\n",
    "        if self.contains(key) == True:\n",
    "\n",
    "            h = MD5.new()\n",
    "            h.update(key.encode('utf-8'))\n",
    "            key = int(h.hexdigest(), 16)\n",
    "            index = key % self.capacity\n",
    "\n",
    "            ptr = self.data[index]        \n",
    "            self.data[index] = delete(ptr)\n",
    "        else:\n",
    "            pass\n",
    "        \n",
    "    def contains(self, key):\n",
    "\n",
    "        h = MD5.new()\n",
    "        h.update(key.encode('utf-8'))\n",
    "        key = int(h.hexdigest(), 16)\n",
    "        index = key % self.capacity\n",
    "\n",
    "        ptr = self.data[index]\n",
    "        try:\n",
    "            while (ptr.val != key):\n",
    "                ptr = ptr.next\n",
    "        except:\n",
    "            pass\n",
    "\n",
    "        if ptr == None:\n",
    "            return False\n",
    "\n",
    "        elif ptr.val == key:\n",
    "            return True"
   ]
  },
  {
   "cell_type": "code",
   "execution_count": null,
   "metadata": {},
   "outputs": [],
   "source": []
  }
 ],
 "metadata": {
  "kernelspec": {
   "display_name": "Python 3",
   "language": "python",
   "name": "python3"
  },
  "language_info": {
   "codemirror_mode": {
    "name": "ipython",
    "version": 3
   },
   "file_extension": ".py",
   "mimetype": "text/x-python",
   "name": "python",
   "nbconvert_exporter": "python",
   "pygments_lexer": "ipython3",
   "version": "3.7.4"
  }
 },
 "nbformat": 4,
 "nbformat_minor": 2
}
