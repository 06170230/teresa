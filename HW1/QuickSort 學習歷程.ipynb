{
 "cells": [
  {
   "cell_type": "code",
   "execution_count": null,
   "metadata": {},
   "outputs": [],
   "source": [
    "首先先決定基準點設為首數 開始以下程式碼"
   ]
  },
  {
   "cell_type": "code",
   "execution_count": 1,
   "metadata": {},
   "outputs": [],
   "source": [
    "def quicksort(list):\n",
    "    left=[]\n",
    "    middle=[]\n",
    "    right=[]\n",
    "    #list=left + middle + right\n",
    "    pivot = list[0]#第一個位置為基準點\n",
    "    while len(list) < 2:\n",
    "        pass#如果小於就不要做任何動作\n",
    "\n",
    "    else:\n",
    "        if i < pivot:\n",
    "            left.append(i)\n",
    "        elif i > pivot:\n",
    "            right.append(i)\n",
    "        elif i == pivot:\n",
    "            middle.append(i)\n",
    "    left = quicksort(left)\n",
    "    rifht = quicksort(right)\n",
    "    return left + middle + right"
   ]
  },
  {
   "cell_type": "code",
   "execution_count": null,
   "metadata": {},
   "outputs": [],
   "source": [
    "因為只需要判斷一次這個陣列的長度而已，不需要重複循環\n",
    "所以不用用到while\n",
    "while len(list) < 2:\n",
    "    pass\n",
    "這邊改成\n",
    "if len(list) <2 :\n",
    "        pass"
   ]
  },
  {
   "cell_type": "code",
   "execution_count": null,
   "metadata": {},
   "outputs": [],
   "source": [
    "以下也要做長度的限制"
   ]
  },
  {
   "cell_type": "code",
   "execution_count": 1,
   "metadata": {},
   "outputs": [
    {
     "data": {
      "text/plain": [
       "[1, 2, 2, 3, 3, 3, 9, 12, 24]"
      ]
     },
     "execution_count": 1,
     "metadata": {},
     "output_type": "execute_result"
    }
   ],
   "source": [
    "def quicksort(list):\n",
    "    left=[]\n",
    "    middle=[]\n",
    "    right=[]\n",
    "    #list=left + middle + right\n",
    "    pivot = list[0]#第一個位置為基準點\n",
    "\n",
    "    if len(list) <2 :\n",
    "        pass\n",
    "    else:\n",
    "        for i in list:\n",
    "            if i < pivot:\n",
    "                left.append(i)\n",
    "            elif i > pivot:\n",
    "                right.append(i)\n",
    "            elif i == pivot:\n",
    "                middle.append(i)\n",
    "\n",
    "    if len(left) > 1:\n",
    "        left = quicksort(left)\n",
    "    else:\n",
    "        pass\n",
    "    if len(right) > 1:\n",
    "        right = quicksort(right)\n",
    "    else:\n",
    "        pass\n",
    "\n",
    "    return left + middle + right\n",
    "\n",
    "a = [1,3,24,3,2,12,9,2,3]\n",
    "quicksort(a)\n"
   ]
  },
  {
   "cell_type": "code",
   "execution_count": null,
   "metadata": {},
   "outputs": [],
   "source": []
  }
 ],
 "metadata": {
  "kernelspec": {
   "display_name": "Python 3",
   "language": "python",
   "name": "python3"
  },
  "language_info": {
   "codemirror_mode": {
    "name": "ipython",
    "version": 3
   },
   "file_extension": ".py",
   "mimetype": "text/x-python",
   "name": "python",
   "nbconvert_exporter": "python",
   "pygments_lexer": "ipython3",
   "version": "3.7.4"
  }
 },
 "nbformat": 4,
 "nbformat_minor": 2
}
