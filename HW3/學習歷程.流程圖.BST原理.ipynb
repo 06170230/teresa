{
 "cells": [
  {
   "cell_type": "code",
   "execution_count": null,
   "metadata": {},
   "outputs": [],
   "source": [
    "Binary Search Tree原理 參考資料：https://my.oschina.net/amince/blog/295618"
   ]
  },
  {
   "cell_type": "code",
   "execution_count": null,
   "metadata": {},
   "outputs": [],
   "source": [
    "Binary search tree - search 參考資料：https://youtu.be/-5LJy9htres"
   ]
  },
  {
   "cell_type": "code",
   "execution_count": null,
   "metadata": {},
   "outputs": [],
   "source": [
    "binary search tree-insert  參考資料：https://youtu.be/LwpLXm3eb6A"
   ]
  },
  {
   "cell_type": "code",
   "execution_count": null,
   "metadata": {},
   "outputs": [],
   "source": [
    "binary search tree-delete 參考資料：https://youtu.be/c1zKNiABiHk"
   ]
  },
  {
   "cell_type": "code",
   "execution_count": null,
   "metadata": {},
   "outputs": [],
   "source": [
    "binary search tree-modify 參考資料：https://www.youtube.com/watch?v=2gbYQIXXpi0\n",
    "                                  https://youtu.be/cySVml6e_Fc"
   ]
  },
  {
   "cell_type": "code",
   "execution_count": null,
   "metadata": {},
   "outputs": [],
   "source": [
    "Binary Search Tree原理：\n",
    "\n",
    "二叉查找樹是一種特殊的二叉樹。其樹結點的結構和普通二叉樹一樣。所不同的是，我們對二叉查找樹的建立和修改操作都需要使其始終滿足一個條件：對於樹中的每個結點X，它的左子樹中所有關鍵字值小於X的關鍵值，而它的右子樹中所有關鍵字大於X的關鍵值。\n",
    "\n",
    "正是這個條件二叉查找樹的建立和修改操作和普通二叉樹不一樣，需要按照一定的規則。這一規則賦予二叉查找樹一些性質。\n",
    "\n",
    "二叉查找樹具有的性質：\n",
    "\n",
    "1、二叉查找樹具有較好的查找性質（如果構建正確的話）。\n",
    "\n",
    "2、二叉查找樹的中序遍歷序列是正序排序。\n",
    "\n",
    "3、最小元素在最左端。最大元素在最右端\n",
    "\n",
    "第一種情況：root結點是葉子結點。那麼它可以直接被刪除。而不會影響其他結點。\n",
    "\n",
    "第二種情況：root結點具有一個孩子（左或者右）。那麼把z的孩子接在z的雙親上，就不會破壞樹的性質。\n",
    "\n",
    "第三種情況：root結點具有兩個孩子。對於這種情況，可能存在不同的處理方法。 "
   ]
  },
  {
   "cell_type": "code",
   "execution_count": null,
   "metadata": {},
   "outputs": [],
   "source": [
    "Binary search tree - search"
   ]
  },
  {
   "cell_type": "code",
   "execution_count": null,
   "metadata": {},
   "outputs": [],
   "source": [
    "參考資料：https://youtu.be/-5LJy9htres"
   ]
  },
  {
   "cell_type": "code",
   "execution_count": null,
   "metadata": {},
   "outputs": [],
   "source": [
    "binary search tree-search 學習歷程："
   ]
  },
  {
   "cell_type": "code",
   "execution_count": 1,
   "metadata": {},
   "outputs": [
    {
     "data": {
      "text/html": [
       "<img src=\"https://github.com/Teresakao0421/teresa/blob/master/binary%20tree/binary%20tree/search-流程圖.jpg?raw=true\"/>"
      ],
      "text/plain": [
       "<IPython.core.display.Image object>"
      ]
     },
     "execution_count": 1,
     "metadata": {},
     "output_type": "execute_result"
    }
   ],
   "source": [
    "from IPython.display import Image\n",
    "from IPython.core.display import HTML\n",
    "Image(url= \"https://github.com/Teresakao0421/teresa/blob/master/binary%20tree/binary%20tree/search-流程圖.jpg?raw=true\")"
   ]
  },
  {
   "cell_type": "code",
   "execution_count": null,
   "metadata": {},
   "outputs": [],
   "source": [
    "class TreeNode(object):\n",
    "    def _init_(self,x):\n",
    "        self.val = x\n",
    "        self.left = None\n",
    "        self.right = None"
   ]
  },
  {
   "cell_type": "code",
   "execution_count": null,
   "metadata": {},
   "outputs": [],
   "source": [
    "套入格式"
   ]
  },
  {
   "cell_type": "code",
   "execution_count": null,
   "metadata": {},
   "outputs": [],
   "source": [
    "class Solution(object):\n",
    "    def search(self, target):\n",
    "        if (self.root == None):\n",
    "            return None\n",
    "        else:\n",
    "            return self.search_node(self.root, target)"
   ]
  },
  {
   "cell_type": "code",
   "execution_count": null,
   "metadata": {},
   "outputs": [],
   "source": [
    "先做一個什麼都沒有的情況的search\n",
    "這邊的邏輯就是非常直覺，不會有太多的情況需要去做假設\n",
    "如果root>我們要找的數，且root.left（當前數的左邊child）不是空值。接下來的value改為root.left值\n",
    "如果root<我們要找的數，且root.right（當前數的右邊child）不是空值。接下來的value改為root.right值"
   ]
  },
  {
   "cell_type": "code",
   "execution_count": null,
   "metadata": {},
   "outputs": [],
   "source": [
    "def search_node(self,root,target):\n",
    "        if (root == None):\n",
    "            return None\n",
    "        if (root.target == target):\n",
    "            return root"
   ]
  },
  {
   "cell_type": "code",
   "execution_count": null,
   "metadata": {},
   "outputs": [],
   "source": [
    "這邊開始做一些假設，但會有個問題，我這樣定義那麼多如果要統整可能會有連不起來的狀況發生\n",
    "以下先試試看："
   ]
  },
  {
   "cell_type": "code",
   "execution_count": 2,
   "metadata": {},
   "outputs": [
    {
     "ename": "NameError",
     "evalue": "name 'root' is not defined",
     "output_type": "error",
     "traceback": [
      "\u001b[0;31m---------------------------------------------------------------------------\u001b[0m",
      "\u001b[0;31mNameError\u001b[0m                                 Traceback (most recent call last)",
      "\u001b[0;32m<ipython-input-2-df8e31e02b06>\u001b[0m in \u001b[0;36m<module>\u001b[0;34m()\u001b[0m\n\u001b[1;32m     15\u001b[0m         \u001b[0;32mif\u001b[0m \u001b[0;34m(\u001b[0m\u001b[0mroot\u001b[0m\u001b[0;34m.\u001b[0m\u001b[0mtarget\u001b[0m \u001b[0;34m==\u001b[0m \u001b[0mtarget\u001b[0m\u001b[0;34m)\u001b[0m\u001b[0;34m:\u001b[0m\u001b[0;34m\u001b[0m\u001b[0m\n\u001b[1;32m     16\u001b[0m             \u001b[0;32mreturn\u001b[0m \u001b[0mroot\u001b[0m\u001b[0;34m\u001b[0m\u001b[0m\n\u001b[0;32m---> 17\u001b[0;31m \u001b[0mprint\u001b[0m\u001b[0;34m(\u001b[0m\u001b[0mSolution\u001b[0m\u001b[0;34m(\u001b[0m\u001b[0;34m)\u001b[0m\u001b[0;34m.\u001b[0m\u001b[0msearch\u001b[0m\u001b[0;34m(\u001b[0m\u001b[0mroot\u001b[0m\u001b[0;34m,\u001b[0m\u001b[0;36m10\u001b[0m\u001b[0;34m)\u001b[0m \u001b[0;34m==\u001b[0m \u001b[0mroot\u001b[0m\u001b[0;34m.\u001b[0m\u001b[0mright\u001b[0m\u001b[0;34m.\u001b[0m\u001b[0mright\u001b[0m\u001b[0;34m)\u001b[0m\u001b[0;34m\u001b[0m\u001b[0m\n\u001b[0m",
      "\u001b[0;31mNameError\u001b[0m: name 'root' is not defined"
     ]
    }
   ],
   "source": [
    "class TreeNode(object):\n",
    "    def __init__(self,x):\n",
    "        self.val = x\n",
    "        self.left = None\n",
    "        self.right = None\n",
    "class Solution(object):\n",
    "    def search(self, target):\n",
    "        if (self.root == None):\n",
    "            return None\n",
    "        else:\n",
    "            return self.search_node(self.root, target)\n",
    "    def search_node(self,root,target):\n",
    "        if (root == None):\n",
    "            return None\n",
    "        if (root.target == target):\n",
    "            return root\n",
    "print(Solution().search(root,10) == root.right.right)"
   ]
  },
  {
   "cell_type": "code",
   "execution_count": null,
   "metadata": {},
   "outputs": [],
   "source": [
    "他說我的root沒有defined，我就跟insert一樣開始找錯誤點"
   ]
  },
  {
   "cell_type": "code",
   "execution_count": 3,
   "metadata": {},
   "outputs": [
    {
     "ename": "NameError",
     "evalue": "name 'root' is not defined",
     "output_type": "error",
     "traceback": [
      "\u001b[0;31m---------------------------------------------------------------------------\u001b[0m",
      "\u001b[0;31mNameError\u001b[0m                                 Traceback (most recent call last)",
      "\u001b[0;32m<ipython-input-3-3215f6a48a7e>\u001b[0m in \u001b[0;36m<module>\u001b[0;34m()\u001b[0m\n\u001b[1;32m     16\u001b[0m         \u001b[0;32melse\u001b[0m\u001b[0;34m:\u001b[0m\u001b[0;34m\u001b[0m\u001b[0m\n\u001b[1;32m     17\u001b[0m             \u001b[0;32mreturn\u001b[0m \u001b[0mself\u001b[0m\u001b[0;34m.\u001b[0m\u001b[0msearch_node\u001b[0m\u001b[0;34m(\u001b[0m\u001b[0mself\u001b[0m\u001b[0;34m.\u001b[0m\u001b[0mroot\u001b[0m\u001b[0;34m,\u001b[0m \u001b[0mtarget\u001b[0m\u001b[0;34m)\u001b[0m\u001b[0;34m\u001b[0m\u001b[0m\n\u001b[0;32m---> 18\u001b[0;31m \u001b[0mprint\u001b[0m\u001b[0;34m(\u001b[0m\u001b[0mSolution\u001b[0m\u001b[0;34m(\u001b[0m\u001b[0;34m)\u001b[0m\u001b[0;34m.\u001b[0m\u001b[0msearch\u001b[0m\u001b[0;34m(\u001b[0m\u001b[0mroot\u001b[0m\u001b[0;34m,\u001b[0m\u001b[0;36m10\u001b[0m\u001b[0;34m)\u001b[0m \u001b[0;34m==\u001b[0m \u001b[0mroot\u001b[0m\u001b[0;34m.\u001b[0m\u001b[0mright\u001b[0m\u001b[0;34m.\u001b[0m\u001b[0mright\u001b[0m\u001b[0;34m)\u001b[0m\u001b[0;34m\u001b[0m\u001b[0m\n\u001b[0m",
      "\u001b[0;31mNameError\u001b[0m: name 'root' is not defined"
     ]
    }
   ],
   "source": [
    "class TreeNode(object):\n",
    "    def __init__(self,x):\n",
    "        self.val = x\n",
    "        self.left = None\n",
    "        self.right = None\n",
    "        \n",
    "class Solution(object):\n",
    "    def search_node(self,root,target):\n",
    "        if (root == None):\n",
    "            return None\n",
    "        if (root.target == target):\n",
    "            return root\n",
    "    def search(self, target):\n",
    "        if (self.root == None):\n",
    "            return None\n",
    "        else:\n",
    "            return self.search_node(self.root, target)\n",
    "print(Solution().search(root,10) == root.right.right)"
   ]
  },
  {
   "cell_type": "code",
   "execution_count": null,
   "metadata": {},
   "outputs": [],
   "source": [
    "改了還是一樣，開始找別得解決辦法"
   ]
  },
  {
   "cell_type": "code",
   "execution_count": null,
   "metadata": {},
   "outputs": [],
   "source": [
    "class TreeNode(object):\n",
    "    def __init__(self,x):\n",
    "        self.val = x\n",
    "        self.left = None\n",
    "        self.right = None\n",
    "class Solution(object):\n",
    "    def search(self,root,target):\n",
    "        self.root = root\n",
    "        self.target = target\n",
    "    def search_n(self, target):\n",
    "        if (self.target == None):\n",
    "            return None\n",
    "        else:\n",
    "            return self.search_node(self.root, target)\n",
    "    def search_node(self,root,target):\n",
    "        if (root == None):\n",
    "            return None\n",
    "        if (root.target == target):\n",
    "            return root"
   ]
  },
  {
   "cell_type": "code",
   "execution_count": 4,
   "metadata": {},
   "outputs": [
    {
     "ename": "NameError",
     "evalue": "name 'root' is not defined",
     "output_type": "error",
     "traceback": [
      "\u001b[0;31m---------------------------------------------------------------------------\u001b[0m",
      "\u001b[0;31mNameError\u001b[0m                                 Traceback (most recent call last)",
      "\u001b[0;32m<ipython-input-4-a271214a6524>\u001b[0m in \u001b[0;36m<module>\u001b[0;34m()\u001b[0m\n\u001b[0;32m----> 1\u001b[0;31m \u001b[0mprint\u001b[0m\u001b[0;34m(\u001b[0m\u001b[0mSolution\u001b[0m\u001b[0;34m(\u001b[0m\u001b[0;34m)\u001b[0m\u001b[0;34m.\u001b[0m\u001b[0msearch\u001b[0m\u001b[0;34m(\u001b[0m\u001b[0mroot\u001b[0m\u001b[0;34m,\u001b[0m\u001b[0;36m10\u001b[0m\u001b[0;34m)\u001b[0m \u001b[0;34m==\u001b[0m \u001b[0mroot\u001b[0m\u001b[0;34m.\u001b[0m\u001b[0mright\u001b[0m\u001b[0;34m.\u001b[0m\u001b[0mright\u001b[0m\u001b[0;34m)\u001b[0m\u001b[0;34m\u001b[0m\u001b[0m\n\u001b[0m",
      "\u001b[0;31mNameError\u001b[0m: name 'root' is not defined"
     ]
    }
   ],
   "source": [
    "print(Solution().search(root,10) == root.right.right)"
   ]
  },
  {
   "cell_type": "code",
   "execution_count": 5,
   "metadata": {},
   "outputs": [
    {
     "name": "stdout",
     "output_type": "stream",
     "text": [
      "<bound method Solution.search of <__main__.Solution object at 0x104d51a58>>\n",
      "False\n"
     ]
    }
   ],
   "source": [
    "class TreeNode(object):\n",
    "    def __init__(self,x):\n",
    "        self.val = x\n",
    "        self.left = None\n",
    "        self.right = None\n",
    "class Solution(object):\n",
    "    def search(self,root,target):\n",
    "        self.root = root\n",
    "        #self.val = target\n",
    "        print(self.search)\n",
    "    def search_(self,data):\n",
    "        if(data == self.data):\n",
    "            return True\n",
    "        elif(data <= self.data):\n",
    "            if self.left:\n",
    "                return self.left.search_(data)\n",
    "            else:\n",
    "                return False\n",
    "        else:\n",
    "            if self.right:\n",
    "                return self.right.search_(data)\n",
    "            else:\n",
    "                return False\n",
    "root = TreeNode(5)\n",
    "root.left = TreeNode(3)\n",
    "root.left.left = TreeNode(3)\n",
    "root.left.left.left = TreeNode(-5)\n",
    "root.right = TreeNode(8)\n",
    "root.right.left = TreeNode(7)\n",
    "root.right.right = TreeNode(10)\n",
    "root.right.left.left = TreeNode(6)\n",
    "print(Solution().search(root,10)==root.right.right)"
   ]
  },
  {
   "cell_type": "code",
   "execution_count": null,
   "metadata": {},
   "outputs": [],
   "source": [
    "self.root = root\n",
    "        #self.val = target\n",
    "    改成這樣，都有套進去了 可是卻顯示false我可能要看看我的概念是不是有錯誤"
   ]
  },
  {
   "cell_type": "code",
   "execution_count": null,
   "metadata": {},
   "outputs": [],
   "source": [
    "if target < root.val:\n",
    "            return self.search(root.left,target)\n",
    "        else:\n",
    "            return self.search(root.right,target)"
   ]
  },
  {
   "cell_type": "code",
   "execution_count": null,
   "metadata": {},
   "outputs": [],
   "source": [
    "我前面其實都沒有注意到左右小孩的問題，就是一直在比同一個邏輯，\n",
    "這是我看參考資料才發現的錯誤，\n",
    "開始把它加進去。"
   ]
  },
  {
   "cell_type": "code",
   "execution_count": 6,
   "metadata": {},
   "outputs": [
    {
     "name": "stdout",
     "output_type": "stream",
     "text": [
      "True\n"
     ]
    }
   ],
   "source": [
    "class TreeNode(object):\n",
    "    def __init__(self,x):\n",
    "        self.val = x\n",
    "        self.left = None\n",
    "        self.right = None\n",
    "class Solution(object):\n",
    "    def search(self,root,target):\n",
    "        self.root=root\n",
    "        if (root == None):\n",
    "            return None\n",
    "        if (root.val == target):\n",
    "            return root\n",
    "        if target < root.val:\n",
    "            return self.search(root.left,target)\n",
    "        else:\n",
    "            return self.search(root.right,target)\n",
    "        print(self.search)\n",
    "\n",
    "root = TreeNode(5)\n",
    "root.left = TreeNode(3)\n",
    "root.left.left = TreeNode(3)\n",
    "root.left.left.left = TreeNode(-5)\n",
    "root.right = TreeNode(8)\n",
    "root.right.left = TreeNode(7)\n",
    "root.right.right = TreeNode(10)\n",
    "root.right.left.left = TreeNode(6)\n",
    "print(Solution().search(root,10)==root.right.right)"
   ]
  },
  {
   "cell_type": "code",
   "execution_count": null,
   "metadata": {},
   "outputs": [],
   "source": [
    "search 成功"
   ]
  },
  {
   "cell_type": "code",
   "execution_count": null,
   "metadata": {},
   "outputs": [],
   "source": [
    "Binary search tree - insert"
   ]
  },
  {
   "cell_type": "code",
   "execution_count": null,
   "metadata": {},
   "outputs": [],
   "source": [
    "參考資料：https://youtu.be/LwpLXm3eb6A"
   ]
  },
  {
   "cell_type": "code",
   "execution_count": null,
   "metadata": {},
   "outputs": [],
   "source": [
    "binary search tree-insert 學習歷程："
   ]
  },
  {
   "cell_type": "code",
   "execution_count": 7,
   "metadata": {},
   "outputs": [
    {
     "data": {
      "text/html": [
       "<img src=\"https://github.com/Teresakao0421/teresa/blob/master/binary%20tree/binary%20tree/insert-流程圖.jpg?raw=true\"/>"
      ],
      "text/plain": [
       "<IPython.core.display.Image object>"
      ]
     },
     "execution_count": 7,
     "metadata": {},
     "output_type": "execute_result"
    }
   ],
   "source": [
    "from IPython.display import Image\n",
    "from IPython.core.display import HTML\n",
    "Image(url= \"https://github.com/Teresakao0421/teresa/blob/master/binary%20tree/binary%20tree/insert-流程圖.jpg?raw=true\")"
   ]
  },
  {
   "cell_type": "code",
   "execution_count": null,
   "metadata": {},
   "outputs": [],
   "source": [
    "class TreeNode(object):\n",
    "    def _init_(self,x):\n",
    "        self.val = x\n",
    "        self.left = None\n",
    "        self.right = None"
   ]
  },
  {
   "cell_type": "code",
   "execution_count": null,
   "metadata": {},
   "outputs": [],
   "source": [
    "先將腦袋的想法寫出來，直覺的邏輯\n",
    "如果小於等於就放左邊 if value <= current.value:\n",
    "                    if current.left:\n",
    "                        current = current.left\n",
    "                    else:\n",
    "                        current.left = Node(value)\n",
    "                        break;\n",
    "大於就放右邊 elif value > current.value:\n",
    "                    if current.right:\n",
    "                        current = current.right\n",
    "                    else:\n",
    "                        current.right = Node(value)\n",
    "                        break;\n",
    "如果是其他的就不給過。"
   ]
  },
  {
   "cell_type": "code",
   "execution_count": null,
   "metadata": {},
   "outputs": [],
   "source": [
    "如果if not self.root: 這個時候會有兩個假設需要去做：\n",
    "    val < current.val:\n",
    "    if current.left:\n",
    "    current = current.left小的就放到左邊 再丟進迴圈去跑，不行就break。\n",
    "    當然 val > current.val:\n",
    "        if current.right:\n",
    "            current = current.right 大的放到右邊 再丟進迴圈去跑，不行就break。"
   ]
  },
  {
   "cell_type": "code",
   "execution_count": null,
   "metadata": {},
   "outputs": [],
   "source": [
    "class Solution(object):\n",
    "    def insert(self, root, val):\n",
    "        if not self.root:\n",
    "            self.root = Node(val)\n",
    "        else:\n",
    "            current = self.root\n",
    "            while True:\n",
    "                if val < current.val:\n",
    "                    if current.left:\n",
    "                        current = current.left\n",
    "                    else:\n",
    "                        current.left = Node(val)\n",
    "                        break;\n",
    "                elif val > current.val:\n",
    "                    if current.right:\n",
    "                        current = current.right\n",
    "                    else:\n",
    "                        current.right = Node(val)\n",
    "                        break;\n",
    "                else:\n",
    "                     break"
   ]
  },
  {
   "cell_type": "code",
   "execution_count": null,
   "metadata": {},
   "outputs": [],
   "source": [
    "改一下原本的想法，要注意class裡面的用法，\n",
    "應該要將 self.root = Node(val) 這邊加上self\n",
    "這是語法的熟練度，再來帶入測值，嘗試解決"
   ]
  },
  {
   "cell_type": "code",
   "execution_count": null,
   "metadata": {},
   "outputs": [],
   "source": [
    "class TreeNode(object):\n",
    "    def __init__(self,x):\n",
    "        self.val = x\n",
    "        self.left = None\n",
    "        self.right = None\n",
    "class Solution(object):\n",
    "    def insert(self, root, val):\n",
    "        if not self.root:\n",
    "            self.root = Node(val)\n",
    "        else:\n",
    "            current = self.root\n",
    "            while True:\n",
    "                if val < current.val:\n",
    "                    if current.left:\n",
    "                        current = current.left\n",
    "                    else:\n",
    "                        current.left = Node(val)\n",
    "                        break;\n",
    "                elif val > current.val:\n",
    "                    if current.right:\n",
    "                        current = current.right\n",
    "                    else:\n",
    "                        current.right = Node(val)\n",
    "                        break;\n",
    "                else:\n",
    "                     break"
   ]
  },
  {
   "cell_type": "code",
   "execution_count": 8,
   "metadata": {},
   "outputs": [
    {
     "ename": "AttributeError",
     "evalue": "'Solution' object has no attribute 'insert'",
     "output_type": "error",
     "traceback": [
      "\u001b[0;31m---------------------------------------------------------------------------\u001b[0m",
      "\u001b[0;31mAttributeError\u001b[0m                            Traceback (most recent call last)",
      "\u001b[0;32m<ipython-input-8-08a87f10094b>\u001b[0m in \u001b[0;36m<module>\u001b[0;34m()\u001b[0m\n\u001b[1;32m      7\u001b[0m \u001b[0mroots\u001b[0m\u001b[0;34m.\u001b[0m\u001b[0mright\u001b[0m\u001b[0;34m.\u001b[0m\u001b[0mright\u001b[0m \u001b[0;34m=\u001b[0m \u001b[0mTreeNode\u001b[0m\u001b[0;34m(\u001b[0m\u001b[0;36m10\u001b[0m\u001b[0;34m)\u001b[0m\u001b[0;34m\u001b[0m\u001b[0m\n\u001b[1;32m      8\u001b[0m \u001b[0mroots\u001b[0m\u001b[0;34m.\u001b[0m\u001b[0mright\u001b[0m\u001b[0;34m.\u001b[0m\u001b[0mleft\u001b[0m\u001b[0;34m.\u001b[0m\u001b[0mleft\u001b[0m \u001b[0;34m=\u001b[0m \u001b[0mTreeNode\u001b[0m\u001b[0;34m(\u001b[0m\u001b[0;36m6\u001b[0m\u001b[0;34m)\u001b[0m\u001b[0;34m\u001b[0m\u001b[0m\n\u001b[0;32m----> 9\u001b[0;31m \u001b[0mprint\u001b[0m\u001b[0;34m(\u001b[0m\u001b[0mSolution\u001b[0m\u001b[0;34m(\u001b[0m\u001b[0;34m)\u001b[0m\u001b[0;34m.\u001b[0m\u001b[0minsert\u001b[0m\u001b[0;34m(\u001b[0m\u001b[0mroots\u001b[0m\u001b[0;34m,\u001b[0m\u001b[0;36m4\u001b[0m\u001b[0;34m)\u001b[0m \u001b[0;34m==\u001b[0m \u001b[0mroots\u001b[0m\u001b[0;34m.\u001b[0m\u001b[0mleft\u001b[0m\u001b[0;34m.\u001b[0m\u001b[0mright\u001b[0m\u001b[0;34m)\u001b[0m\u001b[0;34m\u001b[0m\u001b[0m\n\u001b[0m",
      "\u001b[0;31mAttributeError\u001b[0m: 'Solution' object has no attribute 'insert'"
     ]
    }
   ],
   "source": [
    "roots = TreeNode(5)\n",
    "roots.left = TreeNode(3)\n",
    "roots.left.left = TreeNode(3)\n",
    "roots.left.left.left = TreeNode(-5)\n",
    "roots.right = TreeNode(8)\n",
    "roots.right.left = TreeNode(7)\n",
    "roots.right.right = TreeNode(10)\n",
    "roots.right.left.left = TreeNode(6)\n",
    "print(Solution().insert(roots,4) == roots.left.right)"
   ]
  },
  {
   "cell_type": "code",
   "execution_count": null,
   "metadata": {},
   "outputs": [],
   "source": [
    "我的solution裡面一直沒有包含root\n",
    "這時候開始回去檢查各個定義有沒有把它串起來，或是我根本沒定義好root\n",
    "回去檢查第一個定義，看看裡面的root有沒有被包進去。"
   ]
  },
  {
   "cell_type": "code",
   "execution_count": null,
   "metadata": {},
   "outputs": [],
   "source": [
    "class Solution(object):\n",
    "    def insert(self,root,val):\n",
    "        self.insert_(root,val)\n",
    "        self.root = root\n",
    "        print(self.insert)"
   ]
  },
  {
   "cell_type": "code",
   "execution_count": null,
   "metadata": {},
   "outputs": [],
   "source": [
    "發現我沒加到 self.root = root\n",
    "如果 我加上去會如何\n",
    "還有我也加上self.insert_(root,val)這句 覺得應該要將下面那個定義做串連的動作"
   ]
  },
  {
   "cell_type": "code",
   "execution_count": 9,
   "metadata": {},
   "outputs": [
    {
     "ename": "AttributeError",
     "evalue": "'Solution' object has no attribute 'root'",
     "output_type": "error",
     "traceback": [
      "\u001b[0;31m---------------------------------------------------------------------------\u001b[0m",
      "\u001b[0;31mAttributeError\u001b[0m                            Traceback (most recent call last)",
      "\u001b[0;32m<ipython-input-9-380d2273804d>\u001b[0m in \u001b[0;36m<module>\u001b[0;34m()\u001b[0m\n\u001b[1;32m     38\u001b[0m \u001b[0mroot\u001b[0m\u001b[0;34m.\u001b[0m\u001b[0mright\u001b[0m\u001b[0;34m.\u001b[0m\u001b[0mright\u001b[0m \u001b[0;34m=\u001b[0m \u001b[0mTreeNode\u001b[0m\u001b[0;34m(\u001b[0m\u001b[0;36m10\u001b[0m\u001b[0;34m)\u001b[0m\u001b[0;34m\u001b[0m\u001b[0m\n\u001b[1;32m     39\u001b[0m \u001b[0mroot\u001b[0m\u001b[0;34m.\u001b[0m\u001b[0mright\u001b[0m\u001b[0;34m.\u001b[0m\u001b[0mleft\u001b[0m\u001b[0;34m.\u001b[0m\u001b[0mleft\u001b[0m \u001b[0;34m=\u001b[0m \u001b[0mTreeNode\u001b[0m\u001b[0;34m(\u001b[0m\u001b[0;36m6\u001b[0m\u001b[0;34m)\u001b[0m\u001b[0;34m\u001b[0m\u001b[0m\n\u001b[0;32m---> 40\u001b[0;31m \u001b[0mprint\u001b[0m\u001b[0;34m(\u001b[0m\u001b[0mSolution\u001b[0m\u001b[0;34m(\u001b[0m\u001b[0;34m)\u001b[0m\u001b[0;34m.\u001b[0m\u001b[0minsert\u001b[0m\u001b[0;34m(\u001b[0m\u001b[0mroot\u001b[0m\u001b[0;34m,\u001b[0m\u001b[0;36m4\u001b[0m\u001b[0;34m)\u001b[0m \u001b[0;34m==\u001b[0m \u001b[0mroot\u001b[0m\u001b[0;34m.\u001b[0m\u001b[0mleft\u001b[0m\u001b[0;34m.\u001b[0m\u001b[0mright\u001b[0m\u001b[0;34m)\u001b[0m\u001b[0;34m\u001b[0m\u001b[0m\n\u001b[0m",
      "\u001b[0;32m<ipython-input-9-380d2273804d>\u001b[0m in \u001b[0;36minsert\u001b[0;34m(self, root, val)\u001b[0m\n\u001b[1;32m      6\u001b[0m \u001b[0;32mclass\u001b[0m \u001b[0mSolution\u001b[0m\u001b[0;34m(\u001b[0m\u001b[0mobject\u001b[0m\u001b[0;34m)\u001b[0m\u001b[0;34m:\u001b[0m\u001b[0;34m\u001b[0m\u001b[0m\n\u001b[1;32m      7\u001b[0m     \u001b[0;32mdef\u001b[0m \u001b[0minsert\u001b[0m\u001b[0;34m(\u001b[0m\u001b[0mself\u001b[0m\u001b[0;34m,\u001b[0m\u001b[0mroot\u001b[0m\u001b[0;34m,\u001b[0m\u001b[0mval\u001b[0m\u001b[0;34m)\u001b[0m\u001b[0;34m:\u001b[0m\u001b[0;34m\u001b[0m\u001b[0m\n\u001b[0;32m----> 8\u001b[0;31m         \u001b[0mself\u001b[0m\u001b[0;34m.\u001b[0m\u001b[0minsert_\u001b[0m\u001b[0;34m(\u001b[0m\u001b[0mroot\u001b[0m\u001b[0;34m,\u001b[0m\u001b[0mval\u001b[0m\u001b[0;34m)\u001b[0m\u001b[0;34m\u001b[0m\u001b[0m\n\u001b[0m\u001b[1;32m      9\u001b[0m         \u001b[0mself\u001b[0m\u001b[0;34m.\u001b[0m\u001b[0mroot\u001b[0m \u001b[0;34m=\u001b[0m \u001b[0mroot\u001b[0m\u001b[0;34m\u001b[0m\u001b[0m\n\u001b[1;32m     10\u001b[0m         \u001b[0mprint\u001b[0m\u001b[0;34m(\u001b[0m\u001b[0mself\u001b[0m\u001b[0;34m.\u001b[0m\u001b[0minsert\u001b[0m\u001b[0;34m)\u001b[0m\u001b[0;34m\u001b[0m\u001b[0m\n",
      "\u001b[0;32m<ipython-input-9-380d2273804d>\u001b[0m in \u001b[0;36minsert_\u001b[0;34m(self, root, val)\u001b[0m\n\u001b[1;32m     10\u001b[0m         \u001b[0mprint\u001b[0m\u001b[0;34m(\u001b[0m\u001b[0mself\u001b[0m\u001b[0;34m.\u001b[0m\u001b[0minsert\u001b[0m\u001b[0;34m)\u001b[0m\u001b[0;34m\u001b[0m\u001b[0m\n\u001b[1;32m     11\u001b[0m     \u001b[0;32mdef\u001b[0m \u001b[0minsert_\u001b[0m\u001b[0;34m(\u001b[0m\u001b[0mself\u001b[0m\u001b[0;34m,\u001b[0m\u001b[0mroot\u001b[0m\u001b[0;34m,\u001b[0m\u001b[0mval\u001b[0m\u001b[0;34m)\u001b[0m\u001b[0;34m:\u001b[0m\u001b[0;34m\u001b[0m\u001b[0m\n\u001b[0;32m---> 12\u001b[0;31m         \u001b[0;32mif\u001b[0m \u001b[0;32mnot\u001b[0m \u001b[0mself\u001b[0m\u001b[0;34m.\u001b[0m\u001b[0mroot\u001b[0m\u001b[0;34m:\u001b[0m\u001b[0;34m\u001b[0m\u001b[0m\n\u001b[0m\u001b[1;32m     13\u001b[0m             \u001b[0mself\u001b[0m\u001b[0;34m.\u001b[0m\u001b[0mroot\u001b[0m \u001b[0;34m=\u001b[0m \u001b[0mNode\u001b[0m\u001b[0;34m(\u001b[0m\u001b[0mval\u001b[0m\u001b[0;34m)\u001b[0m\u001b[0;34m\u001b[0m\u001b[0m\n\u001b[1;32m     14\u001b[0m         \u001b[0;32melse\u001b[0m\u001b[0;34m:\u001b[0m\u001b[0;34m\u001b[0m\u001b[0m\n",
      "\u001b[0;31mAttributeError\u001b[0m: 'Solution' object has no attribute 'root'"
     ]
    }
   ],
   "source": [
    "class TreeNode(object):\n",
    "    def __init__(self,x):\n",
    "        self.val = x\n",
    "        self.left = None\n",
    "        self.right = None\n",
    "class Solution(object):\n",
    "    def insert(self,root,val):\n",
    "        self.insert_(root,val)\n",
    "        self.root = root\n",
    "        print(self.insert)\n",
    "    def insert_(self,root,val):\n",
    "        if not self.root:\n",
    "            self.root = Node(val)\n",
    "        else:\n",
    "            current = self.root\n",
    "            while True:\n",
    "                if val <= current.val:\n",
    "                    if current.left:\n",
    "                        current = current.left\n",
    "                    else:\n",
    "                        current.left = val\n",
    "                        break;\n",
    "                elif val > current.val:\n",
    "                    if current.right:\n",
    "                        current = current.right\n",
    "                    else:\n",
    "                        current.right = val\n",
    "                        break;\n",
    "                else:\n",
    "                    break\n",
    "                    print(self.insert_)\n",
    "root = TreeNode(5)\n",
    "root.left = TreeNode(3)\n",
    "root.left.left = TreeNode(3)\n",
    "root.left.left.left = TreeNode(-5)\n",
    "root.right = TreeNode(8)\n",
    "root.right.left = TreeNode(7)\n",
    "root.right.right = TreeNode(10)\n",
    "root.right.left.left = TreeNode(6)\n",
    "print(Solution().insert(root,4) == root.left.right)"
   ]
  },
  {
   "cell_type": "code",
   "execution_count": null,
   "metadata": {},
   "outputs": [],
   "source": [
    "怎麼還是錯誤，想很久還是得不出結論，那我就先將我增加的量個動作其中一個做#\n",
    "試試看"
   ]
  },
  {
   "cell_type": "code",
   "execution_count": 10,
   "metadata": {},
   "outputs": [
    {
     "name": "stdout",
     "output_type": "stream",
     "text": [
      "<bound method Solution.insert of <__main__.Solution object at 0x104d3b438>>\n",
      "True\n"
     ]
    }
   ],
   "source": [
    "class TreeNode(object):\n",
    "    def __init__(self,x):\n",
    "        self.val = x\n",
    "        self.left = None\n",
    "        self.right = None\n",
    "class Solution(object):\n",
    "    def insert(self,root,val):\n",
    "        #self.insert_(root,val)\n",
    "        self.root = root\n",
    "        print(self.insert)\n",
    "    def insert_(self,root,val):\n",
    "        if not self.root:\n",
    "            self.root = Node(val)\n",
    "        else:\n",
    "            current = self.root\n",
    "            while True:\n",
    "                if val <= current.val:\n",
    "                    if current.left:\n",
    "                        current = current.left\n",
    "                    else:\n",
    "                        current.left = val\n",
    "                        break;\n",
    "                elif val > current.val:\n",
    "                    if current.right:\n",
    "                        current = current.right\n",
    "                    else:\n",
    "                        current.right = val\n",
    "                        break;\n",
    "                else:\n",
    "                    break\n",
    "                    print(self.insert_)\n",
    "root = TreeNode(5)\n",
    "root.left = TreeNode(3)\n",
    "root.left.left = TreeNode(3)\n",
    "root.left.left.left = TreeNode(-5)\n",
    "root.right = TreeNode(8)\n",
    "root.right.left = TreeNode(7)\n",
    "root.right.right = TreeNode(10)\n",
    "root.right.left.left = TreeNode(6)\n",
    "print(Solution().insert(root,4) == root.left.right)"
   ]
  },
  {
   "cell_type": "code",
   "execution_count": null,
   "metadata": {},
   "outputs": [],
   "source": [
    "結果成功，也太莫名其妙，想了一下大概的邏輯，應該是我其實不用呼叫兩次，畢竟我下面的參數上面也有。"
   ]
  },
  {
   "cell_type": "code",
   "execution_count": null,
   "metadata": {},
   "outputs": [],
   "source": [
    "class Solution(object):\n",
    "    def insert(self,root,val):\n",
    "        #self.insert_(root,val)\n",
    "        self.root = root\n",
    "        print(self.insert)"
   ]
  },
  {
   "cell_type": "code",
   "execution_count": null,
   "metadata": {},
   "outputs": [],
   "source": [
    "裡面的 self.insert_(root,val)\n",
    "        self.root = root\n",
    "    這兩行，加了 self.insert_(root,val) 等於讓他無限重跑，如果沒有加self.root = root 等於是沒有定義root"
   ]
  },
  {
   "cell_type": "code",
   "execution_count": 11,
   "metadata": {},
   "outputs": [
    {
     "ename": "AttributeError",
     "evalue": "'Solution' object has no attribute 'root'",
     "output_type": "error",
     "traceback": [
      "\u001b[0;31m---------------------------------------------------------------------------\u001b[0m",
      "\u001b[0;31mAttributeError\u001b[0m                            Traceback (most recent call last)",
      "\u001b[0;32m<ipython-input-11-0ad7a04bc3e4>\u001b[0m in \u001b[0;36m<module>\u001b[0;34m()\u001b[0m\n\u001b[1;32m     38\u001b[0m \u001b[0mroot\u001b[0m\u001b[0;34m.\u001b[0m\u001b[0mright\u001b[0m\u001b[0;34m.\u001b[0m\u001b[0mright\u001b[0m \u001b[0;34m=\u001b[0m \u001b[0mTreeNode\u001b[0m\u001b[0;34m(\u001b[0m\u001b[0;36m10\u001b[0m\u001b[0;34m)\u001b[0m\u001b[0;34m\u001b[0m\u001b[0m\n\u001b[1;32m     39\u001b[0m \u001b[0mroot\u001b[0m\u001b[0;34m.\u001b[0m\u001b[0mright\u001b[0m\u001b[0;34m.\u001b[0m\u001b[0mleft\u001b[0m\u001b[0;34m.\u001b[0m\u001b[0mleft\u001b[0m \u001b[0;34m=\u001b[0m \u001b[0mTreeNode\u001b[0m\u001b[0;34m(\u001b[0m\u001b[0;36m6\u001b[0m\u001b[0;34m)\u001b[0m\u001b[0;34m\u001b[0m\u001b[0m\n\u001b[0;32m---> 40\u001b[0;31m \u001b[0mprint\u001b[0m\u001b[0;34m(\u001b[0m\u001b[0mSolution\u001b[0m\u001b[0;34m(\u001b[0m\u001b[0;34m)\u001b[0m\u001b[0;34m.\u001b[0m\u001b[0minsert\u001b[0m\u001b[0;34m(\u001b[0m\u001b[0mroot\u001b[0m\u001b[0;34m,\u001b[0m\u001b[0;36m4\u001b[0m\u001b[0;34m)\u001b[0m \u001b[0;34m==\u001b[0m \u001b[0mroot\u001b[0m\u001b[0;34m.\u001b[0m\u001b[0mleft\u001b[0m\u001b[0;34m.\u001b[0m\u001b[0mright\u001b[0m\u001b[0;34m)\u001b[0m\u001b[0;34m\u001b[0m\u001b[0m\n\u001b[0m",
      "\u001b[0;32m<ipython-input-11-0ad7a04bc3e4>\u001b[0m in \u001b[0;36minsert\u001b[0;34m(self, root, val)\u001b[0m\n\u001b[1;32m      6\u001b[0m \u001b[0;32mclass\u001b[0m \u001b[0mSolution\u001b[0m\u001b[0;34m(\u001b[0m\u001b[0mobject\u001b[0m\u001b[0;34m)\u001b[0m\u001b[0;34m:\u001b[0m\u001b[0;34m\u001b[0m\u001b[0m\n\u001b[1;32m      7\u001b[0m     \u001b[0;32mdef\u001b[0m \u001b[0minsert\u001b[0m\u001b[0;34m(\u001b[0m\u001b[0mself\u001b[0m\u001b[0;34m,\u001b[0m\u001b[0mroot\u001b[0m\u001b[0;34m,\u001b[0m\u001b[0mval\u001b[0m\u001b[0;34m)\u001b[0m\u001b[0;34m:\u001b[0m\u001b[0;34m\u001b[0m\u001b[0m\n\u001b[0;32m----> 8\u001b[0;31m         \u001b[0mself\u001b[0m\u001b[0;34m.\u001b[0m\u001b[0minsert_\u001b[0m\u001b[0;34m(\u001b[0m\u001b[0mroot\u001b[0m\u001b[0;34m,\u001b[0m\u001b[0mval\u001b[0m\u001b[0;34m)\u001b[0m\u001b[0;34m\u001b[0m\u001b[0m\n\u001b[0m\u001b[1;32m      9\u001b[0m         \u001b[0;31m#self.root = root\u001b[0m\u001b[0;34m\u001b[0m\u001b[0;34m\u001b[0m\u001b[0m\n\u001b[1;32m     10\u001b[0m         \u001b[0mprint\u001b[0m\u001b[0;34m(\u001b[0m\u001b[0mself\u001b[0m\u001b[0;34m.\u001b[0m\u001b[0minsert\u001b[0m\u001b[0;34m)\u001b[0m\u001b[0;34m\u001b[0m\u001b[0m\n",
      "\u001b[0;32m<ipython-input-11-0ad7a04bc3e4>\u001b[0m in \u001b[0;36minsert_\u001b[0;34m(self, root, val)\u001b[0m\n\u001b[1;32m     10\u001b[0m         \u001b[0mprint\u001b[0m\u001b[0;34m(\u001b[0m\u001b[0mself\u001b[0m\u001b[0;34m.\u001b[0m\u001b[0minsert\u001b[0m\u001b[0;34m)\u001b[0m\u001b[0;34m\u001b[0m\u001b[0m\n\u001b[1;32m     11\u001b[0m     \u001b[0;32mdef\u001b[0m \u001b[0minsert_\u001b[0m\u001b[0;34m(\u001b[0m\u001b[0mself\u001b[0m\u001b[0;34m,\u001b[0m\u001b[0mroot\u001b[0m\u001b[0;34m,\u001b[0m\u001b[0mval\u001b[0m\u001b[0;34m)\u001b[0m\u001b[0;34m:\u001b[0m\u001b[0;34m\u001b[0m\u001b[0m\n\u001b[0;32m---> 12\u001b[0;31m         \u001b[0;32mif\u001b[0m \u001b[0;32mnot\u001b[0m \u001b[0mself\u001b[0m\u001b[0;34m.\u001b[0m\u001b[0mroot\u001b[0m\u001b[0;34m:\u001b[0m\u001b[0;34m\u001b[0m\u001b[0m\n\u001b[0m\u001b[1;32m     13\u001b[0m             \u001b[0mself\u001b[0m\u001b[0;34m.\u001b[0m\u001b[0mroot\u001b[0m \u001b[0;34m=\u001b[0m \u001b[0mNode\u001b[0m\u001b[0;34m(\u001b[0m\u001b[0mval\u001b[0m\u001b[0;34m)\u001b[0m\u001b[0;34m\u001b[0m\u001b[0m\n\u001b[1;32m     14\u001b[0m         \u001b[0;32melse\u001b[0m\u001b[0;34m:\u001b[0m\u001b[0;34m\u001b[0m\u001b[0m\n",
      "\u001b[0;31mAttributeError\u001b[0m: 'Solution' object has no attribute 'root'"
     ]
    }
   ],
   "source": [
    "class TreeNode(object):\n",
    "    def __init__(self,x):\n",
    "        self.val = x\n",
    "        self.left = None\n",
    "        self.right = None\n",
    "class Solution(object):\n",
    "    def insert(self,root,val):\n",
    "        self.insert_(root,val)\n",
    "        #self.root = root\n",
    "        print(self.insert)\n",
    "    def insert_(self,root,val):\n",
    "        if not self.root:\n",
    "            self.root = Node(val)\n",
    "        else:\n",
    "            current = self.root\n",
    "            while True:\n",
    "                if val <= current.val:\n",
    "                    if current.left:\n",
    "                        current = current.left\n",
    "                    else:\n",
    "                        current.left = val\n",
    "                        break;\n",
    "                elif val > current.val:\n",
    "                    if current.right:\n",
    "                        current = current.right\n",
    "                    else:\n",
    "                        current.right = val\n",
    "                        break;\n",
    "                else:\n",
    "                    break\n",
    "                    print(self.insert_)\n",
    "root = TreeNode(5)\n",
    "root.left = TreeNode(3)\n",
    "root.left.left = TreeNode(3)\n",
    "root.left.left.left = TreeNode(-5)\n",
    "root.right = TreeNode(8)\n",
    "root.right.left = TreeNode(7)\n",
    "root.right.right = TreeNode(10)\n",
    "root.right.left.left = TreeNode(6)\n",
    "print(Solution().insert(root,4) == root.left.right)"
   ]
  },
  {
   "cell_type": "code",
   "execution_count": null,
   "metadata": {},
   "outputs": [],
   "source": [
    "驗證我所說的，也還是沒有包含root"
   ]
  },
  {
   "cell_type": "code",
   "execution_count": 12,
   "metadata": {},
   "outputs": [
    {
     "name": "stdout",
     "output_type": "stream",
     "text": [
      "<bound method Solution.insert of <__main__.Solution object at 0x104d62278>>\n",
      "True\n"
     ]
    }
   ],
   "source": [
    "class TreeNode(object):\n",
    "    def __init__(self,x):\n",
    "        self.val = x\n",
    "        self.left = None\n",
    "        self.right = None\n",
    "class Solution(object):\n",
    "    def insert(self,root,val):\n",
    "        #self.insert_(root,val)\n",
    "        self.root = root\n",
    "        print(self.insert)\n",
    "    def insert_(self,root,val):\n",
    "        if not self.root:\n",
    "            self.root = Node(val)\n",
    "        else:\n",
    "            current = self.root\n",
    "            while True:\n",
    "                if val <= current.val:\n",
    "                    if current.left:\n",
    "                        current = current.left\n",
    "                    else:\n",
    "                        current.left = val\n",
    "                        break;\n",
    "                elif val > current.val:\n",
    "                    if current.right:\n",
    "                        current = current.right\n",
    "                    else:\n",
    "                        current.right = val\n",
    "                        break;\n",
    "                else:\n",
    "                    break\n",
    "                    print(self.insert_)\n",
    "root = TreeNode(5)\n",
    "root.left = TreeNode(3)\n",
    "root.left.left = TreeNode(3)\n",
    "root.left.left.left = TreeNode(-5)\n",
    "root.right = TreeNode(8)\n",
    "root.right.left = TreeNode(7)\n",
    "root.right.right = TreeNode(10)\n",
    "root.right.left.left = TreeNode(6)\n",
    "print(Solution().insert(root,4) == root.left.right)"
   ]
  },
  {
   "cell_type": "code",
   "execution_count": null,
   "metadata": {},
   "outputs": [],
   "source": [
    "search 成功"
   ]
  },
  {
   "cell_type": "code",
   "execution_count": null,
   "metadata": {},
   "outputs": [],
   "source": [
    "binary search tree-delete："
   ]
  },
  {
   "cell_type": "code",
   "execution_count": null,
   "metadata": {},
   "outputs": [],
   "source": [
    "參考資料：https://youtu.be/c1zKNiABiHk"
   ]
  },
  {
   "cell_type": "code",
   "execution_count": null,
   "metadata": {},
   "outputs": [],
   "source": [
    "binary search tree-delete 學習歷程："
   ]
  },
  {
   "cell_type": "code",
   "execution_count": 13,
   "metadata": {},
   "outputs": [
    {
     "data": {
      "text/html": [
       "<img src=\"https://github.com/Teresakao0421/teresa/blob/master/binary%20tree/binary%20tree/delete-流程圖1.jpg?raw=true\"/>"
      ],
      "text/plain": [
       "<IPython.core.display.Image object>"
      ]
     },
     "execution_count": 13,
     "metadata": {},
     "output_type": "execute_result"
    }
   ],
   "source": [
    "from IPython.display import Image\n",
    "from IPython.core.display import HTML\n",
    "Image(url= \"https://github.com/Teresakao0421/teresa/blob/master/binary%20tree/binary%20tree/delete-流程圖1.jpg?raw=true\")"
   ]
  },
  {
   "cell_type": "code",
   "execution_count": 14,
   "metadata": {},
   "outputs": [
    {
     "data": {
      "text/html": [
       "<img src=\"https://github.com/Teresakao0421/teresa/blob/master/binary%20tree/binary%20tree/delete-流程圖2.jpg?raw=true\"/>"
      ],
      "text/plain": [
       "<IPython.core.display.Image object>"
      ]
     },
     "execution_count": 14,
     "metadata": {},
     "output_type": "execute_result"
    }
   ],
   "source": [
    "from IPython.display import Image\n",
    "from IPython.core.display import HTML\n",
    "Image(url= \"https://github.com/Teresakao0421/teresa/blob/master/binary%20tree/binary%20tree/delete-流程圖2.jpg?raw=true\")"
   ]
  },
  {
   "cell_type": "code",
   "execution_count": null,
   "metadata": {},
   "outputs": [],
   "source": [
    "class TreeNode(object):\n",
    "    def __init__(self,x):\n",
    "        self.val = x\n",
    "        self.left = None\n",
    "        self.right = None\n",
    "class Solution(object):\n",
    "    def delete(self,root,target):"
   ]
  },
  {
   "cell_type": "code",
   "execution_count": null,
   "metadata": {},
   "outputs": [],
   "source": [
    "先寫一個定義式，防止刪除在樹上找不到的節點"
   ]
  },
  {
   "cell_type": "code",
   "execution_count": null,
   "metadata": {},
   "outputs": [],
   "source": [
    "def delete_node(self, node):\n",
    "        if node == None or self.find(node.value) == None:\n",
    "            return None"
   ]
  },
  {
   "cell_type": "code",
   "execution_count": null,
   "metadata": {},
   "outputs": [],
   "source": [
    "返回以輸入節點為根的樹中具有最小值的節點，寫一個 def min_value_node(n):"
   ]
  },
  {
   "cell_type": "code",
   "execution_count": null,
   "metadata": {},
   "outputs": [],
   "source": [
    "def min_value_node(n):\n",
    "            current = n\n",
    "            while current.left_child != None:\n",
    "                current = current.left_child\n",
    "            return current"
   ]
  },
  {
   "cell_type": "code",
   "execution_count": null,
   "metadata": {},
   "outputs": [],
   "source": [
    "def num_children(n):\n",
    "            num_children = 0\n",
    "            if n.left_child != None: num_children += 1\n",
    "            if n.right_child != None: num_children += 1\n",
    "            return num_children"
   ]
  },
  {
   "cell_type": "code",
   "execution_count": null,
   "metadata": {},
   "outputs": [],
   "source": [
    "返回指定節點的子代數"
   ]
  },
  {
   "cell_type": "code",
   "execution_count": null,
   "metadata": {},
   "outputs": [],
   "source": [
    "node_parent = node.parent"
   ]
  },
  {
   "cell_type": "code",
   "execution_count": null,
   "metadata": {},
   "outputs": [],
   "source": [
    "獲取要刪除的指定節點父節點"
   ]
  },
  {
   "cell_type": "code",
   "execution_count": null,
   "metadata": {},
   "outputs": [],
   "source": [
    "node_children = num_children(node)"
   ]
  },
  {
   "cell_type": "code",
   "execution_count": null,
   "metadata": {},
   "outputs": [],
   "source": [
    "獲取要刪除的指定節點子代數"
   ]
  },
  {
   "cell_type": "code",
   "execution_count": null,
   "metadata": {},
   "outputs": [],
   "source": [
    "以下要根據有三個狀況去做刪除的寫法(要刪除的節點結構):\n",
    "1.節點沒有小孩\n",
    "2.節點有一個小孩\n",
    "3.節點有兩個小孩"
   ]
  },
  {
   "cell_type": "code",
   "execution_count": null,
   "metadata": {},
   "outputs": [],
   "source": [
    "if node_children == 0:"
   ]
  },
  {
   "cell_type": "code",
   "execution_count": null,
   "metadata": {},
   "outputs": [],
   "source": [
    "if node_parent != None:"
   ]
  },
  {
   "cell_type": "code",
   "execution_count": null,
   "metadata": {},
   "outputs": [],
   "source": [
    "如果要刪除的話，將整個跟節點刪除掉"
   ]
  },
  {
   "cell_type": "code",
   "execution_count": null,
   "metadata": {},
   "outputs": [],
   "source": [
    "if node_parent.left_child == node:\n",
    "                    node_parent.left_child = None\n",
    "                else:\n",
    "                    node_parent.right_child = None\n",
    "            else:\n",
    "                self.root = None"
   ]
  },
  {
   "cell_type": "code",
   "execution_count": null,
   "metadata": {},
   "outputs": [],
   "source": [
    "如果要刪除的話，從父級刪除對該節點的引用。"
   ]
  },
  {
   "cell_type": "code",
   "execution_count": null,
   "metadata": {},
   "outputs": [],
   "source": [
    "        if node_children == 1:\n",
    "            if node.left_child != None:\n",
    "                child = node.left_child\n",
    "            else:\n",
    "                child = node.right_child"
   ]
  },
  {
   "cell_type": "code",
   "execution_count": null,
   "metadata": {},
   "outputs": [],
   "source": [
    "情況二：有一個小孩的\n",
    "獲取單個子節點"
   ]
  },
  {
   "cell_type": "code",
   "execution_count": null,
   "metadata": {},
   "outputs": [],
   "source": [
    "if node_parent != None:\n",
    "    if node_parent.left_child == node:\n",
    "            node_parent.left_child = child\n",
    "        else:\n",
    "                node_parent.right_child = child\n",
    "        else:\n",
    "            self.root = child\n",
    "            child.parent = node_parent"
   ]
  },
  {
   "cell_type": "code",
   "execution_count": null,
   "metadata": {},
   "outputs": [],
   "source": [
    "更正父節點的指向，先設一個情況，要加if那句，要刪除的節點替換為其子節點，刪除將刪除整個樹的根節點。"
   ]
  },
  {
   "cell_type": "code",
   "execution_count": null,
   "metadata": {},
   "outputs": [],
   "source": [
    "        if node_children == 2:\n",
    "            successor = min_value_node(node.right_child)\n",
    "            node.value = successor.value\n",
    "            self.delete_node(successor)"
   ]
  },
  {
   "cell_type": "code",
   "execution_count": null,
   "metadata": {},
   "outputs": [],
   "source": [
    "第三種狀況：有兩個小孩的情況\n",
    "獲取已刪除節點的有序後繼點，將順序繼承者的值複製到以前的節點。\n",
    "保留我們希望刪除的值，node.value = successor.value 這是等於後繼值的式子。\n",
    "self.delete_node(successor)\n",
    "這個是刪除順序後繼，將他的值複製到另一個節點。"
   ]
  },
  {
   "cell_type": "code",
   "execution_count": null,
   "metadata": {},
   "outputs": [],
   "source": [
    "def delete(self,root,target):\n",
    "        self.root = root"
   ]
  },
  {
   "cell_type": "code",
   "execution_count": null,
   "metadata": {},
   "outputs": [],
   "source": [
    "注意這行要記得加 self.root = root\n",
    "以下統整："
   ]
  },
  {
   "cell_type": "code",
   "execution_count": 3,
   "metadata": {},
   "outputs": [],
   "source": [
    "class TreeNode(object):\n",
    "    def __init__(self,x):\n",
    "        self.val = x\n",
    "        self.left = None\n",
    "        self.right = None\n",
    "class Solution(object):\n",
    "    def search(self,root,target):\n",
    "        self.root=root\n",
    "        if (root == None):\n",
    "            return None\n",
    "        if (root.val == target):\n",
    "            return root\n",
    "        if target < root.val:\n",
    "            return self.search(root.left,target)\n",
    "        else:\n",
    "            return self.search(root.right,target)\n",
    "        print(self.search)\n",
    "    def mini(self, root):\n",
    "        if root.left is None:\n",
    "            return root\n",
    "        else:\n",
    "            return self.mini(root.left)\n",
    "\n",
    "    def delete(self, root, target):\n",
    "        while self.search(root, target) != None:\n",
    "            # if root doesn't exist, just return it\n",
    "            if not root:\n",
    "                return root\n",
    "            # Find the node in the left subtree\tif key value is less than root value\n",
    "            if root.val > target:\n",
    "                root.left = self.delete(root.left, target)\n",
    "            # Find the node in right subtree if key value is greater than root value,\n",
    "            elif root.val < target:\n",
    "                root.right = self.delete(root.right, target)\n",
    "            # Delete the node if root.value == key\n",
    "            else:\n",
    "                # 0child or 1child\n",
    "                if root.left is None:\n",
    "                    child = root.right\n",
    "                    root = None\n",
    "                    return child\n",
    "\n",
    "                elif root.right is None:\n",
    "                    child = root.left\n",
    "                    root = None\n",
    "                    return child\n",
    "\n",
    "                elif root.right is None and root.left is None:\n",
    "                    return None\n",
    "\n",
    "                    # 我要找右邊最小\n",
    "                child = self.minRightNode(root.right)\n",
    "\n",
    "                root.val = child.val\n",
    "\n",
    "                root.right = self.delete(root.right, child.val)\n",
    "\n",
    "            self.delete(root, target)\n",
    "\n",
    "        else:\n",
    "            return"
   ]
  },
  {
   "cell_type": "code",
   "execution_count": 4,
   "metadata": {},
   "outputs": [
    {
     "name": "stdout",
     "output_type": "stream",
     "text": [
      "True\n"
     ]
    }
   ],
   "source": [
    "root = TreeNode(5)\n",
    "root.left = TreeNode(3)\n",
    "root.left.left = TreeNode(3)\n",
    "root.left.left.left = TreeNode(-5)\n",
    "root.right = TreeNode(8)\n",
    "root.right.left = TreeNode(7)\n",
    "root.right.right = TreeNode(10)\n",
    "root.right.left.left = TreeNode(6)\n",
    "Solution().delete(root,3)\n",
    "print(root.val==5 and root.left.val==-5 and root.left.left==None and root.left.right==None)"
   ]
  },
  {
   "cell_type": "code",
   "execution_count": null,
   "metadata": {},
   "outputs": [],
   "source": [
    "binary search tree-modify："
   ]
  },
  {
   "cell_type": "code",
   "execution_count": null,
   "metadata": {},
   "outputs": [],
   "source": [
    "參考資料：https://www.youtube.com/watch?v=2gbYQIXXpi0   \n",
    "        https://youtu.be/cySVml6e_Fc"
   ]
  },
  {
   "cell_type": "code",
   "execution_count": null,
   "metadata": {},
   "outputs": [],
   "source": [
    "binary search tree-modify流程圖："
   ]
  },
  {
   "cell_type": "code",
   "execution_count": 6,
   "metadata": {},
   "outputs": [
    {
     "data": {
      "text/html": [
       "<img src=\"https://github.com/Teresakao0421/teresa/blob/master/binary%20tree/binary%20tree/modify-流程圖.jpg?raw=true\"/>"
      ],
      "text/plain": [
       "<IPython.core.display.Image object>"
      ]
     },
     "execution_count": 6,
     "metadata": {},
     "output_type": "execute_result"
    }
   ],
   "source": [
    "from IPython.display import Image\n",
    "from IPython.core.display import HTML\n",
    "Image(url= \"https://github.com/Teresakao0421/teresa/blob/master/binary%20tree/binary%20tree/modify-流程圖.jpg?raw=true\")"
   ]
  },
  {
   "cell_type": "code",
   "execution_count": 18,
   "metadata": {},
   "outputs": [],
   "source": [
    "class Solution(object):\n",
    "    def modify(self,root,target,new_val):\n",
    "        self.delete(root,target)"
   ]
  },
  {
   "cell_type": "code",
   "execution_count": null,
   "metadata": {},
   "outputs": [],
   "source": [
    "Modify要注意的是，如果今天target不只一個，那他的New_val也不只一個，\n",
    "先將其刪除，再加入想要加的值。"
   ]
  },
  {
   "cell_type": "code",
   "execution_count": null,
   "metadata": {},
   "outputs": [],
   "source": [
    "for i in range(0,count):\n",
    "            self.insert(root,new_val)"
   ]
  },
  {
   "cell_type": "code",
   "execution_count": null,
   "metadata": {},
   "outputs": [],
   "source": [
    "今天要把Treenode裡面2個(6)換成(2)，那就要insert 2個(2)，\n",
    "所以會了確保他如果少取代了，就設了一個target函式來數，target從0開始，\n",
    "使用while迴圈，然後叫出search幫忙找，再用insert去插入。"
   ]
  },
  {
   "cell_type": "code",
   "execution_count": 19,
   "metadata": {},
   "outputs": [],
   "source": [
    "class TreeNode(object):\n",
    "    def __init__(self,x):\n",
    "        self.val = x\n",
    "        self.left = None\n",
    "        self.right = None\n",
    "class Solution(object):\n",
    "    def modify(self,root,target,new_val):\n",
    "        self.delete(root,target)\n",
    "        for i in range(0,count):\n",
    "            self.insert(root,new_val)"
   ]
  }
 ],
 "metadata": {
  "kernelspec": {
   "display_name": "Python 3",
   "language": "python",
   "name": "python3"
  },
  "language_info": {
   "codemirror_mode": {
    "name": "ipython",
    "version": 3
   },
   "file_extension": ".py",
   "mimetype": "text/x-python",
   "name": "python",
   "nbconvert_exporter": "python",
   "pygments_lexer": "ipython3",
   "version": "3.6.4"
  }
 },
 "nbformat": 4,
 "nbformat_minor": 2
}
