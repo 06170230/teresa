{
 "cells": [
  {
   "cell_type": "code",
   "execution_count": null,
   "metadata": {},
   "outputs": [],
   "source": [
    "原理.比較參考資料:http://programmermagazine.github.io/201406/htm/focus1.html\n",
    "                https://www.itread01.com/content/1541297601.html\n",
    "流程圖參考資料:https://zh.wikipedia.org/zh-tw/广度优先搜索\n",
    "        http://www.csie.ntnu.edu.tw/~u91029/Graph.html\n",
    "code參考資料: https://youtu.be/_hxFgg7TLZQ\n",
    "        https://youtu.be/pcKY4hjDrxk"
   ]
  },
  {
   "cell_type": "code",
   "execution_count": null,
   "metadata": {},
   "outputs": [],
   "source": [
    "BFS&DFS原理及比較:\n",
    "DFS(Depth-First Search)深度優先搜尋:\n",
    "    遞迴方式，先遇到的林點就先訪問。\n",
    "    DFS 用於找所有解的問題，它的空間效率高，而且找到的不一定是最優解，\n",
    "    必須記錄並完成整個搜尋，故一般情況下，深搜需要非常高效的剪枝。\n",
    "    DFS是與遞迴深度成正比的。一般與狀態數相比，遞迴深度並不會太大，所以DFS更加省記憶體。\n",
    "BFS(Breath-First Search)廣度優先搜尋:\n",
    "    雖然深度優先搜尋可以搜尋整個圖形，但是卻很可能繞了很久才找到目標，\n",
    "    於是從起點到目標可能會花費很久的時間 (或說路徑長度過長)。\n",
    "    如果我們想找出到達目標最少的步驟，那麼就可以採用BFS。\n",
    "    BFS 是從一個節點開始，將每個鄰居節點都一層一層的拜訪下去，深度最淺的節點會優先被拜訪的方式。\n",
    "DFS & BFS 比較:\n",
    "    DFS使用遞迴函式程式可以簡潔地進行書寫，並且狀態管理也很簡單，所以大多數情況還是用DFS來實現相關問題。\n",
    "    反之，在求最短路問題時，DFS需要反覆經過同樣的狀態，所以此時使用BFS為好。\n",
    "    BFS會把狀態逐個加入佇列，因此通常需要與狀態數成正比的記憶體空間。\n",
    "    反之，DFS是與遞迴深度成正比的。一般與狀態數相比，遞迴深度並不會太大，所以DFS更加省記憶體。"
   ]
  },
  {
   "cell_type": "code",
   "execution_count": null,
   "metadata": {},
   "outputs": [],
   "source": [
    "DFS VS BFS:"
   ]
  },
  {
   "cell_type": "code",
   "execution_count": 1,
   "metadata": {},
   "outputs": [
    {
     "data": {
      "text/html": [
       "<img src=\"https://github.com/Teresakao0421/teresa/blob/master/binary%20tree/BFS/BFS%20VS%20DFS%20.png?raw=true\"/>"
      ],
      "text/plain": [
       "<IPython.core.display.Image object>"
      ]
     },
     "execution_count": 1,
     "metadata": {},
     "output_type": "execute_result"
    }
   ],
   "source": [
    "from IPython.display import Image\n",
    "from IPython.core.display import HTML\n",
    "Image(url= \"https://github.com/Teresakao0421/teresa/blob/master/binary%20tree/BFS/BFS%20VS%20DFS%20.png?raw=true\")"
   ]
  },
  {
   "cell_type": "code",
   "execution_count": null,
   "metadata": {},
   "outputs": [],
   "source": [
    "DFS流程圖:"
   ]
  },
  {
   "cell_type": "code",
   "execution_count": 1,
   "metadata": {},
   "outputs": [
    {
     "data": {
      "text/html": [
       "<img src=\"https://github.com/Teresakao0421/teresa/blob/master/binary%20tree/BFS/DFS.jpg?raw=true\"/>"
      ],
      "text/plain": [
       "<IPython.core.display.Image object>"
      ]
     },
     "execution_count": 1,
     "metadata": {},
     "output_type": "execute_result"
    }
   ],
   "source": [
    "from IPython.display import Image\n",
    "from IPython.core.display import HTML\n",
    "Image(url= \"https://github.com/Teresakao0421/teresa/blob/master/binary%20tree/BFS/DFS.jpg?raw=true\")"
   ]
  },
  {
   "cell_type": "code",
   "execution_count": null,
   "metadata": {},
   "outputs": [],
   "source": [
    "BFS流程圖:"
   ]
  },
  {
   "cell_type": "code",
   "execution_count": 2,
   "metadata": {},
   "outputs": [
    {
     "data": {
      "text/html": [
       "<img src=\"https://github.com/Teresakao0421/teresa/blob/master/binary%20tree/BFS/BFS.jpg?raw=true\"/>"
      ],
      "text/plain": [
       "<IPython.core.display.Image object>"
      ]
     },
     "execution_count": 2,
     "metadata": {},
     "output_type": "execute_result"
    }
   ],
   "source": [
    "from IPython.display import Image\n",
    "from IPython.core.display import HTML\n",
    "Image(url= \"https://github.com/Teresakao0421/teresa/blob/master/binary%20tree/BFS/BFS.jpg?raw=true\")"
   ]
  },
  {
   "cell_type": "code",
   "execution_count": null,
   "metadata": {},
   "outputs": [],
   "source": [
    "學習歷程:"
   ]
  },
  {
   "cell_type": "code",
   "execution_count": 1,
   "metadata": {},
   "outputs": [],
   "source": [
    "graph = {\n",
    "    \"A\":[\"B\",\"C\"],\n",
    "    \"B\":[\"A\",\"C\",\"D\"],\n",
    "    \"C\":[\"A\",\"B\",\"D\",\"E\"],\n",
    "    \"D\":[\"B\",\"C\",\"E\",\"F\"],\n",
    "    \"E\":[\"C\",\"D\"],\n",
    "    \"F\":[\"D\"]\n",
    "}"
   ]
  },
  {
   "cell_type": "code",
   "execution_count": 2,
   "metadata": {},
   "outputs": [],
   "source": [
    "def BFS(graph,s):#s=開始的那個點\n",
    "    queue = []#數組\n",
    "    queue.append(s)\n",
    "    seen = {}#看一下我們訪問了哪些節點 {}是一個集合\n",
    "    seen.add(s)\n",
    "    while (len(queue)>0):#當我這個隊列裡面有東西時\n",
    "        vertex = queue.pop(0)#從隊列裡面拿出一個點\n",
    "        nodes = graph[vertex]#找出所有臨節點\n",
    "        #graph[\"A\"]#A的臨節點\n",
    "        for w in nodes:\n",
    "            if w not in seen:#如果w還沒發掘過就把它放進來\n",
    "                queue.append(w)\n",
    "                seen.add(w)\n",
    "        print(vertex)        \n",
    "    "
   ]
  },
  {
   "cell_type": "code",
   "execution_count": 3,
   "metadata": {},
   "outputs": [
    {
     "ename": "AttributeError",
     "evalue": "'dict' object has no attribute 'add'",
     "output_type": "error",
     "traceback": [
      "\u001b[0;31m---------------------------------------------------------------------------\u001b[0m",
      "\u001b[0;31mAttributeError\u001b[0m                            Traceback (most recent call last)",
      "\u001b[0;32m<ipython-input-3-0b63d730d691>\u001b[0m in \u001b[0;36m<module>\u001b[0;34m\u001b[0m\n\u001b[0;32m----> 1\u001b[0;31m \u001b[0mBFS\u001b[0m\u001b[0;34m(\u001b[0m\u001b[0mgraph\u001b[0m\u001b[0;34m,\u001b[0m\u001b[0;34m\"A\"\u001b[0m\u001b[0;34m)\u001b[0m\u001b[0;34m\u001b[0m\u001b[0;34m\u001b[0m\u001b[0m\n\u001b[0m",
      "\u001b[0;32m<ipython-input-2-b829372fadf4>\u001b[0m in \u001b[0;36mBFS\u001b[0;34m(graph, s)\u001b[0m\n\u001b[1;32m      3\u001b[0m     \u001b[0mqueue\u001b[0m\u001b[0;34m.\u001b[0m\u001b[0mappend\u001b[0m\u001b[0;34m(\u001b[0m\u001b[0ms\u001b[0m\u001b[0;34m)\u001b[0m\u001b[0;34m\u001b[0m\u001b[0;34m\u001b[0m\u001b[0m\n\u001b[1;32m      4\u001b[0m     \u001b[0mseen\u001b[0m \u001b[0;34m=\u001b[0m \u001b[0;34m{\u001b[0m\u001b[0;34m}\u001b[0m\u001b[0;31m#看一下我們訪問了哪些節點 {}是一個集合\u001b[0m\u001b[0;34m\u001b[0m\u001b[0;34m\u001b[0m\u001b[0m\n\u001b[0;32m----> 5\u001b[0;31m     \u001b[0mseen\u001b[0m\u001b[0;34m.\u001b[0m\u001b[0madd\u001b[0m\u001b[0;34m(\u001b[0m\u001b[0ms\u001b[0m\u001b[0;34m)\u001b[0m\u001b[0;34m\u001b[0m\u001b[0;34m\u001b[0m\u001b[0m\n\u001b[0m\u001b[1;32m      6\u001b[0m     \u001b[0;32mwhile\u001b[0m \u001b[0;34m(\u001b[0m\u001b[0mlen\u001b[0m\u001b[0;34m(\u001b[0m\u001b[0mqueue\u001b[0m\u001b[0;34m)\u001b[0m\u001b[0;34m>\u001b[0m\u001b[0;36m0\u001b[0m\u001b[0;34m)\u001b[0m\u001b[0;34m:\u001b[0m\u001b[0;31m#當我這個隊列裡面有東西時\u001b[0m\u001b[0;34m\u001b[0m\u001b[0;34m\u001b[0m\u001b[0m\n\u001b[1;32m      7\u001b[0m         \u001b[0mvertex\u001b[0m \u001b[0;34m=\u001b[0m \u001b[0mqueue\u001b[0m\u001b[0;34m.\u001b[0m\u001b[0mpop\u001b[0m\u001b[0;34m(\u001b[0m\u001b[0;36m0\u001b[0m\u001b[0;34m)\u001b[0m\u001b[0;31m#從隊列裡面拿出一個點\u001b[0m\u001b[0;34m\u001b[0m\u001b[0;34m\u001b[0m\u001b[0m\n",
      "\u001b[0;31mAttributeError\u001b[0m: 'dict' object has no attribute 'add'"
     ]
    }
   ],
   "source": [
    "BFS(graph,\"A\")"
   ]
  },
  {
   "cell_type": "code",
   "execution_count": 4,
   "metadata": {},
   "outputs": [
    {
     "ename": "SyntaxError",
     "evalue": "invalid syntax (<ipython-input-4-aaf58f587403>, line 1)",
     "output_type": "error",
     "traceback": [
      "\u001b[0;36m  File \u001b[0;32m\"<ipython-input-4-aaf58f587403>\"\u001b[0;36m, line \u001b[0;32m1\u001b[0m\n\u001b[0;31m    seen = set()應該是一個集合\u001b[0m\n\u001b[0m                      ^\u001b[0m\n\u001b[0;31mSyntaxError\u001b[0m\u001b[0;31m:\u001b[0m invalid syntax\n"
     ]
    }
   ],
   "source": [
    "seen = set()應該是一個集合\n",
    "更正後測試"
   ]
  },
  {
   "cell_type": "code",
   "execution_count": 5,
   "metadata": {},
   "outputs": [],
   "source": [
    "def BFS(graph,s):#s=開始的那個點\n",
    "    queue = []#數組\n",
    "    queue.append(s)\n",
    "    seen = set()#看一下我們訪問了哪些節點 {}是一個集合\n",
    "    seen.add(s)\n",
    "    while (len(queue)>0):#當我這個隊列裡面有東西時\n",
    "        vertex = queue.pop(0)#從隊列裡面拿出一個點\n",
    "        nodes = graph[vertex]#找出所有臨節點\n",
    "        #graph[\"A\"]#A的臨節點\n",
    "        for w in nodes:\n",
    "            if w not in seen:#如果w還沒發掘過就把它放進來\n",
    "                queue.append(w)\n",
    "                seen.add(w)\n",
    "        print(vertex)        \n",
    "    "
   ]
  },
  {
   "cell_type": "code",
   "execution_count": 6,
   "metadata": {},
   "outputs": [
    {
     "name": "stdout",
     "output_type": "stream",
     "text": [
      "A\n",
      "B\n",
      "C\n",
      "D\n",
      "E\n",
      "F\n"
     ]
    }
   ],
   "source": [
    "BFS(graph,\"A\")"
   ]
  },
  {
   "cell_type": "code",
   "execution_count": 7,
   "metadata": {},
   "outputs": [
    {
     "name": "stdout",
     "output_type": "stream",
     "text": [
      "E\n",
      "C\n",
      "D\n",
      "A\n",
      "B\n",
      "F\n"
     ]
    }
   ],
   "source": [
    "BFS(graph,\"E\")"
   ]
  },
  {
   "cell_type": "code",
   "execution_count": 8,
   "metadata": {},
   "outputs": [],
   "source": [
    "def DFS(graph,s):#s=開始的那個點\n",
    "    stack = []#棧\n",
    "    stack.append(s)\n",
    "    seen = set()#看一下我們訪問了哪些節點 {}是一個集合\n",
    "    seen.add(s)\n",
    "    while (len(stack)>0):#當我這個隊列裡面有東西時\n",
    "        vertex = stack.pop()#棧的話是彈出最後一個元素\n",
    "        nodes = graph[vertex]#找出所有臨節點\n",
    "        #graph[\"A\"]#A的臨節點\n",
    "        for w in nodes:\n",
    "            if w not in seen:#如果w還沒發掘過就把它放進來\n",
    "                stack.append(w)\n",
    "                seen.add(w)\n",
    "        print(vertex) "
   ]
  },
  {
   "cell_type": "code",
   "execution_count": 9,
   "metadata": {},
   "outputs": [
    {
     "name": "stdout",
     "output_type": "stream",
     "text": [
      "['A', 'B', 'C', 'D']\n"
     ]
    }
   ],
   "source": [
    "stack = []\n",
    "stack.append(\"A\")\n",
    "stack.append(\"B\")\n",
    "stack.append(\"C\")\n",
    "stack.append(\"D\")\n",
    "print(stack)"
   ]
  },
  {
   "cell_type": "code",
   "execution_count": 10,
   "metadata": {},
   "outputs": [
    {
     "data": {
      "text/plain": [
       "'D'"
      ]
     },
     "execution_count": 10,
     "metadata": {},
     "output_type": "execute_result"
    }
   ],
   "source": [
    "stack.pop()"
   ]
  },
  {
   "cell_type": "code",
   "execution_count": 11,
   "metadata": {},
   "outputs": [
    {
     "data": {
      "text/plain": [
       "['A', 'B', 'C']"
      ]
     },
     "execution_count": 11,
     "metadata": {},
     "output_type": "execute_result"
    }
   ],
   "source": [
    "stack"
   ]
  },
  {
   "cell_type": "code",
   "execution_count": 12,
   "metadata": {},
   "outputs": [],
   "source": [
    "def DFS(graph,s):#s=開始的那個點\n",
    "    stack = []#棧\n",
    "    stack.append(s)\n",
    "    seen = set()#看一下我們訪問了哪些節點 {}是一個集合\n",
    "    seen.add(s)\n",
    "    while (len(stack)>0):#當我這個隊列裡面有東西時\n",
    "        vertex = stack.pop()#棧的話是彈出最後一個元素\n",
    "        nodes = graph[vertex]#找出所有臨節點\n",
    "        #graph[\"A\"]#A的臨節點\n",
    "        for w in nodes:\n",
    "            if w not in seen:#如果w還沒發掘過就把它放進來\n",
    "                stack.append(w)\n",
    "                seen.add(w)\n",
    "        print(vertex)           "
   ]
  },
  {
   "cell_type": "code",
   "execution_count": 13,
   "metadata": {},
   "outputs": [
    {
     "name": "stdout",
     "output_type": "stream",
     "text": [
      "A\n",
      "C\n",
      "E\n",
      "D\n",
      "F\n",
      "B\n"
     ]
    }
   ],
   "source": [
    "DFS(graph,\"A\")"
   ]
  },
  {
   "cell_type": "code",
   "execution_count": 14,
   "metadata": {},
   "outputs": [],
   "source": [
    "# Python3 Program to print BFS traversal \n",
    "# from a given source vertex. BFS(int s) \n",
    "# traverses vertices reachable from s. \n",
    "from collections import defaultdict \n",
    "  \n",
    "# This class represents a directed graph \n",
    "# using adjacency list representation \n",
    "class Graph:\n",
    "    # Constructor \n",
    "    def __init__(self): \n",
    "        # default dictionary to store graph \n",
    "        self.graph = defaultdict(list) \n",
    "\n",
    "    # function to add an edge to graph \n",
    "    def addEdge(self,u,v): \n",
    "        self.graph[u].append(v) \n",
    "  \n",
    "    # Function to print a BFS of graph \n",
    "    \n",
    "    def BFS(self,s):#s=開始的那個點\n",
    "        queue = []#數組\n",
    "        queue.append(s)\n",
    "        seen = set()#看一下我們訪問了哪些節點 {}是一個集合\n",
    "        seen.add(s)\n",
    "        while (len(queue)>0):#當我這個隊列裡面有東西時\n",
    "            vertex = queue.pop(0)#從隊列裡面拿出一個點\n",
    "            nodes = self.graph[vertex]#找出所有臨節點\n",
    "            #graph[\"A\"]#A的臨節點\n",
    "            for w in nodes:\n",
    "                if w not in seen:#如果w還沒發掘過就把它放進來\n",
    "                    queue.append(w)\n",
    "                    seen.add(w)\n",
    "            print(vertex)\n",
    "        \n",
    "    \n",
    "    def DFS(self,s):#s=開始的那個點\n",
    "        stack = []#棧\n",
    "        stack.append(s)\n",
    "        seen = set()#看一下我們訪問了哪些節點 {}是一個集合\n",
    "        seen.add(s)\n",
    "        while (len(stack)>0):#當我這個隊列裡面有東西時\n",
    "            vertex = stack.pop()#棧的話是彈出最後一個元素\n",
    "            nodes = self.graph[vertex]#找出所有臨節點\n",
    "            #graph[\"A\"]#A的臨節點\n",
    "            for w in nodes:\n",
    "                if w not in seen:#如果w還沒發掘過就把它放進來\n",
    "                    stack.append(w)\n",
    "                    seen.add(w)\n",
    "            print(vertex)       "
   ]
  },
  {
   "cell_type": "code",
   "execution_count": 15,
   "metadata": {},
   "outputs": [
    {
     "name": "stdout",
     "output_type": "stream",
     "text": [
      "2\n",
      "0\n",
      "3\n",
      "1\n",
      "None\n",
      "2\n",
      "3\n",
      "0\n",
      "1\n",
      "None\n"
     ]
    }
   ],
   "source": [
    "#List = Graph().BFS\n",
    "#List = Graph().DFS\n",
    "g = Graph()\n",
    "g.addEdge(0,1)\n",
    "g.addEdge(0,2)\n",
    "g.addEdge(1,2)\n",
    "g.addEdge(2,0)\n",
    "g.addEdge(2,3)\n",
    "g.addEdge(3,3)\n",
    "\n",
    "print(g.BFS(2))\n",
    "print(g.DFS(2))"
   ]
  },
  {
   "cell_type": "code",
   "execution_count": 29,
   "metadata": {},
   "outputs": [],
   "source": [
    "# Python3 Program to print BFS traversal \n",
    "# from a given source vertex. BFS(int s) \n",
    "# traverses vertices reachable from s. \n",
    "from collections import defaultdict \n",
    "  \n",
    "# This class represents a directed graph \n",
    "# using adjacency list representation \n",
    "class Graph:\n",
    "    # Constructor \n",
    "    def __init__(self): \n",
    "        # default dictionary to store graph \n",
    "        self.graph = defaultdict(list) \n",
    "\n",
    "    # function to add an edge to graph \n",
    "    def addEdge(self,u,v): \n",
    "        self.graph[u].append(v) \n",
    "  \n",
    "    # Function to print a BFS of graph \n",
    "    \n",
    "    def BFS(self,s):#s=開始的那個點\n",
    "        queue = []#數組\n",
    "        queue.append(s)\n",
    "        seen = set()#看一下我們訪問了哪些節點 {}是一個集合\n",
    "        seen.add(s)\n",
    "        while (len(queue)>0):#當我這個隊列裡面有東西時\n",
    "            vertex = queue.pop(0)#從隊列裡面拿出一個點\n",
    "            nodes = self.graph[vertex]#找出所有臨節點\n",
    "            #graph[\"A\"]#A的臨節點\n",
    "            for w in nodes:\n",
    "                if w not in seen:#如果w還沒發掘過就把它放進來\n",
    "                    queue.append(w)\n",
    "                    seen.add(w)\n",
    "            print(vertex)\n",
    "        \n",
    "    \n",
    "    def DFS(self,s):#s=開始的那個點\n",
    "        stack = []#棧\n",
    "        stack.append(s)\n",
    "        seen = set()#看一下我們訪問了哪些節點 {}是一個集合\n",
    "        seen.add(s)\n",
    "        while (len(stack)>0):#當我這個隊列裡面有東西時\n",
    "            vertex = stack.pop()#棧的話是彈出最後一個元素\n",
    "            nodes = self.graph[vertex]#找出所有臨節點\n",
    "            #graph[\"A\"]#A的臨節點\n",
    "            for w in nodes:\n",
    "                if w not in seen:#如果w還沒發掘過就把它放進來\n",
    "                    stack.append(w)\n",
    "                    seen.add(w)\n",
    "            print(vertex)       "
   ]
  },
  {
   "cell_type": "code",
   "execution_count": 30,
   "metadata": {},
   "outputs": [
    {
     "name": "stdout",
     "output_type": "stream",
     "text": [
      "2\n",
      "0\n",
      "3\n",
      "1\n",
      "None\n",
      "2\n",
      "3\n",
      "0\n",
      "1\n",
      "None\n"
     ]
    }
   ],
   "source": [
    "#List = Graph().BFS\n",
    "#List = Graph().DFS\n",
    "g = Graph()\n",
    "g.addEdge(0,1)\n",
    "g.addEdge(0,2)\n",
    "g.addEdge(1,2)\n",
    "g.addEdge(2,0)\n",
    "g.addEdge(2,3)\n",
    "g.addEdge(3,3)\n",
    "\n",
    "print(g.BFS(2))\n",
    "print(g.DFS(2))"
   ]
  },
  {
   "cell_type": "code",
   "execution_count": null,
   "metadata": {},
   "outputs": [],
   "source": [
    "要把數字轉成list"
   ]
  },
  {
   "cell_type": "code",
   "execution_count": 33,
   "metadata": {},
   "outputs": [],
   "source": [
    "# Python3 Program to print BFS traversal \n",
    "# from a given source vertex. BFS(int s) \n",
    "# traverses vertices reachable from s. \n",
    "from collections import defaultdict \n",
    "  \n",
    "# This class represents a directed graph \n",
    "# using adjacency list representation \n",
    "class Graph:\n",
    "    # Constructor \n",
    "    def __init__(self): \n",
    "        # default dictionary to store graph \n",
    "        self.graph = defaultdict(list) \n",
    "\n",
    "    # function to add an edge to graph \n",
    "    def addEdge(self,u,v): \n",
    "        self.graph[u].append(v) \n",
    "  \n",
    "    # Function to print a BFS of graph \n",
    "    \n",
    "    def BFS(self,s):#s=開始的那個點\n",
    "        queue = []#數組\n",
    "        queue.append(s)\n",
    "        seen = set()#看一下我們訪問了哪些節點 {}是一個集合\n",
    "        seen.add(s) \n",
    "        #list = [vertex]\n",
    "        while (len(queue)>0):#當我這個隊列裡面有東西時\n",
    "            vertex = queue.pop(0)#從隊列裡面拿出一個點\n",
    "            nodes = self.graph[vertex]#找出所有臨節點\n",
    "            #graph[\"A\"]#A的臨節點\n",
    "            for w in nodes:\n",
    "                if w not in seen:#如果w還沒發掘過就把它放進來\n",
    "                    queue.append(w)\n",
    "                    seen.add(w)\n",
    "            list = [vertex]             \n",
    "            print(list)\n",
    "   \n",
    "    \n",
    "    def DFS(self,s):#s=開始的那個點\n",
    "        stack = []#棧\n",
    "        stack.append(s)\n",
    "        seen = set()#看一下我們訪問了哪些節點 {}是一個集合\n",
    "        seen.add(s)\n",
    "        #list = [vertex]\n",
    "        while (len(stack)>0):#當我這個隊列裡面有東西時\n",
    "            vertex = stack.pop()#棧的話是彈出最後一個元素\n",
    "            nodes = self.graph[vertex]#找出所有臨節點\n",
    "            #graph[\"A\"]#A的臨節點\n",
    "            for w in nodes:\n",
    "                if w not in seen:#如果w還沒發掘過就把它放進來\n",
    "                    stack.append(w)\n",
    "                    seen.add(w)\n",
    "            list = [vertex]             \n",
    "            print(list)       "
   ]
  },
  {
   "cell_type": "code",
   "execution_count": 34,
   "metadata": {
    "scrolled": true
   },
   "outputs": [
    {
     "name": "stdout",
     "output_type": "stream",
     "text": [
      "[2]\n",
      "[0]\n",
      "[3]\n",
      "[1]\n",
      "None\n",
      "[2]\n",
      "[3]\n",
      "[0]\n",
      "[1]\n",
      "None\n"
     ]
    }
   ],
   "source": [
    "#List = Graph().BFS\n",
    "#List = Graph().DFS\n",
    "g = Graph()\n",
    "g.addEdge(0,1)\n",
    "g.addEdge(0,2)\n",
    "g.addEdge(1,2)\n",
    "g.addEdge(2,0)\n",
    "g.addEdge(2,3)\n",
    "g.addEdge(3,3)\n",
    "\n",
    "print(g.BFS(2))\n",
    "print(g.DFS(2))"
   ]
  },
  {
   "cell_type": "code",
   "execution_count": 35,
   "metadata": {},
   "outputs": [],
   "source": [
    "# Python3 Program to print BFS traversal \n",
    "# from a given source vertex. BFS(int s) \n",
    "# traverses vertices reachable from s. \n",
    "from collections import defaultdict \n",
    "  \n",
    "# This class represents a directed graph \n",
    "# using adjacency list representation \n",
    "class Graph:\n",
    "    # Constructor \n",
    "    def __init__(self): \n",
    "        # default dictionary to store graph \n",
    "        self.graph = defaultdict(list) \n",
    "\n",
    "    # function to add an edge to graph \n",
    "    def addEdge(self,u,v): \n",
    "        self.graph[u].append(v) \n",
    "  \n",
    "    # Function to print a BFS of graph \n",
    "    \n",
    "    def BFS(self,s):#s=開始的那個點\n",
    "        queue = []#數組\n",
    "        queue.append(s)\n",
    "        seen = set()#看一下我們訪問了哪些節點 {}是一個集合\n",
    "        seen.add(s)\n",
    "        while (len(queue)>0):#當我這個隊列裡面有東西時\n",
    "            vertex = queue.pop(0)#從隊列裡面拿出一個點\n",
    "            nodes = self.graph[vertex]#找出所有臨節點\n",
    "            vertex.sort()\n",
    "            #graph[\"A\"]#A的臨節點\n",
    "            for w in nodes:\n",
    "                if w not in seen:#如果w還沒發掘過就把它放進來\n",
    "                    queue.append(w)\n",
    "                    seen.add(w)\n",
    "            print(vertex)\n",
    "        \n",
    "    \n",
    "    def DFS(self,s):#s=開始的那個點\n",
    "        stack = []#棧\n",
    "        stack.append(s)\n",
    "        seen = set()#看一下我們訪問了哪些節點 {}是一個集合\n",
    "        seen.add(s)\n",
    "        while (len(stack)>0):#當我這個隊列裡面有東西時\n",
    "            vertex = stack.pop()#棧的話是彈出最後一個元素\n",
    "            nodes = self.graph[vertex]#找出所有臨節點\n",
    "            vertex.sort()\n",
    "            #graph[\"A\"]#A的臨節點\n",
    "            for w in nodes:\n",
    "                if w not in seen:#如果w還沒發掘過就把它放進來\n",
    "                    stack.append(w)\n",
    "                    seen.add(w)\n",
    "            print(vertex)       "
   ]
  },
  {
   "cell_type": "code",
   "execution_count": 36,
   "metadata": {},
   "outputs": [
    {
     "ename": "AttributeError",
     "evalue": "'int' object has no attribute 'sort'",
     "output_type": "error",
     "traceback": [
      "\u001b[0;31m---------------------------------------------------------------------------\u001b[0m",
      "\u001b[0;31mAttributeError\u001b[0m                            Traceback (most recent call last)",
      "\u001b[0;32m<ipython-input-36-9a101f798abd>\u001b[0m in \u001b[0;36m<module>\u001b[0;34m\u001b[0m\n\u001b[1;32m      9\u001b[0m \u001b[0mg\u001b[0m\u001b[0;34m.\u001b[0m\u001b[0maddEdge\u001b[0m\u001b[0;34m(\u001b[0m\u001b[0;36m3\u001b[0m\u001b[0;34m,\u001b[0m\u001b[0;36m3\u001b[0m\u001b[0;34m)\u001b[0m\u001b[0;34m\u001b[0m\u001b[0;34m\u001b[0m\u001b[0m\n\u001b[1;32m     10\u001b[0m \u001b[0;34m\u001b[0m\u001b[0m\n\u001b[0;32m---> 11\u001b[0;31m \u001b[0mprint\u001b[0m\u001b[0;34m(\u001b[0m\u001b[0mg\u001b[0m\u001b[0;34m.\u001b[0m\u001b[0mBFS\u001b[0m\u001b[0;34m(\u001b[0m\u001b[0;36m2\u001b[0m\u001b[0;34m)\u001b[0m\u001b[0;34m)\u001b[0m\u001b[0;34m\u001b[0m\u001b[0;34m\u001b[0m\u001b[0m\n\u001b[0m\u001b[1;32m     12\u001b[0m \u001b[0mprint\u001b[0m\u001b[0;34m(\u001b[0m\u001b[0mg\u001b[0m\u001b[0;34m.\u001b[0m\u001b[0mDFS\u001b[0m\u001b[0;34m(\u001b[0m\u001b[0;36m2\u001b[0m\u001b[0;34m)\u001b[0m\u001b[0;34m)\u001b[0m\u001b[0;34m\u001b[0m\u001b[0;34m\u001b[0m\u001b[0m\n",
      "\u001b[0;32m<ipython-input-35-4267939f993a>\u001b[0m in \u001b[0;36mBFS\u001b[0;34m(self, s)\u001b[0m\n\u001b[1;32m     26\u001b[0m             \u001b[0mvertex\u001b[0m \u001b[0;34m=\u001b[0m \u001b[0mqueue\u001b[0m\u001b[0;34m.\u001b[0m\u001b[0mpop\u001b[0m\u001b[0;34m(\u001b[0m\u001b[0;36m0\u001b[0m\u001b[0;34m)\u001b[0m\u001b[0;31m#從隊列裡面拿出一個點\u001b[0m\u001b[0;34m\u001b[0m\u001b[0;34m\u001b[0m\u001b[0m\n\u001b[1;32m     27\u001b[0m             \u001b[0mnodes\u001b[0m \u001b[0;34m=\u001b[0m \u001b[0mself\u001b[0m\u001b[0;34m.\u001b[0m\u001b[0mgraph\u001b[0m\u001b[0;34m[\u001b[0m\u001b[0mvertex\u001b[0m\u001b[0;34m]\u001b[0m\u001b[0;31m#找出所有臨節點\u001b[0m\u001b[0;34m\u001b[0m\u001b[0;34m\u001b[0m\u001b[0m\n\u001b[0;32m---> 28\u001b[0;31m             \u001b[0mvertex\u001b[0m\u001b[0;34m.\u001b[0m\u001b[0msort\u001b[0m\u001b[0;34m(\u001b[0m\u001b[0;34m)\u001b[0m\u001b[0;34m\u001b[0m\u001b[0;34m\u001b[0m\u001b[0m\n\u001b[0m\u001b[1;32m     29\u001b[0m             \u001b[0;31m#graph[\"A\"]#A的臨節點\u001b[0m\u001b[0;34m\u001b[0m\u001b[0;34m\u001b[0m\u001b[0;34m\u001b[0m\u001b[0m\n\u001b[1;32m     30\u001b[0m             \u001b[0;32mfor\u001b[0m \u001b[0mw\u001b[0m \u001b[0;32min\u001b[0m \u001b[0mnodes\u001b[0m\u001b[0;34m:\u001b[0m\u001b[0;34m\u001b[0m\u001b[0;34m\u001b[0m\u001b[0m\n",
      "\u001b[0;31mAttributeError\u001b[0m: 'int' object has no attribute 'sort'"
     ]
    }
   ],
   "source": [
    "#List = Graph().BFS\n",
    "#List = Graph().DFS\n",
    "g = Graph()\n",
    "g.addEdge(0,1)\n",
    "g.addEdge(0,2)\n",
    "g.addEdge(1,2)\n",
    "g.addEdge(2,0)\n",
    "g.addEdge(2,3)\n",
    "g.addEdge(3,3)\n",
    "\n",
    "print(g.BFS(2))\n",
    "print(g.DFS(2))"
   ]
  },
  {
   "cell_type": "code",
   "execution_count": 54,
   "metadata": {},
   "outputs": [],
   "source": [
    "# Python3 Program to print BFS traversal \n",
    "# from a given source vertex. BFS(int s) \n",
    "# traverses vertices reachable from s. \n",
    "from collections import defaultdict \n",
    "  \n",
    "# This class represents a directed graph \n",
    "# using adjacency list representation \n",
    "class Graph:\n",
    "    # Constructor \n",
    "    def __init__(self): \n",
    "        # default dictionary to store graph \n",
    "        self.graph = defaultdict(list) \n",
    "\n",
    "    # function to add an edge to graph \n",
    "    def addEdge(self,u,v): \n",
    "        self.graph[u].append(v) \n",
    "  \n",
    "    # Function to print a BFS of graph \n",
    "    \n",
    "    def BFS(self,s):#s=開始的那個點\n",
    "        queue = []#數組\n",
    "        queue.append(s)\n",
    "        seen = set()#看一下我們訪問了哪些節點 {}是一個集合\n",
    "        seen.add(s)\n",
    "        while (len(queue)>0):#當我這個隊列裡面有東西時\n",
    "            vertex = queue.pop(0)#從隊列裡面拿出一個點\n",
    "            nodes = self.graph[vertex]#找出所有臨節點\n",
    "            #graph[\"A\"]#A的臨節點\n",
    "            for w in nodes:\n",
    "                if w not in seen:#如果w還沒發掘過就把它放進來\n",
    "                    queue.append(w)\n",
    "                    seen.add(w)\n",
    "            print(vertex, end = \",\")\n",
    "            #print(vertex)\n",
    "        \n",
    "    \n",
    "    def DFS(self,s):#s=開始的那個點\n",
    "        stack = []#棧\n",
    "        stack.append(s)\n",
    "        seen = set()#看一下我們訪問了哪些節點 {}是一個集合\n",
    "        seen.add(s)\n",
    "        while (len(stack)>0):#當我這個隊列裡面有東西時\n",
    "            vertex = stack.pop()#棧的話是彈出最後一個元素\n",
    "            nodes = self.graph[vertex]#找出所有臨節點\n",
    "            #graph[\"A\"]#A的臨節點\n",
    "            for w in nodes:\n",
    "                if w not in seen:#如果w還沒發掘過就把它放進來\n",
    "                    stack.append(w)\n",
    "                    seen.add(w)\n",
    "            #print(vertex)\n",
    "            print(vertex, end = \",\")"
   ]
  },
  {
   "cell_type": "code",
   "execution_count": 55,
   "metadata": {},
   "outputs": [
    {
     "name": "stdout",
     "output_type": "stream",
     "text": [
      "2,0,3,1,None\n",
      "2,3,0,1,None\n"
     ]
    }
   ],
   "source": [
    "#List = Graph().BFS\n",
    "#List = Graph().DFS\n",
    "g = Graph()\n",
    "g.addEdge(0,1)\n",
    "g.addEdge(0,2)\n",
    "g.addEdge(1,2)\n",
    "g.addEdge(2,0)\n",
    "g.addEdge(2,3)\n",
    "g.addEdge(3,3)\n",
    "\n",
    "print(g.BFS(2))\n",
    "print(g.DFS(2))"
   ]
  },
  {
   "cell_type": "code",
   "execution_count": 56,
   "metadata": {},
   "outputs": [
    {
     "ename": "NameError",
     "evalue": "name 'vertex' is not defined",
     "output_type": "error",
     "traceback": [
      "\u001b[0;31m---------------------------------------------------------------------------\u001b[0m",
      "\u001b[0;31mNameError\u001b[0m                                 Traceback (most recent call last)",
      "\u001b[0;32m<ipython-input-56-5ae7fc7fa09a>\u001b[0m in \u001b[0;36m<module>\u001b[0;34m\u001b[0m\n\u001b[0;32m----> 1\u001b[0;31m \u001b[0mprint\u001b[0m\u001b[0;34m(\u001b[0m\u001b[0;34m[\u001b[0m\u001b[0mvertex\u001b[0m\u001b[0;34m]\u001b[0m\u001b[0;34m,\u001b[0m \u001b[0mend\u001b[0m \u001b[0;34m=\u001b[0m \u001b[0;34m\"\"\u001b[0m\u001b[0;34m)\u001b[0m\u001b[0;34m\u001b[0m\u001b[0;34m\u001b[0m\u001b[0m\n\u001b[0m",
      "\u001b[0;31mNameError\u001b[0m: name 'vertex' is not defined"
     ]
    }
   ],
   "source": [
    "print([vertex], end = \"\")"
   ]
  },
  {
   "cell_type": "code",
   "execution_count": 57,
   "metadata": {},
   "outputs": [],
   "source": [
    "# Python3 Program to print BFS traversal \n",
    "# from a given source vertex. BFS(int s) \n",
    "# traverses vertices reachable from s. \n",
    "from collections import defaultdict \n",
    "  \n",
    "# This class represents a directed graph \n",
    "# using adjacency list representation \n",
    "class Graph:\n",
    "    # Constructor \n",
    "    def __init__(self): \n",
    "        # default dictionary to store graph \n",
    "        self.graph = defaultdict(list) \n",
    "\n",
    "    # function to add an edge to graph \n",
    "    def addEdge(self,u,v): \n",
    "        self.graph[u].append(v) \n",
    "  \n",
    "    # Function to print a BFS of graph \n",
    "    \n",
    "    def BFS(self,s):#s=開始的那個點\n",
    "        queue = []#數組\n",
    "        queue.append(s)\n",
    "        seen = set()#看一下我們訪問了哪些節點 {}是一個集合\n",
    "        seen.add(s)\n",
    "        while (len(queue)>0):#當我這個隊列裡面有東西時\n",
    "            vertex = queue.pop(0)#從隊列裡面拿出一個點\n",
    "            nodes = self.graph[vertex]#找出所有臨節點\n",
    "            #graph[\"A\"]#A的臨節點\n",
    "            for w in nodes:\n",
    "                if w not in seen:#如果w還沒發掘過就把它放進來\n",
    "                    queue.append(w)\n",
    "                    seen.add(w)\n",
    "            print([vertex], end = \"\")\n",
    "            #print(vertex)\n",
    "        \n",
    "    \n",
    "    def DFS(self,s):#s=開始的那個點\n",
    "        stack = []#棧\n",
    "        stack.append(s)\n",
    "        seen = set()#看一下我們訪問了哪些節點 {}是一個集合\n",
    "        seen.add(s)\n",
    "        while (len(stack)>0):#當我這個隊列裡面有東西時\n",
    "            vertex = stack.pop()#棧的話是彈出最後一個元素\n",
    "            nodes = self.graph[vertex]#找出所有臨節點\n",
    "            #graph[\"A\"]#A的臨節點\n",
    "            for w in nodes:\n",
    "                if w not in seen:#如果w還沒發掘過就把它放進來\n",
    "                    stack.append(w)\n",
    "                    seen.add(w)\n",
    "            #print(vertex)\n",
    "            print([vertex], end = \"\")"
   ]
  },
  {
   "cell_type": "code",
   "execution_count": 58,
   "metadata": {},
   "outputs": [
    {
     "name": "stdout",
     "output_type": "stream",
     "text": [
      "[2][0][3][1]None\n",
      "[2][3][0][1]None\n"
     ]
    }
   ],
   "source": [
    "g = Graph()\n",
    "g.addEdge(0,1)\n",
    "g.addEdge(0,2)\n",
    "g.addEdge(1,2)\n",
    "g.addEdge(2,0)\n",
    "g.addEdge(2,3)\n",
    "g.addEdge(3,3)\n",
    "\n",
    "print(g.BFS(2))\n",
    "print(g.DFS(2))"
   ]
  },
  {
   "cell_type": "code",
   "execution_count": null,
   "metadata": {},
   "outputs": [],
   "source": [
    "seen = []\n",
    "改了這裡 "
   ]
  },
  {
   "cell_type": "code",
   "execution_count": 11,
   "metadata": {},
   "outputs": [],
   "source": [
    "# Python3 Program to print BFS traversal \n",
    "# from a given source vertex. BFS(int s) \n",
    "# traverses vertices reachable from s. \n",
    "from collections import defaultdict \n",
    "  \n",
    "# This class represents a directed graph \n",
    "# using adjacency list representation \n",
    "class Graph:\n",
    "    # Constructor \n",
    "    def __init__(self): \n",
    "        # default dictionary to store graph \n",
    "        self.graph = defaultdict(list) \n",
    "\n",
    "    # function to add an edge to graph \n",
    "    def addEdge(self,u,v): \n",
    "        self.graph[u].append(v) \n",
    "  \n",
    "    # Function to print a BFS of graph \n",
    "    \n",
    "    def BFS(self,s):#s=開始的那個點\n",
    "        queue = []#數組\n",
    "        queue.append(s)\n",
    "        seen = []#看一下我們訪問了哪些節點 {}是一個集合\n",
    "        seen.append(s)\n",
    "        \n",
    "        while len(queue) > 0:#當我這個隊列裡面有東西時\n",
    "            vtx = queue.pop(0)#從隊列裡面拿出一個點\n",
    "            nodes = self.graph[vtx]#找出所有臨節點\n",
    "            #graph[\"A\"]#A的臨節點\n",
    "            for w in nodes:\n",
    "                if w not in seen:#如果w還沒發掘過就把它放進來\n",
    "                    seen.append(w)\n",
    "                    queue.append(w)    \n",
    "                else:\n",
    "                    pass\n",
    "                \n",
    "            print(seen)\n",
    "        \n",
    "    \n",
    "    def DFS(self,s):#s=開始的那個點\n",
    "        stack = []#棧\n",
    "        stack.append(s)\n",
    "        \n",
    "        seen = []#看一下我們訪問了哪些節點 {}是一個集合\n",
    "        seen.append(s)\n",
    "        while len(stack) > 0:#當我這個隊列裡面有東西時\n",
    "            vtx = stack.pop()#棧的話是彈出最後一個元素vertex\n",
    "            if vtx not in seen:\n",
    "                seen.append(vtx)\n",
    "                \n",
    "            #graph[\"A\"]#A的臨節點\n",
    "            for w in self.graph[vtx]:\n",
    "                if w not in seen:#如果w還沒發掘過就把它放進來\n",
    "                    stack.append(w)\n",
    "            \n",
    "            print(seen)\n",
    "            "
   ]
  },
  {
   "cell_type": "code",
   "execution_count": 12,
   "metadata": {
    "scrolled": true
   },
   "outputs": [
    {
     "name": "stdout",
     "output_type": "stream",
     "text": [
      "[2, 0, 3]\n",
      "[2, 0, 3, 1]\n",
      "[2, 0, 3, 1]\n",
      "[2, 0, 3, 1]\n",
      "None\n",
      "[2]\n",
      "[2, 3]\n",
      "[2, 3, 0]\n",
      "[2, 3, 0, 1]\n",
      "None\n"
     ]
    }
   ],
   "source": [
    "g = Graph()\n",
    "g.addEdge(0,1)\n",
    "g.addEdge(0,2)\n",
    "g.addEdge(1,2)\n",
    "g.addEdge(2,0)\n",
    "g.addEdge(2,3)\n",
    "g.addEdge(3,3)\n",
    "\n",
    "print(g.BFS(2))\n",
    "print(g.DFS(2))"
   ]
  },
  {
   "cell_type": "code",
   "execution_count": null,
   "metadata": {},
   "outputs": [],
   "source": [
    "BFS:前端刪除 後端插入\n",
    "DFS:只能從最後的刪除 "
   ]
  },
  {
   "cell_type": "code",
   "execution_count": 2,
   "metadata": {},
   "outputs": [],
   "source": [
    "# Python3 Program to print BFS traversal \n",
    "# from a given source vertex. BFS(int s) \n",
    "# traverses vertices reachable from s. \n",
    "from collections import defaultdict \n",
    "  \n",
    "# This class represents a directed graph \n",
    "# using adjacency list representation \n",
    "class Graph:\n",
    "    # Constructor \n",
    "    def __init__(self): \n",
    "        # default dictionary to store graph \n",
    "        self.graph = defaultdict(list) \n",
    "\n",
    "    # function to add an edge to graph \n",
    "    def addEdge(self,u,v): \n",
    "        self.graph[u].append(v) \n",
    "  \n",
    "    # Function to print a BFS of graph \n",
    "    \n",
    "    def BFS(self,s):#s=開始的那個點\n",
    "        \n",
    "        queue = []#數組\n",
    "        queue.append(s)\n",
    "        seen = []#看一下我們訪問了哪些節點:數組 #{}是一個集合\n",
    "        seen.append(s)\n",
    "        \n",
    "        while len(queue) > 0:#當我這個隊列裡面有東西時\n",
    "            vtx = queue.pop(0)#從隊列裡面拿出一個點\n",
    "            nodes = self.graph[vtx]#找出所有臨節點\n",
    "            #graph[\"A\"]#A的臨節點\n",
    "            for a in nodes:\n",
    "                if a not in seen:#如果a還沒發掘過就把它放進來\n",
    "                    seen.append(a)\n",
    "                    queue.append(a)    \n",
    "                else:\n",
    "                    pass\n",
    "                \n",
    "        return seen\n",
    "        \n",
    "    \n",
    "    def DFS(self,s):#s=開始的那個點\n",
    "        stack = []#棧\n",
    "        stack.append(s)\n",
    "        \n",
    "        seen = []#看一下我們訪問了哪些節點 {}是一個集合\n",
    "        seen.append(s)\n",
    "        \n",
    "        while len(stack) > 0:#當我這個隊列裡面有東西時\n",
    "            vtx = stack.pop()#棧的話是彈出最後一個元素\n",
    "            if vtx not in seen:#如果vertex還沒發掘過就把它放進來\n",
    "                seen.append(vtx)\n",
    "                \n",
    "            #graph[\"A\"]#A的臨節點\n",
    "            for a in self.graph[vtx]:\n",
    "                if a not in seen: #如果w還沒發掘過就把它放進來\n",
    "                    stack.append(a)\n",
    "            \n",
    "        return seen          "
   ]
  },
  {
   "cell_type": "code",
   "execution_count": 3,
   "metadata": {},
   "outputs": [
    {
     "name": "stdout",
     "output_type": "stream",
     "text": [
      "[2, 0, 3, 1]\n",
      "[2, 3, 0, 1]\n"
     ]
    }
   ],
   "source": [
    "g = Graph()\n",
    "g.addEdge(0,1)\n",
    "g.addEdge(0,2)\n",
    "g.addEdge(1,2)\n",
    "g.addEdge(2,0)\n",
    "g.addEdge(2,3)\n",
    "g.addEdge(3,3)\n",
    "\n",
    "print(g.BFS(2))\n",
    "print(g.DFS(2))"
   ]
  },
  {
   "cell_type": "code",
   "execution_count": 4,
   "metadata": {},
   "outputs": [
    {
     "data": {
      "text/plain": [
       "[4, 3, 5, 2, 0, 1]"
      ]
     },
     "execution_count": 4,
     "metadata": {},
     "output_type": "execute_result"
    }
   ],
   "source": [
    "g = Graph() \n",
    "g.addEdge(0, 1) \n",
    "g.addEdge(0, 2) \n",
    "g.addEdge(1, 0) \n",
    "g.addEdge(1, 2)\n",
    "g.addEdge(1, 3) \n",
    "g.addEdge(2, 0) \n",
    "g.addEdge(2, 2) \n",
    "g.addEdge(2, 3) \n",
    "g.addEdge(3, 1) \n",
    "g.addEdge(3, 2) \n",
    "g.addEdge(3, 4) \n",
    "g.addEdge(3, 5) \n",
    "g.addEdge(4, 2) \n",
    "g.addEdge(4, 3) \n",
    "g.addEdge(5, 3) \n",
    "g.DFS(4)"
   ]
  },
  {
   "cell_type": "code",
   "execution_count": null,
   "metadata": {},
   "outputs": [],
   "source": [
    "def DFS(self,s):\n",
    "        \n",
    "        stack = []\n",
    "        stack.append(s)\n",
    "        #print(stack)\n",
    "        seen = []\n",
    "        seen.append(s)\n",
    "        \n",
    "        while stack:\n",
    "            vertex = stack.pop()\n",
    "                \n",
    "            for w in self.graph[vertex]:\n",
    "                if (w not in stack) and (w not in seen):\n",
    "                    stack.append(w)#如果w還沒發掘過就把它放進來\n",
    "                else:\n",
    "                    pass\n",
    "                    \n",
    "            if vertex not in seen:\n",
    "                #這是最後一步驟 如果盒子裡還有數字 那就要把它拿出來\n",
    "                seen.append(vertex)\n",
    "        \n",
    "        return seen"
   ]
  },
  {
   "cell_type": "code",
   "execution_count": null,
   "metadata": {},
   "outputs": [],
   "source": [
    "這裡有個步驟是\n",
    "if vertex not in seen:\n",
    "                #這是最後一步驟 如果盒子裡還有數字 那就要把它拿出來\n",
    "                seen.append(vertex)\n",
    "這個關鍵 會導致我原本的DFS排序出錯。        "
   ]
  },
  {
   "cell_type": "code",
   "execution_count": 5,
   "metadata": {},
   "outputs": [],
   "source": [
    "from collections import defaultdict\n",
    "class Graph:\n",
    "    # Constructor\n",
    "    def __init__(self):\n",
    "    # default dictionary to store graph\n",
    "        self.graph = defaultdict(list)\n",
    "\n",
    "    # function to add an edge to graph\n",
    "    def addEdge(self,u,v):\n",
    "        self.graph[u].append(v)\n",
    "        \n",
    "        \n",
    "    # Function to print a BFS of graph\n",
    "\n",
    "    def BFS(self,s):\n",
    "        \n",
    "        queue = []\n",
    "        queue.append(s)\n",
    "        seen = []\n",
    "        seen.append(s)\n",
    "        \n",
    "        while len(queue) > 0:\n",
    "            vertex = queue.pop(0)\n",
    "            nodes = self.graph[vertex]\n",
    "            for w in nodes:\n",
    "                if w not in seen:\n",
    "                    seen.append(w)\n",
    "                    queue.append(w)\n",
    "                else:\n",
    "                    pass\n",
    "        \n",
    "        return seen\n",
    "        \n",
    "        \n",
    "    def DFS(self,s):\n",
    "        \n",
    "        stack = []\n",
    "        stack.append(s)\n",
    "        #print(stack)\n",
    "        seen = []\n",
    "        seen.append(s)\n",
    "        \n",
    "        while stack:\n",
    "            vertex = stack.pop()\n",
    "                \n",
    "            for w in self.graph[vertex]:\n",
    "                if (w not in stack) and (w not in seen):\n",
    "                    stack.append(w)#如果w還沒發掘過就把它放進來\n",
    "                else:\n",
    "                    pass\n",
    "                    \n",
    "            if vertex not in seen:\n",
    "                #這是最後一步驟 如果盒子裡還有數字 那就要把它拿出來\n",
    "                seen.append(vertex)\n",
    "        \n",
    "        return seen"
   ]
  },
  {
   "cell_type": "code",
   "execution_count": 6,
   "metadata": {},
   "outputs": [
    {
     "data": {
      "text/plain": [
       "[4, 3, 5, 1, 0, 2]"
      ]
     },
     "execution_count": 6,
     "metadata": {},
     "output_type": "execute_result"
    }
   ],
   "source": [
    "g = Graph() \n",
    "g.addEdge(0, 1) \n",
    "g.addEdge(0, 2) \n",
    "g.addEdge(1, 0) \n",
    "g.addEdge(1, 2)\n",
    "g.addEdge(1, 3) \n",
    "g.addEdge(2, 0) \n",
    "g.addEdge(2, 2) \n",
    "g.addEdge(2, 3) \n",
    "g.addEdge(3, 1) \n",
    "g.addEdge(3, 2) \n",
    "g.addEdge(3, 4) \n",
    "g.addEdge(3, 5) \n",
    "g.addEdge(4, 2) \n",
    "g.addEdge(4, 3) \n",
    "g.addEdge(5, 3) \n",
    "g.DFS(4)"
   ]
  },
  {
   "cell_type": "code",
   "execution_count": 7,
   "metadata": {},
   "outputs": [
    {
     "data": {
      "text/plain": [
       "[4, 2, 3, 0, 1, 5]"
      ]
     },
     "execution_count": 7,
     "metadata": {},
     "output_type": "execute_result"
    }
   ],
   "source": [
    "g = Graph() \n",
    "g.addEdge(0, 1) \n",
    "g.addEdge(0, 2) \n",
    "g.addEdge(1, 0) \n",
    "g.addEdge(1, 2)\n",
    "g.addEdge(1, 3) \n",
    "g.addEdge(2, 0) \n",
    "g.addEdge(2, 2) \n",
    "g.addEdge(2, 3) \n",
    "g.addEdge(3, 1) \n",
    "g.addEdge(3, 2) \n",
    "g.addEdge(3, 4) \n",
    "g.addEdge(3, 5) \n",
    "g.addEdge(4, 2) \n",
    "g.addEdge(4, 3) \n",
    "g.addEdge(5, 3) \n",
    "g.BFS(4)"
   ]
  },
  {
   "cell_type": "code",
   "execution_count": null,
   "metadata": {},
   "outputs": [],
   "source": []
  }
 ],
 "metadata": {
  "kernelspec": {
   "display_name": "Python 3",
   "language": "python",
   "name": "python3"
  },
  "language_info": {
   "codemirror_mode": {
    "name": "ipython",
    "version": 3
   },
   "file_extension": ".py",
   "mimetype": "text/x-python",
   "name": "python",
   "nbconvert_exporter": "python",
   "pygments_lexer": "ipython3",
   "version": "3.7.4"
  }
 },
 "nbformat": 4,
 "nbformat_minor": 2
}
