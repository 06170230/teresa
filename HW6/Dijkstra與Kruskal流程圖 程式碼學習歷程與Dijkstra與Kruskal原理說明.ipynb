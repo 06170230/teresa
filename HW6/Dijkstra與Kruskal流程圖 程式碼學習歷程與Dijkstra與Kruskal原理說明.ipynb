{
 "cells": [
  {
   "cell_type": "code",
   "execution_count": null,
   "metadata": {},
   "outputs": [],
   "source": [
    "流程圖參考資料:http://alrightchiu.github.io/SecondRound/single-source-shortest-pathdijkstras-algorithm.html\n",
    "http://puremonkey2010.blogspot.com/2013/05/alg-info-dijkstras-algorithm-shortest.html\n",
    "\n",
    "原理比較參考資料:https://www.google.com/url?sa=t&rct=j&q=&esrc=s&source=web&cd=6&cad=rja&uact=8&ved=2ahUKEwjK8su60-fmAhWmw4sBHZ9zBuIQwqsBMAV6BAgLEAc&url=https%3A%2F%2Fwww.youtube.com%2Fwatch%3Fv%3DgdmfOwyQlcI&usg=AOvVaw0y3CQPr4OCKESKCdvPViOI\n",
    "https://web.stanford.edu/class/archive/cs/cs106b/cs106b.1198/lectures/Lecture24/Lecture24.pdf\n",
    "\n",
    "程式碼參考資料: https://medium.com/@farruk/practical-dijkstras-algorithm-b329ade79a1e\n",
    "https://cp-algorithms.com/graph/dijkstra.html"
   ]
  },
  {
   "cell_type": "code",
   "execution_count": null,
   "metadata": {},
   "outputs": [],
   "source": [
    "Dijkstra與Kruskal流程圖:"
   ]
  },
  {
   "cell_type": "code",
   "execution_count": null,
   "metadata": {},
   "outputs": [],
   "source": [
    "Dijkstra流程圖:"
   ]
  },
  {
   "cell_type": "code",
   "execution_count": 2,
   "metadata": {},
   "outputs": [
    {
     "data": {
      "text/html": [
       "<img src=\"https://github.com/Teresakao0421/teresa/blob/master/images/D.jpg?raw=true\"/>"
      ],
      "text/plain": [
       "<IPython.core.display.Image object>"
      ]
     },
     "execution_count": 2,
     "metadata": {},
     "output_type": "execute_result"
    }
   ],
   "source": [
    "from IPython.display import Image\n",
    "from IPython.core.display import HTML\n",
    "Image(url= \"https://github.com/Teresakao0421/teresa/blob/master/images/D.jpg?raw=true\")"
   ]
  },
  {
   "cell_type": "code",
   "execution_count": null,
   "metadata": {},
   "outputs": [],
   "source": [
    "Kruskal流程圖:"
   ]
  },
  {
   "cell_type": "code",
   "execution_count": 3,
   "metadata": {},
   "outputs": [
    {
     "data": {
      "text/html": [
       "<img src=\"https://github.com/Teresakao0421/teresa/blob/master/images/k.jpg?raw=true\"/>"
      ],
      "text/plain": [
       "<IPython.core.display.Image object>"
      ]
     },
     "execution_count": 3,
     "metadata": {},
     "output_type": "execute_result"
    }
   ],
   "source": [
    "from IPython.display import Image\n",
    "from IPython.core.display import HTML\n",
    "Image(url= \"https://github.com/Teresakao0421/teresa/blob/master/images/k.jpg?raw=true\")"
   ]
  },
  {
   "cell_type": "code",
   "execution_count": null,
   "metadata": {},
   "outputs": [],
   "source": [
    "Dijkstra與Kruskal原理說明:"
   ]
  },
  {
   "cell_type": "code",
   "execution_count": null,
   "metadata": {},
   "outputs": [],
   "source": [
    "Dijkstra's algorithm:\n",
    "戴克斯特拉算法使用了廣度優先搜尋解決賦權有向圖的單源最短路徑問題。\n",
    "該演算法存在很多變體；戴克斯特拉的原始版本找到兩個頂點之間的最短路徑，\n",
    "但是更常見的變體固定了一個頂點作為源節點然後找到該頂點到圖中所有其它節點的最短路徑，\n",
    "產生一個最短路徑樹。\n",
    "\n",
    "最壞空間複雜度:O(|E|+|V|log|V|)\n",
    "\n",
    "Kruskal's algorithm:\n",
    "Kruskal演算法是一種用來尋找最小生成樹的演算法,\n",
    "在圖中存在相同權值的邊時也有效。\n",
    "是以增加邊的觀念做為出發點。\n",
    "首先將所有的邊，依照權重的大小排序。\n",
    "再來依序加入權重最小的邊，如果 造成cycle時，則必須捨棄，直到增加了n - 1條邊為止。\n",
    "(假設有 n 個節點)\n",
    "\n",
    "平均時間複雜度:O(|E|log|V|)\n",
    "最壞空間複雜度:Ω(|E|+|V|)"
   ]
  },
  {
   "cell_type": "code",
   "execution_count": null,
   "metadata": {},
   "outputs": [],
   "source": [
    "學習歷程:"
   ]
  },
  {
   "cell_type": "code",
   "execution_count": 2,
   "metadata": {},
   "outputs": [],
   "source": [
    "graph = {\n",
    "    \"A\":{\"B\":5,\"C\":1},\n",
    "    \"B\":{\"A\":5,\"C\":2,\"D\":1},\n",
    "    \"C\":{\"A\":1,\"B\":2,\"D\":4,\"E\":8},\n",
    "    \"D\":{\"B\":1,\"C\":4,\"E\":3,\"F\":6},\n",
    "    \"E\":{\"C\":8,\"D\":3},\n",
    "    \"F\":{\"D\":6}\n",
    "}"
   ]
  },
  {
   "cell_type": "code",
   "execution_count": 3,
   "metadata": {},
   "outputs": [
    {
     "data": {
      "text/plain": [
       "{'B': 5, 'C': 1}"
      ]
     },
     "execution_count": 3,
     "metadata": {},
     "output_type": "execute_result"
    }
   ],
   "source": [
    "graph[\"A\"]"
   ]
  },
  {
   "cell_type": "code",
   "execution_count": 4,
   "metadata": {},
   "outputs": [
    {
     "data": {
      "text/plain": [
       "5"
      ]
     },
     "execution_count": 4,
     "metadata": {},
     "output_type": "execute_result"
    }
   ],
   "source": [
    "graph[\"A\"][\"B\"]"
   ]
  },
  {
   "cell_type": "code",
   "execution_count": 5,
   "metadata": {},
   "outputs": [
    {
     "data": {
      "text/plain": [
       "1"
      ]
     },
     "execution_count": 5,
     "metadata": {},
     "output_type": "execute_result"
    }
   ],
   "source": [
    "graph[\"A\"][\"C\"]"
   ]
  },
  {
   "cell_type": "code",
   "execution_count": 6,
   "metadata": {},
   "outputs": [
    {
     "data": {
      "text/plain": [
       "2"
      ]
     },
     "execution_count": 6,
     "metadata": {},
     "output_type": "execute_result"
    }
   ],
   "source": [
    "graph[\"B\"][\"C\"]"
   ]
  },
  {
   "cell_type": "code",
   "execution_count": null,
   "metadata": {},
   "outputs": [],
   "source": [
    "from collections import defaultdict \n",
    "import heapq\n",
    "#Class to represent a graph \n",
    "class Graph(): \n",
    "\n",
    "    def __init__(self, vertices): \n",
    "        self.V = vertices \n",
    "        self.graph = [] \n",
    "        self.graph_matrix = [[0 for column in range(vertices)]  \n",
    "                    for row in range(vertices)] \n",
    "    def addEdge(self,u,v,w): \n",
    "    def Dijkstra(self, s):\n",
    "        pqueue = []#數組\n",
    "        pqueue.append(s)\n",
    "        seen = []#看一下我們訪問了哪些節點:數組\n",
    "        seen.append(s) #{}是一個集合\n",
    "        parent = {s : None}\n",
    "        distance = {s:0}\n",
    "        \n",
    "        while(len(pqueue))\n",
    "        "
   ]
  },
  {
   "cell_type": "code",
   "execution_count": 9,
   "metadata": {},
   "outputs": [],
   "source": [
    "#正確\n",
    "from collections import defaultdict \n",
    "import heapq\n",
    "import math\n",
    "#Class to represent a graph \n",
    "class Graph(): \n",
    "\n",
    "    def __init__(self, vertices): \n",
    "        self.V = vertices \n",
    "        self.graph = [] \n",
    "        self.graph_matrix = [[0 for column in range(vertices)]  \n",
    "                    for row in range(vertices)] \n",
    "    def init_distance(self,s):\n",
    "        distance = {s: 0}\n",
    "        for vtx in self:\n",
    "            if vtx !=s:\n",
    "                distance[vtx] = math.inf\n",
    "        return distance\n",
    "    \n",
    "    #def addEdge(self,u,v,w):\n",
    "        \n",
    "    def Dijkstra(self, s):\n",
    "        pqueue = []#數組\n",
    "        heapq.heappush(pqueue,(0,s))#s的距離是0\n",
    "        seen = []#看一下我們訪問了哪些節點:數組\n",
    "        #seen.append(s) #{}是一個集合\n",
    "        parent = {s : None}\n",
    "        distance = a_distance(self,s)\n",
    "        \n",
    "        while len(queue) > 0:#當我這個隊列裡面有東西時\n",
    "            pair = heapq.heappop(pqueue)\n",
    "            dist = pair[0]\n",
    "            vtx = pair[1]\n",
    "            seen.append(vtx)\n",
    "            nodes = self.self[vtx].keys()#找出所有臨節點\n",
    "            #graph[\"A\"]#A的臨節點\n",
    "            for a in nodes:\n",
    "                if a not in seen:#如果a還沒發掘過就把它放進來\n",
    "                    #seen.append(a)\n",
    "                    if dist + self[vtx][a] < distance[a]:\n",
    "                        heapq.heappush(pqueue, (dist + self[vtx][a],a))\n",
    "                        #queue.append(a)\n",
    "                        parent[a] = vtx\n",
    "                        distance[a] = dist + self[vtx][a]\n",
    "                else:\n",
    "                    pass\n",
    "                \n",
    "        return parent       "
   ]
  },
  {
   "cell_type": "code",
   "execution_count": 3,
   "metadata": {},
   "outputs": [],
   "source": [
    "from collections import defaultdict \n",
    "import heapq\n",
    "import math\n",
    "#Class to represent a graph \n",
    "class Graph(): \n",
    "\n",
    "    def __init__(self, vertices): \n",
    "        self.V = vertices \n",
    "        self.graph = [] \n",
    "        self.graph_matrix = [[0 for column in range(vertices)]  \n",
    "                    for row in range(vertices)] \n",
    "    def init_distance(self,s):\n",
    "        distance = {s: 0}\n",
    "        for vtx in self:\n",
    "            if vtx !=s:\n",
    "                distance[vtx] = math.inf\n",
    "        return distance\n",
    "    \n",
    "    #def addEdge(self,u,v,w):\n",
    "        \n",
    "    def Dijkstra(self, s):\n",
    "        pqueue = []#數組\n",
    "        heapq.heappush(pqueue,(0,s))#s的距離是0\n",
    "        seen = []#看一下我們訪問了哪些節點:數組\n",
    "        #seen.append(s) #{}是一個集合\n",
    "        parent = {s : None}\n",
    "        distance =self.init_distance(self,s)\n",
    "        \n",
    "        while len(queue) > 0:#當我這個隊列裡面有東西時\n",
    "            pair = heapq.heappop(pqueue)\n",
    "            dist = pair[0]\n",
    "            vtx = pair[1]\n",
    "            seen.append(vtx)\n",
    "            nodes = self.self[vtx].keys()#找出所有臨節點\n",
    "            #graph[\"A\"]#A的臨節點\n",
    "            for a in nodes:\n",
    "                if a not in seen:#如果a還沒發掘過就把它放進來\n",
    "                    #seen.append(a)\n",
    "                    if dist + self[vtx][a] < distance[a]:\n",
    "                        heapq.heappush(pqueue, (dist + self[vtx][a],a))\n",
    "                        #queue.append(a)\n",
    "                        parent[a] = vtx\n",
    "                        distance[a] = dist + self[vtx][a]\n",
    "                else:\n",
    "                    pass\n",
    "                \n",
    "        return parent,distance     \n",
    "    \n",
    "    def Kruskal(self):\n",
    "        list = []\n",
    "        if self.nodenum <= 0 or self.edgenum < self.nodenum - 1:\n",
    "            return list\n",
    "\n",
    "        edge_list = []\n",
    "        for i in range(self.nodenum):\n",
    "            for j in range(i, self.nodenum):\n",
    "                if self.Matrix[i][j] < 9999:\n",
    "                    edge_list.append([i, j, self.Matrix[i][j]])\n",
    "        edge_list.sort(key=lambda a: a[2])  #已經排好序的邊集合\n",
    "\n",
    "        group = [[i] for i in range(self.nodenum)]#列表解析:根據已有列表，高效創建新列表的方式\n",
    "        for edge in edge_list:\n",
    "            for i in range(len(group)):\n",
    "                if edge[0] in group[i]:\n",
    "                    m = i\n",
    "                if edge[1] in group[i]:\n",
    "                    n = i\n",
    "            if m != n:\n",
    "                list.append(edge)\n",
    "                group[m] = group[m] + group[n]\n",
    "                group[n] = []\n",
    "        return list"
   ]
  },
  {
   "cell_type": "code",
   "execution_count": 4,
   "metadata": {},
   "outputs": [
    {
     "ename": "TypeError",
     "evalue": "init_distance() takes 2 positional arguments but 3 were given",
     "output_type": "error",
     "traceback": [
      "\u001b[0;31m---------------------------------------------------------------------------\u001b[0m",
      "\u001b[0;31mTypeError\u001b[0m                                 Traceback (most recent call last)",
      "\u001b[0;32m<ipython-input-4-52586aba4f93>\u001b[0m in \u001b[0;36m<module>\u001b[0;34m\u001b[0m\n\u001b[1;32m     10\u001b[0m           \u001b[0;34m[\u001b[0m\u001b[0;36m0\u001b[0m\u001b[0;34m,\u001b[0m\u001b[0;36m0\u001b[0m\u001b[0;34m,\u001b[0m\u001b[0;36m2\u001b[0m\u001b[0;34m,\u001b[0m\u001b[0;36m0\u001b[0m\u001b[0;34m,\u001b[0m\u001b[0;36m0\u001b[0m\u001b[0;34m,\u001b[0m\u001b[0;36m0\u001b[0m\u001b[0;34m,\u001b[0m\u001b[0;36m6\u001b[0m\u001b[0;34m,\u001b[0m\u001b[0;36m7\u001b[0m\u001b[0;34m,\u001b[0m\u001b[0;36m0\u001b[0m\u001b[0;34m]\u001b[0m\u001b[0;34m\u001b[0m\u001b[0;34m\u001b[0m\u001b[0m\n\u001b[1;32m     11\u001b[0m           ];\n\u001b[0;32m---> 12\u001b[0;31m \u001b[0mprint\u001b[0m\u001b[0;34m(\u001b[0m\u001b[0;34m\"Dijkstra\"\u001b[0m\u001b[0;34m,\u001b[0m\u001b[0mg\u001b[0m\u001b[0;34m.\u001b[0m\u001b[0mDijkstra\u001b[0m\u001b[0;34m(\u001b[0m\u001b[0;36m0\u001b[0m\u001b[0;34m)\u001b[0m\u001b[0;34m)\u001b[0m\u001b[0;34m\u001b[0m\u001b[0;34m\u001b[0m\u001b[0m\n\u001b[0m\u001b[1;32m     13\u001b[0m \u001b[0;34m\u001b[0m\u001b[0m\n\u001b[1;32m     14\u001b[0m \u001b[0mg\u001b[0m \u001b[0;34m=\u001b[0m \u001b[0mGraph\u001b[0m\u001b[0;34m(\u001b[0m\u001b[0;36m4\u001b[0m\u001b[0;34m)\u001b[0m\u001b[0;34m\u001b[0m\u001b[0;34m\u001b[0m\u001b[0m\n",
      "\u001b[0;32m<ipython-input-3-95bce3cd6e5d>\u001b[0m in \u001b[0;36mDijkstra\u001b[0;34m(self, s)\u001b[0m\n\u001b[1;32m     25\u001b[0m         \u001b[0;31m#seen.append(s) #{}是一個集合\u001b[0m\u001b[0;34m\u001b[0m\u001b[0;34m\u001b[0m\u001b[0;34m\u001b[0m\u001b[0m\n\u001b[1;32m     26\u001b[0m         \u001b[0mparent\u001b[0m \u001b[0;34m=\u001b[0m \u001b[0;34m{\u001b[0m\u001b[0ms\u001b[0m \u001b[0;34m:\u001b[0m \u001b[0;32mNone\u001b[0m\u001b[0;34m}\u001b[0m\u001b[0;34m\u001b[0m\u001b[0;34m\u001b[0m\u001b[0m\n\u001b[0;32m---> 27\u001b[0;31m         \u001b[0mdistance\u001b[0m \u001b[0;34m=\u001b[0m\u001b[0mself\u001b[0m\u001b[0;34m.\u001b[0m\u001b[0minit_distance\u001b[0m\u001b[0;34m(\u001b[0m\u001b[0mself\u001b[0m\u001b[0;34m,\u001b[0m\u001b[0ms\u001b[0m\u001b[0;34m)\u001b[0m\u001b[0;34m\u001b[0m\u001b[0;34m\u001b[0m\u001b[0m\n\u001b[0m\u001b[1;32m     28\u001b[0m \u001b[0;34m\u001b[0m\u001b[0m\n\u001b[1;32m     29\u001b[0m         \u001b[0;32mwhile\u001b[0m \u001b[0mlen\u001b[0m\u001b[0;34m(\u001b[0m\u001b[0mqueue\u001b[0m\u001b[0;34m)\u001b[0m \u001b[0;34m>\u001b[0m \u001b[0;36m0\u001b[0m\u001b[0;34m:\u001b[0m\u001b[0;31m#當我這個隊列裡面有東西時\u001b[0m\u001b[0;34m\u001b[0m\u001b[0;34m\u001b[0m\u001b[0m\n",
      "\u001b[0;31mTypeError\u001b[0m: init_distance() takes 2 positional arguments but 3 were given"
     ]
    }
   ],
   "source": [
    "g = Graph(9)\n",
    "g.graph = [[0,4,0,0,0,0,0,8,0],\n",
    "          [4,0,8,0,0,0,0,11,0],\n",
    "          [0,8,0,7,0,4,0,0,2],\n",
    "          [0,0,7,0,9,14,0,0,0],\n",
    "          [0,0,0,9,0,10,0,0,0],\n",
    "          [0,0,4,14,10,0,2,0,0],\n",
    "          [0,0,0,0,0,2,0,1,6],\n",
    "          [8,11,0,0,0,0,1,0,7],\n",
    "          [0,0,2,0,0,0,6,7,0]\n",
    "          ];\n",
    "print(\"Dijkstra\",g.Dijkstra(0))\n",
    "\n",
    "g = Graph(4)\n",
    "g.addEdge(0,1,10)\n",
    "g.addEdge(0,2,6)\n",
    "g.addEdge(0,3,5)\n",
    "g.addEdge(1,3,15)\n",
    "g.addEdge(2,3,4)\n",
    "\n",
    "print(\"Kruskal\",g.Kruskal())"
   ]
  },
  {
   "cell_type": "code",
   "execution_count": 1,
   "metadata": {},
   "outputs": [],
   "source": [
    "from collections import defaultdict \n",
    "import heapq\n",
    "import math\n",
    "#Class to represent a graph \n",
    "class Graph(): \n",
    "\n",
    "    def __init__(self, vertices): \n",
    "        self.V = vertices \n",
    "        self.graph = [] \n",
    "        self.graph_matrix = [[0 for column in range(vertices)]  \n",
    "                    for row in range(vertices)] \n",
    "    def init_distance(self,s):\n",
    "        distance = {s: 0}\n",
    "        for vtx in self:\n",
    "            if vtx !=s:\n",
    "                distance[vtx] = math.inf\n",
    "        return distance\n",
    "    \n",
    "    #def addEdge(self,u,v,w):\n",
    "        \n",
    "    \n",
    "    def Kruskal(self):\n",
    "        list = []\n",
    "        if self.nodenum <= 0 or self.edgenum < self.nodenum - 1:\n",
    "            return list\n",
    "\n",
    "        edge_list = []\n",
    "        for i in range(self.nodenum):\n",
    "            for j in range(i, self.nodenum):\n",
    "                if self.Matrix[i][j] < 9999:\n",
    "                    edge_list.append([i, j, self.Matrix[i][j]])\n",
    "        edge_list.sort(key=lambda a: a[2])  #已經排好序的邊集合\n",
    "\n",
    "        group = [[i] for i in range(self.nodenum)]#列表解析:根據已有列表，高效創建新列表的方式\n",
    "        for edge in edge_list:\n",
    "            for i in range(len(group)):\n",
    "                if edge[0] in group[i]:\n",
    "                    m = i\n",
    "                if edge[1] in group[i]:\n",
    "                    n = i\n",
    "            if m != n:\n",
    "                list.append(edge)\n",
    "                group[m] = group[m] + group[n]\n",
    "                group[n] = []\n",
    "        return list"
   ]
  },
  {
   "cell_type": "code",
   "execution_count": 3,
   "metadata": {},
   "outputs": [
    {
     "ename": "AttributeError",
     "evalue": "'Graph' object has no attribute 'addEdge'",
     "output_type": "error",
     "traceback": [
      "\u001b[0;31m---------------------------------------------------------------------------\u001b[0m",
      "\u001b[0;31mAttributeError\u001b[0m                            Traceback (most recent call last)",
      "\u001b[0;32m<ipython-input-3-200c1d021890>\u001b[0m in \u001b[0;36m<module>\u001b[0;34m\u001b[0m\n\u001b[1;32m     13\u001b[0m \u001b[0;34m\u001b[0m\u001b[0m\n\u001b[1;32m     14\u001b[0m \u001b[0mg\u001b[0m \u001b[0;34m=\u001b[0m \u001b[0mGraph\u001b[0m\u001b[0;34m(\u001b[0m\u001b[0;36m4\u001b[0m\u001b[0;34m)\u001b[0m\u001b[0;34m\u001b[0m\u001b[0;34m\u001b[0m\u001b[0m\n\u001b[0;32m---> 15\u001b[0;31m \u001b[0mg\u001b[0m\u001b[0;34m.\u001b[0m\u001b[0maddEdge\u001b[0m\u001b[0;34m(\u001b[0m\u001b[0;36m0\u001b[0m\u001b[0;34m,\u001b[0m\u001b[0;36m1\u001b[0m\u001b[0;34m,\u001b[0m\u001b[0;36m10\u001b[0m\u001b[0;34m)\u001b[0m\u001b[0;34m\u001b[0m\u001b[0;34m\u001b[0m\u001b[0m\n\u001b[0m\u001b[1;32m     16\u001b[0m \u001b[0mg\u001b[0m\u001b[0;34m.\u001b[0m\u001b[0maddEdge\u001b[0m\u001b[0;34m(\u001b[0m\u001b[0;36m0\u001b[0m\u001b[0;34m,\u001b[0m\u001b[0;36m2\u001b[0m\u001b[0;34m,\u001b[0m\u001b[0;36m6\u001b[0m\u001b[0;34m)\u001b[0m\u001b[0;34m\u001b[0m\u001b[0;34m\u001b[0m\u001b[0m\n\u001b[1;32m     17\u001b[0m \u001b[0mg\u001b[0m\u001b[0;34m.\u001b[0m\u001b[0maddEdge\u001b[0m\u001b[0;34m(\u001b[0m\u001b[0;36m0\u001b[0m\u001b[0;34m,\u001b[0m\u001b[0;36m3\u001b[0m\u001b[0;34m,\u001b[0m\u001b[0;36m5\u001b[0m\u001b[0;34m)\u001b[0m\u001b[0;34m\u001b[0m\u001b[0;34m\u001b[0m\u001b[0m\n",
      "\u001b[0;31mAttributeError\u001b[0m: 'Graph' object has no attribute 'addEdge'"
     ]
    }
   ],
   "source": [
    "g = Graph(9)\n",
    "g.graph = [[0,4,0,0,0,0,0,8,0],\n",
    "          [4,0,8,0,0,0,0,11,0],\n",
    "          [0,8,0,7,0,4,0,0,2],\n",
    "          [0,0,7,0,9,14,0,0,0],\n",
    "          [0,0,0,9,0,10,0,0,0],\n",
    "          [0,0,4,14,10,0,2,0,0],\n",
    "          [0,0,0,0,0,2,0,1,6],\n",
    "          [8,11,0,0,0,0,1,0,7],\n",
    "          [0,0,2,0,0,0,6,7,0]\n",
    "          ];\n",
    "#print(\"Dijkstra\",g.Dijkstra(0))\n",
    "\n",
    "g = Graph(4)\n",
    "g.addEdge(0,1,10)\n",
    "g.addEdge(0,2,6)\n",
    "g.addEdge(0,3,5)\n",
    "g.addEdge(1,3,15)\n",
    "g.addEdge(2,3,4)\n",
    "\n",
    "print(\"Kruskal\",g.Kruskal())"
   ]
  },
  {
   "cell_type": "code",
   "execution_count": 22,
   "metadata": {},
   "outputs": [
    {
     "name": "stdout",
     "output_type": "stream",
     "text": [
      "Kruskal {'2-3': 4, '0-3': 5, '0-1': 10}\n",
      "Dijkstra {'0': 0, '1': 4, '2': 12, '3': 19, '4': 21, '5': 11, '6': 9, '7': 8, '8': 14}\n"
     ]
    }
   ],
   "source": [
    "import sys\n",
    "from collections import defaultdict   \n",
    "class Graph(): \n",
    "  \n",
    "    def __init__(self, vertices): \n",
    "        self.V = vertices \n",
    "        self.graph = []\n",
    "        self.graph_matrix = [[0 for column in range(vertices)]  \n",
    "                    for row in range(vertices)] \n",
    "        self.graph_dict = defaultdict(list)\n",
    "        self.weight = {} # 照權重排序後所有邊=dict\n",
    "        self.pair = [] # 存放邊所連結的點的list，用來拉出邊上的元素\n",
    "        self.list = [] # 存放所有圖中的點的list\n",
    "        self.set = [] # 一開始預設每個節點都是只有自己一個元素的list，用來確認有無可能形成環\n",
    "        \n",
    "    def addEdge(self,u,v,w): \n",
    "        self.graph.append([u,v,w])\n",
    "  \n",
    "    def printS(self, d): \n",
    "        print(\"Dijkstra{\",end = '')\n",
    "        for node in range(self.V): \n",
    "            print (\"\\'\",node,\"\\'\",\":\",d[node],',',end = \"\")\n",
    "        print(\"\\b\",\"}\")\n",
    "  \n",
    "    def mini(self, d, shortarr): \n",
    "  \n",
    "        min = float(\"inf\") \n",
    "        for v in range(self.V): \n",
    "            if d[v] < min and shortarr[v] == False: \n",
    "                min = d[v] \n",
    "                min_index = v \n",
    "        return min_index \n",
    "\n",
    "    def Dijkstra(self, s): \n",
    "  \n",
    "        d = [float(\"inf\")] * self.V\n",
    "        d[s] = 0\n",
    "        shortarr = [False] * self.V \n",
    "        for cout in range(self.V): \n",
    "            u = self.mini(d, shortarr) \n",
    "            shortarr[u] = True\n",
    "            \n",
    "            for v in range(self.V): \n",
    "                if self.graph[u][v] > 0 and shortarr[v] == False and d[v] > d[u] + self.graph[u][v]: \n",
    "                    d[v] = d[u] + self.graph[u][v] \n",
    "\n",
    "        result = {}\n",
    "        for i in range(self.V):\n",
    "            result[str(i)] = d[i]\n",
    "\n",
    "        return result\n",
    "    def transform(self, MST):\n",
    "        temp_MST = {}\n",
    "        for k in range(len(MST.keys())):\n",
    "            key1 = list(MST.keys())[k][0]\n",
    "            key2 = list(MST.keys())[k][1]\n",
    "            value = list(MST.values())[k][0]\n",
    "\n",
    "            if key1 <= key2:\n",
    "                temp_MST.setdefault(str(key1)+'-'+str(key2), value)\n",
    "            else:\n",
    "                temp_MST.setdefault(str(key2)+'-'+str(key1), value)\n",
    "\n",
    "        MST = temp_MST\n",
    "        return MST\n",
    "\n",
    "    def find_index(self, node):\n",
    "        for set_index in range(len(self.set)):\n",
    "            if node in self.set[set_index]:\n",
    "                return set_index\n",
    "    \n",
    "    def sortset(self, u, v):\n",
    "        temp_list = sorted(zip(self.graph_dict.values(), self.graph_dict.keys()))\n",
    "        temp_list_2 = []\n",
    "        \n",
    "        for items in temp_list:\n",
    "            temp_list_2.append(list(items))\n",
    "        \n",
    "        for edges in range(len(temp_list_2)):  \n",
    "            key = temp_list_2[edges][1]\n",
    "            value = temp_list_2[edges][0]\n",
    "            self.weight.setdefault(key, value)\n",
    "        \n",
    "        return self.weight\n",
    "\n",
    "    def addEdge(self, u, v, w): \n",
    "        self.graph_dict[u,v].append(w)        \n",
    "        self.pair.append([u,v])\n",
    "        if u not in self.list:\n",
    "            self.list.append(u)\n",
    "            self.set.append([u])\n",
    "        if v not in self.list:\n",
    "            self.list.append(v)\n",
    "            self.set.append([v])\n",
    "    def Kruskal(self):\n",
    "        MST = {}\n",
    "        for node in range(len(self.pair)):\n",
    "            self.weight = self.sortset(self.pair[node][0], self.pair[node][1])\n",
    "        \n",
    "        for edge in range(len(list(self.weight.keys()))):\n",
    "            node1 = list(self.weight.keys())[edge][0]\n",
    "            node2 = list(self.weight.keys())[edge][1]\n",
    "\n",
    "            node1_setidx = self.find_index(node1)\n",
    "            node2_setidx = self.find_index(node2)\n",
    "            \n",
    "            len_node1_set = len(self.set[node1_setidx])\n",
    "            len_node2_set = len(self.set[node2_setidx])           \n",
    "            if len_node1_set >= len_node2_set:\n",
    "                if node2 not in self.set[node1_setidx]:\n",
    "                    self.set[node1_setidx] += self.set[node2_setidx]\n",
    "                    self.set[node2_setidx] = []\n",
    "                    MST.setdefault(list(self.weight.keys())[edge], list(self.weight.values())[edge])\n",
    "            else:\n",
    "                if node1 not in self.set[node2_setidx]:\n",
    "                    self.set[node2_setidx] += self.set[node1_setidx]\n",
    "                    self.set[node1_setidx] = []\n",
    "                    MST.setdefault(list(self.weight.keys())[edge], list(self.weight.values())[edge])                    \n",
    "        Kruskal_dict = self.transform(MST)\n",
    "        return Kruskal_dict\n",
    "        \n",
    "g = Graph(4) \n",
    "g.addEdge(0, 1, 10) \n",
    "g.addEdge(0, 2, 6) \n",
    "g.addEdge(0, 3, 5) \n",
    "g.addEdge(1, 3, 15) \n",
    "g.addEdge(2, 3, 4)  \n",
    "print(\"Kruskal\",g.Kruskal())\n",
    "\n",
    "\n",
    "g = Graph(9) \n",
    "g.graph = [[0, 4, 0, 0, 0, 0, 0, 8, 0], \n",
    "        [4, 0, 8, 0, 0, 0, 0, 11, 0], \n",
    "        [0, 8, 0, 7, 0, 4, 0, 0, 2], \n",
    "        [0, 0, 7, 0, 9, 14, 0, 0, 0], \n",
    "        [0, 0, 0, 9, 0, 10, 0, 0, 0], \n",
    "        [0, 0, 4, 14, 10, 0, 2, 0, 0], \n",
    "        [0, 0, 0, 0, 0, 2, 0, 1, 6], \n",
    "        [8, 11, 0, 0, 0, 0, 1, 0, 7], \n",
    "        [0, 0, 2, 0, 0, 0, 6, 7, 0] \n",
    "        ]; \n",
    "\n",
    "print('Dijkstra', g.Dijkstra(0))\n"
   ]
  },
  {
   "cell_type": "code",
   "execution_count": null,
   "metadata": {},
   "outputs": [],
   "source": []
  }
 ],
 "metadata": {
  "kernelspec": {
   "display_name": "Python 3",
   "language": "python",
   "name": "python3"
  },
  "language_info": {
   "codemirror_mode": {
    "name": "ipython",
    "version": 3
   },
   "file_extension": ".py",
   "mimetype": "text/x-python",
   "name": "python",
   "nbconvert_exporter": "python",
   "pygments_lexer": "ipython3",
   "version": "3.7.4"
  }
 },
 "nbformat": 4,
 "nbformat_minor": 2
}
